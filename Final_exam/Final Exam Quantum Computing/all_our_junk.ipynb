{
  "nbformat": 4,
  "nbformat_minor": 0,
  "metadata": {
    "colab": {
      "name": "all_our_junk.ipynb",
      "provenance": [],
      "collapsed_sections": []
    },
    "kernelspec": {
      "name": "python3",
      "display_name": "Python 3"
    },
    "language_info": {
      "name": "python"
    }
  },
  "cells": [
    {
      "cell_type": "code",
      "execution_count": null,
      "metadata": {
        "id": "I4-l-2dMWHXb",
        "colab": {
          "base_uri": "https://localhost:8080/"
        },
        "outputId": "d209c9fd-b7f6-420c-f78a-ef32c9749acc"
      },
      "outputs": [
        {
          "output_type": "stream",
          "name": "stdout",
          "text": [
            "\u001b[K     |████████████████████████████████| 1.8 MB 4.3 MB/s \n",
            "\u001b[K     |████████████████████████████████| 541 kB 40.5 MB/s \n",
            "\u001b[?25h  Building wheel for openfermion (setup.py) ... \u001b[?25l\u001b[?25hdone\n",
            "  Building wheel for pubchempy (setup.py) ... \u001b[?25l\u001b[?25hdone\n",
            "\u001b[31mERROR: pip's dependency resolver does not currently take into account all the packages that are installed. This behaviour is the source of the following dependency conflicts.\n",
            "tensorflow 2.8.0 requires tf-estimator-nightly==2.8.0.dev2021122109, which is not installed.\u001b[0m\n"
          ]
        }
      ],
      "source": [
        "try:\n",
        "    import openfermion\n",
        "except ImportError:\n",
        "    !pip install -q git+https://github.com/quantumlib/OpenFermion.git@master#egg=openfermion --quiet\n",
        "\n",
        "#you can ignore the tf error"
      ]
    },
    {
      "cell_type": "code",
      "source": [
        "from openfermion.ops import FermionOperator\n",
        "\n",
        "my_term = FermionOperator(((3, 1), (1, 0)))\n",
        "print(my_term)\n",
        "\n",
        "my_term = FermionOperator('3^ 1')\n",
        "print(my_term)\n",
        "\n",
        "a3 = FermionOperator('3')\n",
        "print(a3)\n",
        "\n",
        "# add operators\n",
        "op1 = FermionOperator( ((3,1), (2,1), (1,0)) , 3. + 2.j)\n",
        "op2 = FermionOperator(((2,0), (4,1)), 1j)\n",
        "op3 = FermionOperator(((2,0), (4,1)), 2j)\n",
        "#inefficient sum: a copy of the summed objects is created. op1 += op2 is more efficient\n",
        "op = op1 + op2 + op3\n",
        "print(op)"
      ],
      "metadata": {
        "colab": {
          "base_uri": "https://localhost:8080/"
        },
        "id": "8HAprNaXWP84",
        "outputId": "0d4956f5-c2c8-4153-cb5c-da90ee73ad2c"
      },
      "execution_count": null,
      "outputs": [
        {
          "output_type": "stream",
          "name": "stdout",
          "text": [
            "1.0 [3^ 1]\n",
            "1.0 [3^ 1]\n",
            "1.0 [3]\n",
            "3j [2 4^] +\n",
            "(3+2j) [3^ 2^ 1]\n"
          ]
        }
      ]
    },
    {
      "cell_type": "markdown",
      "source": [
        "Nel prossimo jw, interessante il metodo eigenspectrum che funziona anche sull'operatore fermionico di partenza."
      ],
      "metadata": {
        "id": "mLWmVjolLWeJ"
      }
    },
    {
      "cell_type": "code",
      "source": [
        "#Jordan Wigner\n",
        "from openfermion.transforms import jordan_wigner, bravyi_kitaev\n",
        "from openfermion.utils import hermitian_conjugated\n",
        "from openfermion.linalg import eigenspectrum\n",
        "\n",
        "op = FermionOperator('1^ 1 3^')\n",
        "op += hermitian_conjugated(op)\n",
        "print(op)\n",
        "\n",
        "jw_op = jordan_wigner(op)\n",
        "print('')\n",
        "print(jw_op)\n",
        "jw_spectrum = eigenspectrum(jw_op)\n",
        "print(jw_spectrum)\n",
        "\n",
        "print(eigenspectrum(op))\n",
        "\n",
        "from openfermion.transforms import reverse_jordan_wigner\n",
        "rev = reverse_jordan_wigner(jw_op)\n",
        "print(rev)"
      ],
      "metadata": {
        "id": "Dq72sUImaE0M",
        "colab": {
          "base_uri": "https://localhost:8080/"
        },
        "outputId": "15fb17a9-0305-4083-edcc-5a01ce228348"
      },
      "execution_count": null,
      "outputs": [
        {
          "output_type": "stream",
          "name": "stdout",
          "text": [
            "1.0 [1^ 1 3^] +\n",
            "1.0 [3 1^ 1]\n",
            "\n",
            "(0.5+0j) [Z0 Z1 Z2 X3] +\n",
            "(-0.5+0j) [Z0 Z2 X3]\n",
            "[-1. -1. -1. -1.  0.  0.  0.  0.  0.  0.  0.  0.  1.  1.  1.  1.]\n",
            "[-1. -1. -1. -1.  0.  0.  0.  0.  0.  0.  0.  0.  1.  1.  1.  1.]\n",
            "(1+0j) [3 1^ 1] +\n",
            "(1+0j) [3^ 1^ 1]\n"
          ]
        }
      ]
    },
    {
      "cell_type": "markdown",
      "source": [
        "https://quantumai.google/openfermion/fqe/tutorials/fermi_hubbard"
      ],
      "metadata": {
        "id": "TPjBhbjEhyoe"
      }
    },
    {
      "cell_type": "code",
      "source": [
        "#do the fermi hubbard Hamiltonian"
      ],
      "metadata": {
        "id": "efzTMnMShxth"
      },
      "execution_count": null,
      "outputs": []
    },
    {
      "cell_type": "code",
      "source": [
        "import openfermion as of\n",
        "\n",
        "N = 4\n",
        "U = 2.0\n",
        "J = -1.0\n",
        "\n",
        "hubbard = of.fermi_hubbard(\n",
        "    1, N, tunneling = -J, coulomb = U, periodic = False\n",
        "    )\n",
        "print(hubbard)"
      ],
      "metadata": {
        "id": "ViE3dlNLh3tf",
        "colab": {
          "base_uri": "https://localhost:8080/"
        },
        "outputId": "781e900a-b62e-4edd-e6ef-18a3c1bba78f"
      },
      "execution_count": null,
      "outputs": [
        {
          "output_type": "stream",
          "name": "stdout",
          "text": [
            "2.0 [0^ 0 1^ 1] +\n",
            "-1.0 [0^ 2] +\n",
            "-1.0 [1^ 3] +\n",
            "-1.0 [2^ 0] +\n",
            "2.0 [2^ 2 3^ 3] +\n",
            "-1.0 [2^ 4] +\n",
            "-1.0 [3^ 1] +\n",
            "-1.0 [3^ 5] +\n",
            "-1.0 [4^ 2] +\n",
            "2.0 [4^ 4 5^ 5] +\n",
            "-1.0 [4^ 6] +\n",
            "-1.0 [5^ 3] +\n",
            "-1.0 [5^ 7] +\n",
            "-1.0 [6^ 4] +\n",
            "2.0 [6^ 6 7^ 7] +\n",
            "-1.0 [7^ 5]\n"
          ]
        }
      ]
    },
    {
      "cell_type": "code",
      "source": [
        "op = FermionOperator( ((1,1), (2,0)), coefficient = J )\n",
        "#fare ciclo for per riprodurre l'Hamiltoniana. Poi della trotterization guarderemo i circuiti\n",
        "#lo spin è un settore di superselezione: l'hopping avviene solo tra qubits con stesso spin, nel vecchio notebook i primi 8 vs altri 8, a volte i pari vs dispari\n",
        "\n",
        "N = 4\n",
        "N_qubits = 2 * N\n",
        "J = 1\n",
        "#devo usare N - 1: ho 0, 1 ,.. ,N -1 per fare N qubits. Raddoppiati per fare spin down\n",
        "for i in range(N_qubits - 2):\n",
        "  print( \n",
        "      FermionOperator(\n",
        "                      ((i,1), (i+1,0)), coefficient = J\n",
        "                      ) \n",
        "      )\n",
        "  \n",
        "H_J = [\n",
        "       op + of.hermitian_conjugated(op) for op in (\n",
        "                       FermionOperator(\n",
        "                                      ((i,1), (i+1,0)), coefficient = -J\n",
        "                                      ) \n",
        "                       for i in range(N_qubits - 2)\n",
        "       )]\n",
        "print(H_J)\n",
        "\n",
        "U = 1.\n",
        "H_U = [\n",
        "       op  for op in \n",
        "      (\n",
        "          FermionOperator(\n",
        "               ((i,1), (i,0), (i+N, 1), (i+N,0)), coefficient = U  \n",
        "               )\n",
        "          for i in range(N)\n",
        "       )\n",
        "]\n",
        "print(H_U)\n",
        "#H_U è una lista di operatori, da sommare tutti\n",
        "print(sum(H_U))"
      ],
      "metadata": {
        "colab": {
          "base_uri": "https://localhost:8080/"
        },
        "id": "CwrfnBGLTriw",
        "outputId": "0b0289d7-5e3c-4b83-eba9-94873a5ea4ad"
      },
      "execution_count": null,
      "outputs": [
        {
          "output_type": "stream",
          "name": "stdout",
          "text": [
            "1 [0^ 1]\n",
            "1 [1^ 2]\n",
            "1 [2^ 3]\n",
            "1 [3^ 4]\n",
            "1 [4^ 5]\n",
            "1 [5^ 6]\n",
            "[-1 [0^ 1] +\n",
            "-1.0 [1^ 0], -1 [1^ 2] +\n",
            "-1.0 [2^ 1], -1 [2^ 3] +\n",
            "-1.0 [3^ 2], -1 [3^ 4] +\n",
            "-1.0 [4^ 3], -1 [4^ 5] +\n",
            "-1.0 [5^ 4], -1 [5^ 6] +\n",
            "-1.0 [6^ 5]]\n",
            "[1.0 [0^ 0 4^ 4], 1.0 [1^ 1 5^ 5], 1.0 [2^ 2 6^ 6], 1.0 [3^ 3 7^ 7]]\n",
            "1.0 [0^ 0 4^ 4] +\n",
            "1.0 [1^ 1 5^ 5] +\n",
            "1.0 [2^ 2 6^ 6] +\n",
            "1.0 [3^ 3 7^ 7]\n"
          ]
        }
      ]
    },
    {
      "cell_type": "code",
      "source": [
        "#His hubbard, number operator is made spin up spin down, so his even sites are spin up and odd are spin down\n",
        "\"\"\"Define the Hamiltonian.\"\"\"\n",
        "# Parameters.\n",
        "nsites = 4\n",
        "U = 1.0\n",
        "J = -1.0\n",
        "\n",
        "hubbard = of.fermi_hubbard(1, nsites, tunneling=-J, coulomb=U, periodic=False)\n",
        "print(hubbard)"
      ],
      "metadata": {
        "id": "4eZGcrriU4wn",
        "colab": {
          "base_uri": "https://localhost:8080/"
        },
        "outputId": "7b623965-e395-4854-d891-e9a8a93ee282"
      },
      "execution_count": null,
      "outputs": [
        {
          "output_type": "stream",
          "name": "stdout",
          "text": [
            "1.0 [0^ 0 1^ 1] +\n",
            "-1.0 [0^ 2] +\n",
            "-1.0 [1^ 3] +\n",
            "-1.0 [2^ 0] +\n",
            "1.0 [2^ 2 3^ 3] +\n",
            "-1.0 [2^ 4] +\n",
            "-1.0 [3^ 1] +\n",
            "-1.0 [3^ 5] +\n",
            "-1.0 [4^ 2] +\n",
            "1.0 [4^ 4 5^ 5] +\n",
            "-1.0 [4^ 6] +\n",
            "-1.0 [5^ 3] +\n",
            "-1.0 [5^ 7] +\n",
            "-1.0 [6^ 4] +\n",
            "1.0 [6^ 6 7^ 7] +\n",
            "-1.0 [7^ 5]\n"
          ]
        }
      ]
    },
    {
      "cell_type": "code",
      "source": [
        "#adapted to his fermi hubbard\n",
        "N = 4\n",
        "N_qubits = 2 * N\n",
        "J = 1\n",
        "#devo usare N - 1: ho 0, 1 ,.. ,N -1 per fare N qubits. Raddoppiati per fare spin down\n",
        "  \n",
        "H_J = [\n",
        "       op + of.hermitian_conjugated(op) for op in (\n",
        "                       FermionOperator(\n",
        "                                      ((i,1), (i+2,0)), coefficient = -J\n",
        "                                      ) \n",
        "                       for i in range(N_qubits - 2)\n",
        "       )]\n",
        "print(H_J)\n",
        "\n",
        "U = 1.\n",
        "H_U = [\n",
        "       op  for op in \n",
        "      (\n",
        "          FermionOperator(\n",
        "               ((i,1), (i,0), (i+1, 1), (i+1,0)), coefficient = U  \n",
        "               )\n",
        "          for i in range(0, N_qubits, 2)\n",
        "       )\n",
        "]\n",
        "print(H_U)\n",
        "\n",
        "assert (sum(H_J) + sum(H_U) == hubbard)\n",
        "\n",
        "print(jordan_wigner(hubbard))"
      ],
      "metadata": {
        "colab": {
          "base_uri": "https://localhost:8080/"
        },
        "id": "alVCiBsiVd5e",
        "outputId": "3a1a6f6c-1866-4ec3-bbdb-b20ace1df88d"
      },
      "execution_count": null,
      "outputs": [
        {
          "output_type": "stream",
          "name": "stdout",
          "text": [
            "[-1 [0^ 2] +\n",
            "-1.0 [2^ 0], -1 [1^ 3] +\n",
            "-1.0 [3^ 1], -1 [2^ 4] +\n",
            "-1.0 [4^ 2], -1 [3^ 5] +\n",
            "-1.0 [5^ 3], -1 [4^ 6] +\n",
            "-1.0 [6^ 4], -1 [5^ 7] +\n",
            "-1.0 [7^ 5]]\n",
            "[1.0 [0^ 0 1^ 1], 1.0 [2^ 2 3^ 3], 1.0 [4^ 4 5^ 5], 1.0 [6^ 6 7^ 7]]\n",
            "(1+0j) [] +\n",
            "(-0.5+0j) [X0 Z1 X2] +\n",
            "(-0.5+0j) [Y0 Z1 Y2] +\n",
            "(-0.25+0j) [Z0] +\n",
            "(0.25+0j) [Z0 Z1] +\n",
            "(-0.5+0j) [X1 Z2 X3] +\n",
            "(-0.5+0j) [Y1 Z2 Y3] +\n",
            "(-0.25+0j) [Z1] +\n",
            "(-0.5+0j) [X2 Z3 X4] +\n",
            "(-0.5+0j) [Y2 Z3 Y4] +\n",
            "(-0.25+0j) [Z2] +\n",
            "(0.25+0j) [Z2 Z3] +\n",
            "(-0.5+0j) [X3 Z4 X5] +\n",
            "(-0.5+0j) [Y3 Z4 Y5] +\n",
            "(-0.25+0j) [Z3] +\n",
            "(-0.5+0j) [X4 Z5 X6] +\n",
            "(-0.5+0j) [Y4 Z5 Y6] +\n",
            "(-0.25+0j) [Z4] +\n",
            "(0.25+0j) [Z4 Z5] +\n",
            "(-0.5+0j) [X5 Z6 X7] +\n",
            "(-0.5+0j) [Y5 Z6 Y7] +\n",
            "(-0.25+0j) [Z5] +\n",
            "(-0.25+0j) [Z6] +\n",
            "(0.25+0j) [Z6 Z7] +\n",
            "(-0.25+0j) [Z7]\n"
          ]
        }
      ]
    },
    {
      "cell_type": "code",
      "source": [
        "#time evolution method 1: directly exponentiate the matrix\n",
        "import scipy\n",
        "initial = of.haar_random_vector(2**N_qubits)\n",
        "\n",
        "time = 1.0\n",
        "\n",
        "#e^(-iHt)\n",
        "exact_state = scipy.sparse.linalg.expm_multiply(-1j * of.get_sparse_operator(hubbard) * time, initial)\n",
        "jw_exact_state = scipy.sparse.linalg.expm_multiply(-1j * of.get_sparse_operator(jordan_wigner(hubbard)) * time, initial)\n",
        "\n",
        "assert (exact_state == jw_exact_state).all() #the representation doesn't matter for get_sparse_operator. Usually confronting things with real coefficients like this is deprecated!"
      ],
      "metadata": {
        "id": "RrCDkehs6g0Z"
      },
      "execution_count": null,
      "outputs": []
    },
    {
      "cell_type": "code",
      "source": [
        "#you can create the unitary matrix that applies the unitary evolution\n",
        "\n",
        "unitary = scipy.sparse.linalg.expm(-1j  * of.get_sparse_operator(hubbard) * time)\n",
        "evolved_state = unitary @ initial\n",
        "print(evolved_state[-10:-1], exact_state[-10 : -1])\n",
        "\n",
        "#now you have to watch out for small errors for real numbers (proceeding as before gives two different things)\n",
        "assert ((evolved_state - exact_state).sum() ) < 1e-7"
      ],
      "metadata": {
        "id": "RPQjDx1VEseU",
        "colab": {
          "base_uri": "https://localhost:8080/"
        },
        "outputId": "233f6b37-a79d-4151-e331-6818a2b6a0d3"
      },
      "execution_count": null,
      "outputs": [
        {
          "output_type": "stream",
          "name": "stdout",
          "text": [
            "[-0.02751809-0.07824658j  0.03740114-0.00541064j  0.02746905+0.03719071j\n",
            " -0.04316288+0.08994833j -0.02274605-0.05221645j  0.01471835+0.0482398j\n",
            "  0.03164544+0.00421877j  0.02609421+0.05469857j  0.00781991+0.02712992j] [-0.02751809-0.07824658j  0.03740114-0.00541064j  0.02746905+0.03719071j\n",
            " -0.04316288+0.08994833j -0.02274605-0.05221645j  0.01471835+0.0482398j\n",
            "  0.03164544+0.00421877j  0.02609421+0.05469857j  0.00781991+0.02712992j]\n"
          ]
        }
      ]
    },
    {
      "cell_type": "markdown",
      "source": [
        "Può essere importante per la presentazione, se usiamo FQE\n",
        "https://opensource.googleblog.com/2021/11/Efficient%20emulation%20of%20quantum%20circuits%20for%20chemistry.html"
      ],
      "metadata": {
        "id": "EaqAAsOJNQ1f"
      }
    },
    {
      "cell_type": "code",
      "source": [
        "try:\n",
        "    import fqe\n",
        "except ImportError:\n",
        "    # TODO: Change to `pip install fqe --quiet` when FQE>0.1.0 is released.\n",
        "    !pip install git+https://github.com/quantumlib/OpenFermion-FQE --quiet\n",
        "\n",
        "import fqe\n",
        "\n"
      ],
      "metadata": {
        "colab": {
          "base_uri": "https://localhost:8080/"
        },
        "id": "W_pSXsSrICbM",
        "outputId": "a2aba51a-66ae-4adb-8dcb-cc3bf96b3dce"
      },
      "execution_count": null,
      "outputs": [
        {
          "output_type": "stream",
          "name": "stdout",
          "text": [
            "  Installing build dependencies ... \u001b[?25l\u001b[?25hdone\n",
            "  Getting requirements to build wheel ... \u001b[?25l\u001b[?25hdone\n",
            "    Preparing wheel metadata ... \u001b[?25l\u001b[?25hdone\n",
            "\u001b[K     |████████████████████████████████| 3.1 MB 4.1 MB/s \n",
            "\u001b[K     |████████████████████████████████| 409 kB 42.4 MB/s \n",
            "\u001b[K     |████████████████████████████████| 1.5 MB 42.8 MB/s \n",
            "\u001b[K     |████████████████████████████████| 131 kB 44.4 MB/s \n",
            "\u001b[K     |████████████████████████████████| 1.3 MB 42.2 MB/s \n",
            "\u001b[K     |████████████████████████████████| 84 kB 3.4 MB/s \n",
            "\u001b[K     |████████████████████████████████| 90 kB 6.7 MB/s \n",
            "\u001b[K     |████████████████████████████████| 100 kB 8.9 MB/s \n",
            "\u001b[K     |████████████████████████████████| 121 kB 50.1 MB/s \n",
            "\u001b[?25h  Building wheel for fqe (PEP 517) ... \u001b[?25l\u001b[?25hdone\n",
            "\u001b[31mERROR: pip's dependency resolver does not currently take into account all the packages that are installed. This behaviour is the source of the following dependency conflicts.\n",
            "tensorflow 2.8.0 requires tf-estimator-nightly==2.8.0.dev2021122109, which is not installed.\n",
            "datascience 0.10.6 requires folium==0.2.1, but you have folium 0.8.3 which is incompatible.\u001b[0m\n"
          ]
        }
      ]
    },
    {
      "cell_type": "code",
      "source": [
        "#evolving with fqe, different from previous approach (which was \"exact\")\n",
        "\n",
        "#need to transform from initial, used in openfermioncirq, to fqe wavefunction\n",
        "\n",
        "fqe_wave =  #to do: initial state\n",
        "    \n",
        "true_evolved_fqe = fqe_wave.time_evolve(time, hubbard)\n",
        "\n",
        "\n",
        "#altra cosa non capita\n",
        "#hopping_matrix = J * (np.diag([1] * (nsites - 1), k=1) + np.diag([1] * (nsites - 1), k=-1))\n",
        "#print(hopping_matrix)\n"
      ],
      "metadata": {
        "colab": {
          "base_uri": "https://localhost:8080/",
          "height": 130
        },
        "id": "zCH96by9OkeC",
        "outputId": "518214ff-44a1-4984-d7b1-2bca771d3696"
      },
      "execution_count": null,
      "outputs": [
        {
          "output_type": "error",
          "ename": "SyntaxError",
          "evalue": "ignored",
          "traceback": [
            "\u001b[0;36m  File \u001b[0;32m\"<ipython-input-13-120c24ffd3c7>\"\u001b[0;36m, line \u001b[0;32m5\u001b[0m\n\u001b[0;31m    fqe_wave =  #to do: initial state\u001b[0m\n\u001b[0m                                     ^\u001b[0m\n\u001b[0;31mSyntaxError\u001b[0m\u001b[0;31m:\u001b[0m invalid syntax\n"
          ]
        }
      ]
    },
    {
      "cell_type": "markdown",
      "source": [
        "Trotter circuit"
      ],
      "metadata": {
        "id": "y5nAoXxyeYfV"
      }
    },
    {
      "cell_type": "code",
      "source": [
        "try:\n",
        "  import cirq\n",
        "except ImportError:\n",
        "  !pip install cirq --quiet\n",
        "\n",
        "try:\n",
        "    import openfermioncirq as ofc\n",
        "except ImportError:\n",
        "    !pip install openfermioncirq --quiet\n",
        "    import openfermioncirq as ofc\n",
        "\n",
        "\n",
        "qubits = cirq.LineQubit.range(N_qubits)\n",
        "\n",
        "trotter = cirq.Circuit(\n",
        "      ofc.simulate_trotter(\n",
        "          qubits, hubbard, time, n_steps = 10, order = 0\n",
        "          )\n",
        "      )\n",
        "\n",
        "print(trotter)\n"
      ],
      "metadata": {
        "id": "F-ny9OljP1fg",
        "colab": {
          "base_uri": "https://localhost:8080/",
          "height": 380
        },
        "outputId": "4b56ca54-3752-4516-dce7-15b72619fbee"
      },
      "execution_count": null,
      "outputs": [
        {
          "output_type": "error",
          "ename": "AttributeError",
          "evalue": "ignored",
          "traceback": [
            "\u001b[0;31m---------------------------------------------------------------------------\u001b[0m",
            "\u001b[0;31mAttributeError\u001b[0m                            Traceback (most recent call last)",
            "\u001b[0;32m<ipython-input-15-19c5ba3ee248>\u001b[0m in \u001b[0;36m<module>\u001b[0;34m()\u001b[0m\n\u001b[1;32m      5\u001b[0m \u001b[0;34m\u001b[0m\u001b[0m\n\u001b[1;32m      6\u001b[0m \u001b[0;32mtry\u001b[0m\u001b[0;34m:\u001b[0m\u001b[0;34m\u001b[0m\u001b[0;34m\u001b[0m\u001b[0m\n\u001b[0;32m----> 7\u001b[0;31m     \u001b[0;32mimport\u001b[0m \u001b[0mopenfermioncirq\u001b[0m \u001b[0;32mas\u001b[0m \u001b[0mofc\u001b[0m\u001b[0;34m\u001b[0m\u001b[0;34m\u001b[0m\u001b[0m\n\u001b[0m\u001b[1;32m      8\u001b[0m \u001b[0;32mexcept\u001b[0m \u001b[0mImportError\u001b[0m\u001b[0;34m:\u001b[0m\u001b[0;34m\u001b[0m\u001b[0;34m\u001b[0m\u001b[0m\n\u001b[1;32m      9\u001b[0m     \u001b[0mget_ipython\u001b[0m\u001b[0;34m(\u001b[0m\u001b[0;34m)\u001b[0m\u001b[0;34m.\u001b[0m\u001b[0msystem\u001b[0m\u001b[0;34m(\u001b[0m\u001b[0;34m'pip install openfermioncirq --quiet'\u001b[0m\u001b[0;34m)\u001b[0m\u001b[0;34m\u001b[0m\u001b[0;34m\u001b[0m\u001b[0m\n",
            "\u001b[0;32m/usr/local/lib/python3.7/dist-packages/openfermioncirq/__init__.py\u001b[0m in \u001b[0;36m<module>\u001b[0;34m()\u001b[0m\n\u001b[1;32m     11\u001b[0m \u001b[0;31m# limitations under the License.\u001b[0m\u001b[0;34m\u001b[0m\u001b[0;34m\u001b[0m\u001b[0;34m\u001b[0m\u001b[0m\n\u001b[1;32m     12\u001b[0m \u001b[0;34m\u001b[0m\u001b[0m\n\u001b[0;32m---> 13\u001b[0;31m from openfermioncirq.gates import (\n\u001b[0m\u001b[1;32m     14\u001b[0m     \u001b[0mCRxxyy\u001b[0m\u001b[0;34m,\u001b[0m\u001b[0;34m\u001b[0m\u001b[0;34m\u001b[0m\u001b[0m\n\u001b[1;32m     15\u001b[0m     \u001b[0mCRyxxy\u001b[0m\u001b[0;34m,\u001b[0m\u001b[0;34m\u001b[0m\u001b[0;34m\u001b[0m\u001b[0m\n",
            "\u001b[0;32m/usr/local/lib/python3.7/dist-packages/openfermioncirq/gates/__init__.py\u001b[0m in \u001b[0;36m<module>\u001b[0;34m()\u001b[0m\n\u001b[1;32m     12\u001b[0m \u001b[0;34m\"\"\"Gates useful for simulating fermions.\"\"\"\u001b[0m\u001b[0;34m\u001b[0m\u001b[0;34m\u001b[0m\u001b[0m\n\u001b[1;32m     13\u001b[0m \u001b[0;34m\u001b[0m\u001b[0m\n\u001b[0;32m---> 14\u001b[0;31m from openfermioncirq.gates.common_gates import (\n\u001b[0m\u001b[1;32m     15\u001b[0m     \u001b[0mFSWAP\u001b[0m\u001b[0;34m,\u001b[0m\u001b[0;34m\u001b[0m\u001b[0;34m\u001b[0m\u001b[0m\n\u001b[1;32m     16\u001b[0m     \u001b[0mFSwapPowGate\u001b[0m\u001b[0;34m,\u001b[0m\u001b[0;34m\u001b[0m\u001b[0;34m\u001b[0m\u001b[0m\n",
            "\u001b[0;32m/usr/local/lib/python3.7/dist-packages/openfermioncirq/gates/common_gates.py\u001b[0m in \u001b[0;36m<module>\u001b[0;34m()\u001b[0m\n\u001b[1;32m     22\u001b[0m \u001b[0;34m\u001b[0m\u001b[0m\n\u001b[1;32m     23\u001b[0m class FSwapPowGate(cirq.EigenGate, cirq.InterchangeableQubitsGate,\n\u001b[0;32m---> 24\u001b[0;31m                    cirq.TwoQubitGate):\n\u001b[0m\u001b[1;32m     25\u001b[0m     \"\"\"The FSWAP gate, possibly raised to a power.\n\u001b[1;32m     26\u001b[0m \u001b[0;34m\u001b[0m\u001b[0m\n",
            "\u001b[0;31mAttributeError\u001b[0m: module 'cirq' has no attribute 'TwoQubitGate'"
          ]
        }
      ]
    },
    {
      "cell_type": "markdown",
      "source": [
        "Adesso da https://colab.research.google.com/drive/1-oQy0FTtio0P7wUCc3ge7PXlk7aWSAdM"
      ],
      "metadata": {
        "id": "FpwMBmZ8gwWT"
      }
    },
    {
      "cell_type": "code",
      "source": [
        "!pip install openfermion openfermioncirq pyscf openfermionpyscf --quiet"
      ],
      "metadata": {
        "id": "9o5eiAhLe8Xh",
        "colab": {
          "base_uri": "https://localhost:8080/"
        },
        "outputId": "b29d0788-fba3-4248-f1cc-341ab1d757a9"
      },
      "execution_count": null,
      "outputs": [
        {
          "output_type": "stream",
          "name": "stdout",
          "text": [
            "\u001b[K     |████████████████████████████████| 37.5 MB 257 kB/s \n",
            "\u001b[?25h"
          ]
        }
      ]
    },
    {
      "cell_type": "code",
      "source": [
        "import cirq\n",
        "import openfermioncirq as ofc\n",
        "import numpy as np\n",
        "\n",
        "# Initialize qubits\n",
        "qubits = cirq.LineQubit.range(n_qubits)\n",
        "\n",
        "# Create circuit\n",
        "circuit = cirq.Circuit.from_ops(\n",
        "    ofc.simulate_trotter(\n",
        "        qubits, hamiltonian, time,\n",
        "        n_steps=10,\n",
        "        order=0,\n",
        "        algorithm=ofc.trotter.LOW_RANK)\n",
        ")\n",
        "\n",
        "# Apply the circuit to the initial state\n",
        "result = circuit.apply_unitary_effect_to_state(initial_state)\n",
        "\n",
        "print(fidelity)"
      ],
      "metadata": {
        "id": "irXypjQbg4eC",
        "colab": {
          "base_uri": "https://localhost:8080/",
          "height": 380
        },
        "outputId": "8d517a13-ab7a-48ad-d838-c497c0d8ea56"
      },
      "execution_count": null,
      "outputs": [
        {
          "output_type": "error",
          "ename": "AttributeError",
          "evalue": "ignored",
          "traceback": [
            "\u001b[0;31m---------------------------------------------------------------------------\u001b[0m",
            "\u001b[0;31mAttributeError\u001b[0m                            Traceback (most recent call last)",
            "\u001b[0;32m<ipython-input-18-13685963c53f>\u001b[0m in \u001b[0;36m<module>\u001b[0;34m()\u001b[0m\n\u001b[1;32m      1\u001b[0m \u001b[0;32mimport\u001b[0m \u001b[0mcirq\u001b[0m\u001b[0;34m\u001b[0m\u001b[0;34m\u001b[0m\u001b[0m\n\u001b[0;32m----> 2\u001b[0;31m \u001b[0;32mimport\u001b[0m \u001b[0mopenfermioncirq\u001b[0m \u001b[0;32mas\u001b[0m \u001b[0mofc\u001b[0m\u001b[0;34m\u001b[0m\u001b[0;34m\u001b[0m\u001b[0m\n\u001b[0m\u001b[1;32m      3\u001b[0m \u001b[0;32mimport\u001b[0m \u001b[0mnumpy\u001b[0m \u001b[0;32mas\u001b[0m \u001b[0mnp\u001b[0m\u001b[0;34m\u001b[0m\u001b[0;34m\u001b[0m\u001b[0m\n\u001b[1;32m      4\u001b[0m \u001b[0;34m\u001b[0m\u001b[0m\n\u001b[1;32m      5\u001b[0m \u001b[0;31m# Initialize qubits\u001b[0m\u001b[0;34m\u001b[0m\u001b[0;34m\u001b[0m\u001b[0;34m\u001b[0m\u001b[0m\n",
            "\u001b[0;32m/usr/local/lib/python3.7/dist-packages/openfermioncirq/__init__.py\u001b[0m in \u001b[0;36m<module>\u001b[0;34m()\u001b[0m\n\u001b[1;32m     11\u001b[0m \u001b[0;31m# limitations under the License.\u001b[0m\u001b[0;34m\u001b[0m\u001b[0;34m\u001b[0m\u001b[0;34m\u001b[0m\u001b[0m\n\u001b[1;32m     12\u001b[0m \u001b[0;34m\u001b[0m\u001b[0m\n\u001b[0;32m---> 13\u001b[0;31m from openfermioncirq.gates import (\n\u001b[0m\u001b[1;32m     14\u001b[0m     \u001b[0mCRxxyy\u001b[0m\u001b[0;34m,\u001b[0m\u001b[0;34m\u001b[0m\u001b[0;34m\u001b[0m\u001b[0m\n\u001b[1;32m     15\u001b[0m     \u001b[0mCRyxxy\u001b[0m\u001b[0;34m,\u001b[0m\u001b[0;34m\u001b[0m\u001b[0;34m\u001b[0m\u001b[0m\n",
            "\u001b[0;32m/usr/local/lib/python3.7/dist-packages/openfermioncirq/gates/__init__.py\u001b[0m in \u001b[0;36m<module>\u001b[0;34m()\u001b[0m\n\u001b[1;32m     12\u001b[0m \u001b[0;34m\"\"\"Gates useful for simulating fermions.\"\"\"\u001b[0m\u001b[0;34m\u001b[0m\u001b[0;34m\u001b[0m\u001b[0m\n\u001b[1;32m     13\u001b[0m \u001b[0;34m\u001b[0m\u001b[0m\n\u001b[0;32m---> 14\u001b[0;31m from openfermioncirq.gates.common_gates import (\n\u001b[0m\u001b[1;32m     15\u001b[0m     \u001b[0mFSWAP\u001b[0m\u001b[0;34m,\u001b[0m\u001b[0;34m\u001b[0m\u001b[0;34m\u001b[0m\u001b[0m\n\u001b[1;32m     16\u001b[0m     \u001b[0mFSwapPowGate\u001b[0m\u001b[0;34m,\u001b[0m\u001b[0;34m\u001b[0m\u001b[0;34m\u001b[0m\u001b[0m\n",
            "\u001b[0;32m/usr/local/lib/python3.7/dist-packages/openfermioncirq/gates/common_gates.py\u001b[0m in \u001b[0;36m<module>\u001b[0;34m()\u001b[0m\n\u001b[1;32m     22\u001b[0m \u001b[0;34m\u001b[0m\u001b[0m\n\u001b[1;32m     23\u001b[0m class FSwapPowGate(cirq.EigenGate, cirq.InterchangeableQubitsGate,\n\u001b[0;32m---> 24\u001b[0;31m                    cirq.TwoQubitGate):\n\u001b[0m\u001b[1;32m     25\u001b[0m     \"\"\"The FSWAP gate, possibly raised to a power.\n\u001b[1;32m     26\u001b[0m \u001b[0;34m\u001b[0m\u001b[0m\n",
            "\u001b[0;31mAttributeError\u001b[0m: module 'cirq' has no attribute 'TwoQubitGate'"
          ]
        }
      ]
    },
    {
      "cell_type": "markdown",
      "source": [
        "# Initial State Preparation\n"
      ],
      "metadata": {
        "id": "LO26vS0rk7SW"
      }
    },
    {
      "cell_type": "code",
      "source": [
        "import openfermion as of\n",
        "from itertools import product\n",
        "\n",
        "N = 2\n",
        "\n",
        "for i in (product(range(2 * N), repeat=2)):\n",
        "  print(i)\n",
        "#simplified example to show this produces tuples, used in a clever way it can reproduce the layout\n",
        "#might be better to do it manually/do something starting from the layout itself\n",
        "\n"
      ],
      "metadata": {
        "id": "4K4S2nd3g5OV",
        "colab": {
          "base_uri": "https://localhost:8080/"
        },
        "outputId": "a7bb3084-7e3a-4618-e995-b0f59eccfedc"
      },
      "execution_count": null,
      "outputs": [
        {
          "output_type": "stream",
          "name": "stdout",
          "text": [
            "(0, 0)\n",
            "(0, 1)\n",
            "(0, 2)\n",
            "(0, 3)\n",
            "(1, 0)\n",
            "(1, 1)\n",
            "(1, 2)\n",
            "(1, 3)\n",
            "(2, 0)\n",
            "(2, 1)\n",
            "(2, 2)\n",
            "(2, 3)\n",
            "(3, 0)\n",
            "(3, 1)\n",
            "(3, 2)\n",
            "(3, 3)\n"
          ]
        }
      ]
    },
    {
      "cell_type": "markdown",
      "source": [
        "# Cella di Partenza, prepara lo Stato Iniziale"
      ],
      "metadata": {
        "id": "BdK7PI_gyyZc"
      }
    },
    {
      "cell_type": "code",
      "source": [
        "try:\n",
        "    import openfermion\n",
        "except ImportError:\n",
        "    !pip install -q git+https://github.com/quantumlib/OpenFermion.git@master#egg=openfermion\n",
        "\n",
        "import openfermion as of\n",
        "from openfermion import FermionOperator\n",
        "import numpy as np\n",
        "\n",
        "N = 8\n",
        "N_qubits = 2 * N\n",
        "J = 1\n",
        "#devo usare N - 1: ho 0, 1 ,.. ,N -1 per fare N qubits. Raddoppiati per fare spin down\n",
        "  \n",
        "H_J = [\n",
        "       op + of.hermitian_conjugated(op) for op in (\n",
        "                       FermionOperator(\n",
        "                                      ((i,1), (i+2,0)), coefficient = -J\n",
        "                                      ) \n",
        "                       for i in range(N_qubits - 2)\n",
        "       )]\n",
        "\n",
        "#only spin up, with coefficients drawn from a gaussian\n",
        "L = 4\n",
        "m = 4.5\n",
        "sigma = 1\n",
        "\n",
        "epsilon = [-4 * np.random.normal(loc = m,  scale = sigma) for i in range(N)]\n",
        "H_epsilon = [\n",
        "       op  for op in \n",
        "      (\n",
        "          FermionOperator(\n",
        "               ((i,1), (i,0)), coefficient = epsilon[int(i/2)]\n",
        "               )\n",
        "          for i in range(0, N_qubits, 2)\n",
        "       )\n",
        "]\n",
        "\n",
        "H_initial = sum(H_J) + sum(H_epsilon)\n",
        "\n",
        "sparse_init = of.get_sparse_operator(H_initial)\n",
        "\n",
        "import scipy.sparse\n",
        "    \n",
        "eigs, eigvec = scipy.sparse.linalg.eigsh(sparse_init, k = 1)\n",
        "\n",
        "#eigvec[:, 0] or I have [ [...] ] with eigvec[:]\n",
        "\n",
        "try:\n",
        "    import fqe\n",
        "except ImportError:\n",
        "    # TODO: Change to `pip install fqe --quiet` when FQE>0.1.0 is released.\n",
        "    !pip install git+https://github.com/quantumlib/OpenFermion-FQE --quiet\n",
        "    import fqe\n",
        "\n",
        "\n",
        "print(eigvec[:, 0])\n",
        "#if you want to do the evolution with the fermionic quantum emulator\n",
        "initial_wave_fqe = fqe.from_cirq(eigvec[:, 0].flatten(), thresh=1.0E-12) \n",
        "initial_wave = eigvec[:, 0]"
      ],
      "metadata": {
        "colab": {
          "base_uri": "https://localhost:8080/"
        },
        "id": "S6z2-0DjsGwd",
        "outputId": "8f2a02fc-d341-458f-bc71-760b8438cf6a"
      },
      "execution_count": null,
      "outputs": [
        {
          "output_type": "stream",
          "name": "stdout",
          "text": [
            "[-1.22942789e-18-1.66767329e-21j  4.10189535e-18+7.35250112e-18j\n",
            " -5.26967853e-20-4.81568163e-19j ...  1.05505944e-16-4.47617261e-17j\n",
            " -1.88382088e-16-4.70372307e-16j -9.72711942e-16+4.15035303e-16j]\n"
          ]
        }
      ]
    },
    {
      "cell_type": "code",
      "source": [
        "#hamiltonian of the systems which will evolve\n",
        "H_J = [\n",
        "       op + of.hermitian_conjugated(op) for op in (\n",
        "                       FermionOperator(\n",
        "                                      ((i,1), (i+2,0)), coefficient = -J\n",
        "                                      ) \n",
        "                       for i in range(N_qubits - 2)\n",
        "       )]\n",
        "\n",
        "U = 1.\n",
        "H_U = [\n",
        "       op  for op in \n",
        "      (\n",
        "          FermionOperator(\n",
        "               ((i,1), (i,0), (i+1, 1), (i+1,0)), coefficient = U  \n",
        "               )\n",
        "          for i in range(0, N_qubits, 2)\n",
        "       )\n",
        "]\n",
        "\n",
        "hubbard_ham = sum(H_J) + sum(H_U)\n",
        "\n",
        "\n",
        "dt = 0.3 \n",
        "trotter_steps = 10\n",
        "\n",
        "\n",
        "#if you want to do exact evolution, but then you won't be able to\n",
        "#see the time evolution, unless you do a for cycle with dt steps\n",
        "time = dt * trotter_steps\n",
        "exact_final_state = scipy.sparse.linalg.expm_multiply(-1j * of.get_sparse_operator(hubbard_ham) * time, initial_wave)\n",
        "\n",
        "#do the trotter steps, with separated J and U terms exponentials\n",
        "hop =  sum(H_J)\n",
        "coulomb = sum(H_U)\n",
        "\n",
        "#copy for the loop, keeping the wfn is also nice\n",
        "wave = initial_wave\n",
        "t = 0\n",
        "\n",
        "for step in range(trotter_steps):\n",
        "\n",
        "  #you can't store the unitary separately with matrices this big \n",
        "  wave = scipy.sparse.linalg.expm_multiply(-1.j * of.get_sparse_operator(hop) * dt, wave)\n",
        "  wave = scipy.sparse.linalg.expm_multiply(-1.j * of.get_sparse_operator(coulomb) * dt, wave)\n",
        "\n",
        "  t += dt\n",
        "  print(t)\n",
        "\n",
        "\n",
        "#FINISH, how do I find the quantities to subtract from the state?\n",
        "\n",
        "\n",
        "\n"
      ],
      "metadata": {
        "id": "vc-NiY_9zRXV",
        "colab": {
          "base_uri": "https://localhost:8080/"
        },
        "outputId": "38d1ef40-4b63-44d4-fb9d-8e24b26add95"
      },
      "execution_count": null,
      "outputs": [
        {
          "output_type": "stream",
          "name": "stdout",
          "text": [
            "0.3\n",
            "0.6\n",
            "0.8999999999999999\n",
            "1.2\n",
            "1.5\n",
            "1.8\n",
            "2.1\n",
            "2.4\n",
            "2.6999999999999997\n",
            "2.9999999999999996\n"
          ]
        }
      ]
    },
    {
      "cell_type": "markdown",
      "source": [
        "# Trotter circuit with ofc"
      ],
      "metadata": {
        "id": "LSG3szk_S5Xt"
      }
    },
    {
      "cell_type": "code",
      "source": [
        "#our time evolution in a trotter circuit; you have to start from initial wave preparation\n",
        "try:\n",
        "    import openfermion as of\n",
        "except ImportError:\n",
        "    !pip install -q git+https://github.com/quantumlib/OpenFermion.git@master#egg=openfermion --quiet\n",
        "    import openfermion as of\n",
        "\n",
        "import cirq\n",
        "from openfermion.circuits import trotter\n",
        "from openfermion import FermionOperator\n",
        "\n",
        "N = 8\n",
        "N_qubits = 2 * N\n",
        "\n",
        "J = 1.\n",
        "H_J = [\n",
        "       op + of.hermitian_conjugated(op) for op in (\n",
        "                       FermionOperator(\n",
        "                                      ((i,1), (i+2,0)), coefficient = -J\n",
        "                                      ) \n",
        "                       for i in range(N_qubits - 2)\n",
        "       )]\n",
        "\n",
        "U = 1.\n",
        "H_U = [\n",
        "       op  for op in \n",
        "      (\n",
        "          FermionOperator(\n",
        "               ((i,1), (i,0), (i+1, 1), (i+1,0)), coefficient = U  \n",
        "               )\n",
        "          for i in range(0, N_qubits, 2)\n",
        "       )\n",
        "]\n",
        "\n",
        "#system hamiltonian\n",
        "hubbard_ham = sum(H_J) + sum(H_U)\n",
        "\n",
        "#qubits\n",
        "qubits = cirq.LineQubit.range(N_qubits)\n",
        "\n",
        "total_t = 1\n",
        "trotter_steps = 3\n",
        "\n",
        "# Compile the low rank Trotter step (only available algorithm for non diagonal matrices) using OpenFermion.\n",
        "#hamiltonian has to be Interaction Operator or DiagonalCoulomb type\n",
        "circuit = cirq.Circuit(\n",
        "    trotter.simulate_trotter(\n",
        "            qubits, of.transforms.get_interaction_operator(hubbard_ham),\n",
        "            time=total_t, n_steps=trotter_steps,\n",
        "            algorithm=trotter.LOW_RANK))\n",
        "\n",
        "# Use Cirq simulator to apply circuit.\n",
        "simulator = cirq.Simulator()\n",
        "result = simulator.simulate(circuit, qubit_order=qubits, initial_state=initial_wave)\n",
        "simulated_state = result.final_state_vector\n",
        "\n",
        "print(simulated_state)\n",
        "\n",
        "# Print circuit.\n",
        "cirq.DropNegligible().optimize_circuit(circuit)\n",
        "print(circuit.to_text_diagram(transpose=False))"
      ],
      "metadata": {
        "id": "mXdbkMKezxWY",
        "colab": {
          "base_uri": "https://localhost:8080/",
          "height": 235
        },
        "outputId": "d52a18f6-c4af-4ac9-9b24-19d4a9fb346e"
      },
      "execution_count": null,
      "outputs": [
        {
          "output_type": "error",
          "ename": "NameError",
          "evalue": "ignored",
          "traceback": [
            "\u001b[0;31m---------------------------------------------------------------------------\u001b[0m",
            "\u001b[0;31mNameError\u001b[0m                                 Traceback (most recent call last)",
            "\u001b[0;32m<ipython-input-18-bb6be512c544>\u001b[0m in \u001b[0;36m<module>\u001b[0;34m()\u001b[0m\n\u001b[1;32m     52\u001b[0m \u001b[0;31m# Use Cirq simulator to apply circuit.\u001b[0m\u001b[0;34m\u001b[0m\u001b[0;34m\u001b[0m\u001b[0;34m\u001b[0m\u001b[0m\n\u001b[1;32m     53\u001b[0m \u001b[0msimulator\u001b[0m \u001b[0;34m=\u001b[0m \u001b[0mcirq\u001b[0m\u001b[0;34m.\u001b[0m\u001b[0mSimulator\u001b[0m\u001b[0;34m(\u001b[0m\u001b[0;34m)\u001b[0m\u001b[0;34m\u001b[0m\u001b[0;34m\u001b[0m\u001b[0m\n\u001b[0;32m---> 54\u001b[0;31m \u001b[0mresult\u001b[0m \u001b[0;34m=\u001b[0m \u001b[0msimulator\u001b[0m\u001b[0;34m.\u001b[0m\u001b[0msimulate\u001b[0m\u001b[0;34m(\u001b[0m\u001b[0mcircuit\u001b[0m\u001b[0;34m,\u001b[0m \u001b[0mqubit_order\u001b[0m\u001b[0;34m=\u001b[0m\u001b[0mqubits\u001b[0m\u001b[0;34m,\u001b[0m \u001b[0minitial_state\u001b[0m\u001b[0;34m=\u001b[0m\u001b[0minitial_wave\u001b[0m\u001b[0;34m)\u001b[0m\u001b[0;34m\u001b[0m\u001b[0;34m\u001b[0m\u001b[0m\n\u001b[0m\u001b[1;32m     55\u001b[0m \u001b[0msimulated_state\u001b[0m \u001b[0;34m=\u001b[0m \u001b[0mresult\u001b[0m\u001b[0;34m.\u001b[0m\u001b[0mfinal_state_vector\u001b[0m\u001b[0;34m\u001b[0m\u001b[0;34m\u001b[0m\u001b[0m\n\u001b[1;32m     56\u001b[0m \u001b[0;34m\u001b[0m\u001b[0m\n",
            "\u001b[0;31mNameError\u001b[0m: name 'initial_wave' is not defined"
          ]
        }
      ]
    },
    {
      "cell_type": "markdown",
      "source": [
        "# Guarda qui Angelica"
      ],
      "metadata": {
        "id": "0Ws7eTJaGaZ1"
      }
    },
    {
      "cell_type": "markdown",
      "source": [
        "I have to understand how to get n,j up and down given the final state. I could evaluate the expectation of my state during the time evolution, using openfermion built ins to do the JWT transformation for n\n",
        "I could also check the same result is obtained with (I- Z)_j * 0.5"
      ],
      "metadata": {
        "id": "lzbYvXbFD_pK"
      }
    },
    {
      "cell_type": "code",
      "source": [
        "from openfermion.transforms import jordan_wigner\n",
        "\n",
        "n_1 = openfermion.FermionOperator( ((1,1), (1,0)), coefficient = -1 )\n",
        "n_1_jw = jordan_wigner(n_1)\n",
        "print (\"jw n1\", n_1_jw)\n",
        "\n",
        "n_1_sparse = openfermion.get_sparse_operator(n_1)\n",
        "\n",
        "print(\"n1\",n_1)\n",
        "#why is there 3,3 now??\n",
        "print(\"sparse n1 jw\", openfermion.get_sparse_operator(n_1_jw))\n",
        "print(\"sparse n1\",openfermion.get_sparse_operator(n_1))\n",
        "\n",
        "N_qubits = 1\n",
        "initial = of.haar_random_vector(4) #if it's not 2^2 = 4 it doesn't work\n",
        "print(initial)\n",
        "\n",
        "#openfermion.linalg.expectation(n_1, initial).real\n",
        "#print(\"exp initial:\", openfermion.expectation(n_1_jw, initial))\n",
        "\n",
        "#!!! non capisco perché voglia un oggetto di dimensione 4 come stato, con solo un operatore di creazione e uno di distruzione\n",
        "state = np.zeros(4)\n",
        "exp = openfermion.linalg.expectation(n_1_sparse, state )\n",
        "print(\"exp\",exp)\n",
        "\n",
        "print(n_1_sparse.shape[0])\n",
        "print(n_1_sparse)\n",
        "\n",
        "print(initial, initial.flatten)\n",
        "\n",
        "#init_wfn_from_diag = fqe.from_cirq(evecs[:, 0].flatten(), thresh=1.0E-12)\n",
        "init_wfn = fqe.from_cirq(initial.flatten(), thresh=1.0E-12)\n",
        "exp = openfermion.linalg.expectation(n_1_sparse, fqe.to_cirq(init_wfn)) #ok it has a dimension mismatch\n",
        "print(\"exp init\",exp)\n",
        "\n",
        "exp = openfermion.linalg.expectation(n_1_sparse, np.array([1, 1, 0, 0])) #what is n_1 mean value on this state? Does it make sense?\n",
        "print(\"exp 1100\", exp)\n",
        "exp = openfermion.linalg.expectation(n_1_sparse, np.array([0, 0, 0, 0])) #what is n_1 mean value on this state? Does it make sense?\n",
        "print(\"exp 0000\", exp)\n",
        "exp = openfermion.linalg.expectation(n_1_sparse, np.array([1, 1, 1, 1])) #what is n_1 mean value on this state? Does it make sense?\n",
        "print(\"exp 1111\", exp)\n",
        "exp = openfermion.linalg.expectation(n_1_sparse, np.array([1, 0, 1, 0])) #what is n_1 mean value on this state? Does it make sense?\n",
        "print(\"exp 1010\", exp)"
      ],
      "metadata": {
        "colab": {
          "base_uri": "https://localhost:8080/"
        },
        "id": "W48H2sv3tL_h",
        "outputId": "7232faa5-a1c8-4374-9de3-f14a1345ac28"
      },
      "execution_count": null,
      "outputs": [
        {
          "output_type": "stream",
          "name": "stdout",
          "text": [
            "jw n1 (-0.5+0j) [] +\n",
            "(0.5+0j) [Z1]\n",
            "n1 -1 [1^ 1]\n",
            "sparse n1 jw   (1, 1)\t(-1+0j)\n",
            "  (3, 3)\t(-1+0j)\n",
            "sparse n1   (1, 1)\t(-1+0j)\n",
            "  (3, 3)\t(-1+0j)\n",
            "[-0.19683409+0.01137028j  0.26758218-0.25893399j -0.24480815-0.65690186j\n",
            "  0.47213969-0.32880549j]\n",
            "exp 0j\n",
            "4\n",
            "  (1, 1)\t(-1+0j)\n",
            "  (3, 3)\t(-1+0j)\n",
            "[-0.19683409+0.01137028j  0.26758218-0.25893399j -0.24480815-0.65690186j\n",
            "  0.47213969-0.32880549j] <built-in method flatten of numpy.ndarray object at 0x7f701f657e10>\n",
            "exp init (-0.4696759745621115+0j)\n",
            "exp 1100 (-1+0j)\n",
            "exp 0000 0j\n",
            "exp 1111 (-2+0j)\n",
            "exp 1010 0j\n"
          ]
        }
      ]
    },
    {
      "cell_type": "code",
      "source": [
        "from openfermion.transforms import jordan_wigner\n",
        "\n",
        "n_1 = openfermion.FermionOperator( ((1,1), (1,0)), coefficient = -1 )\n",
        "n_1_jw = jordan_wigner(n_1)\n",
        "\n",
        "n_1_sparse = openfermion.get_sparse_operator(n_1)\n",
        "\n",
        "print(n_1,'---------', n_1_jw, ',,,,,,,,,', n_1_sparse, '\\n')\n",
        "#why is there 3,3 now??\n",
        "#print(openfermion.get_sparse_operator(n_1_jw, n_qubits = 1)) illegal number of qubits: is it because fermions are up and down -> even qubits?\n",
        "print(openfermion.get_sparse_operator(n_1_jw, n_qubits = 2))\n",
        "\n",
        "print(openfermion.get_sparse_operator(n_1))\n",
        "\n",
        "from openfermion.utils.operator_utils import count_qubits, is_hermitian\n",
        "count_qubits(n_1)"
      ],
      "metadata": {
        "colab": {
          "base_uri": "https://localhost:8080/"
        },
        "id": "tO3pghAARbXS",
        "outputId": "a40dfc92-798e-4642-9f54-a9ad1aaa461e"
      },
      "execution_count": null,
      "outputs": [
        {
          "output_type": "stream",
          "name": "stdout",
          "text": [
            "-1 [1^ 1] --------- (-0.5+0j) [] +\n",
            "(0.5+0j) [Z1] ,,,,,,,,,   (1, 1)\t(-1+0j)\n",
            "  (3, 3)\t(-1+0j) \n",
            "\n",
            "  (1, 1)\t(-1+0j)\n",
            "  (3, 3)\t(-1+0j)\n",
            "  (1, 1)\t(-1+0j)\n",
            "  (3, 3)\t(-1+0j)\n"
          ]
        },
        {
          "output_type": "execute_result",
          "data": {
            "text/plain": [
              "2"
            ]
          },
          "metadata": {},
          "execution_count": 24
        }
      ]
    },
    {
      "cell_type": "code",
      "source": [
        "#result = circuit.final_state_vector(initial_state=0b100) an initialization method that might be useful\n",
        "\n",
        "\n",
        "\n",
        "qubit = cirq.NamedQubit(\"myqubit\")\n",
        "# creates an equal superposition of |0> and |1> when simulated\n",
        "circuit = cirq.Circuit(cirq.H(qubit))\n",
        "# run simulation\n",
        "result = cirq.Simulator().simulate(circuit)\n",
        "\n",
        "print(\"result:\")\n",
        "print(result)\n",
        "\n",
        "#q = cirq.LineQubit.range(4)\n",
        "#circuit = cirq.Circuit([cirq.H.on_each(*q), cirq.measure(*q)])\n",
        "#result = cirq.Simulator().run(circuit, repetitions=100)\n",
        "_ = cirq.plot_state_histogram(result, plt.subplot())\n",
        "plt.show()\n"
      ],
      "metadata": {
        "id": "2eVt1pRI7hcS",
        "colab": {
          "base_uri": "https://localhost:8080/",
          "height": 356
        },
        "outputId": "e403c259-788b-471f-f3ff-bbb680e70b47"
      },
      "execution_count": null,
      "outputs": [
        {
          "output_type": "stream",
          "name": "stdout",
          "text": [
            "result:\n",
            "measurements: (no measurements)\n",
            "\n",
            "qubits: (cirq.NamedQubit('myqubit'),)\n",
            "output vector: 0.707|0⟩ + 0.707|1⟩\n",
            "\n",
            "phase:\n",
            "output vector: |⟩\n"
          ]
        },
        {
          "output_type": "error",
          "ename": "NameError",
          "evalue": "ignored",
          "traceback": [
            "\u001b[0;31m---------------------------------------------------------------------------\u001b[0m",
            "\u001b[0;31mNameError\u001b[0m                                 Traceback (most recent call last)",
            "\u001b[0;32m<ipython-input-26-c019f6a976b2>\u001b[0m in \u001b[0;36m<module>\u001b[0;34m()\u001b[0m\n\u001b[1;32m     15\u001b[0m \u001b[0;31m#circuit = cirq.Circuit([cirq.H.on_each(*q), cirq.measure(*q)])\u001b[0m\u001b[0;34m\u001b[0m\u001b[0;34m\u001b[0m\u001b[0;34m\u001b[0m\u001b[0m\n\u001b[1;32m     16\u001b[0m \u001b[0;31m#result = cirq.Simulator().run(circuit, repetitions=100)\u001b[0m\u001b[0;34m\u001b[0m\u001b[0;34m\u001b[0m\u001b[0;34m\u001b[0m\u001b[0m\n\u001b[0;32m---> 17\u001b[0;31m \u001b[0m_\u001b[0m \u001b[0;34m=\u001b[0m \u001b[0mcirq\u001b[0m\u001b[0;34m.\u001b[0m\u001b[0mplot_state_histogram\u001b[0m\u001b[0;34m(\u001b[0m\u001b[0mresult\u001b[0m\u001b[0;34m,\u001b[0m \u001b[0mplt\u001b[0m\u001b[0;34m.\u001b[0m\u001b[0msubplot\u001b[0m\u001b[0;34m(\u001b[0m\u001b[0;34m)\u001b[0m\u001b[0;34m)\u001b[0m\u001b[0;34m\u001b[0m\u001b[0;34m\u001b[0m\u001b[0m\n\u001b[0m\u001b[1;32m     18\u001b[0m \u001b[0mplt\u001b[0m\u001b[0;34m.\u001b[0m\u001b[0mshow\u001b[0m\u001b[0;34m(\u001b[0m\u001b[0;34m)\u001b[0m\u001b[0;34m\u001b[0m\u001b[0;34m\u001b[0m\u001b[0m\n",
            "\u001b[0;31mNameError\u001b[0m: name 'plt' is not defined"
          ]
        }
      ]
    },
    {
      "cell_type": "code",
      "source": [
        "N = 4\n",
        "U = 2.0\n",
        "J = -1.0\n",
        "\n",
        "hubbard = of.fermi_hubbard(\n",
        "    1, N, tunneling = -J, coulomb = U, periodic = False\n",
        "    )"
      ],
      "metadata": {
        "id": "9Ry5HTU84G4a"
      },
      "execution_count": null,
      "outputs": []
    },
    {
      "cell_type": "markdown",
      "source": [
        "# Trotter circuit da Hamiltoniana\n",
        "What follows is a working example of a Trotter creating circuit.\n",
        "\n",
        "Remember that you can only use Interacting_Operator/Coulomb_Diagonal"
      ],
      "metadata": {
        "id": "bubsGAWDfPCN"
      }
    },
    {
      "cell_type": "code",
      "source": [
        "from openfermion.circuits import trotter\n",
        "import openfermion\n",
        "import cirq\n",
        "\n",
        "# Set Hamiltonian parameters for LiH simulation in active space.\n",
        "diatomic_bond_length = 1.45\n",
        "geometry = [('Li', (0., 0., 0.)), ('H', (0., 0., diatomic_bond_length))]\n",
        "basis = 'sto-3g'\n",
        "multiplicity = 1\n",
        "active_space_start = 1\n",
        "active_space_stop = 3\n",
        "\n",
        "# Generate and populate instance of MolecularData.\n",
        "molecule = openfermion.MolecularData(geometry, basis, multiplicity, description=\"1.45\")\n",
        "molecule.load()\n",
        "\n",
        "# Get the Hamiltonian in an active space.\n",
        "molecular_hamiltonian = molecule.get_molecular_hamiltonian(\n",
        "    occupied_indices=range(active_space_start),\n",
        "    active_indices=range(active_space_start, active_space_stop))\n",
        "print(openfermion.get_fermion_operator(molecular_hamiltonian))\n",
        "\n",
        "\n",
        "random_seed = 8317\n",
        "n_qubits = 4\n",
        "time = 3\n",
        "\n",
        "# Initialize a random initial state.\n",
        "import numpy\n",
        "\n",
        "initial_state = openfermion.haar_random_vector(\n",
        "    2 ** n_qubits, random_seed).astype(numpy.complex64)\n",
        "\n",
        "# Numerically compute the correct circuit output.\n",
        "import scipy\n",
        "hamiltonian_sparse = openfermion.get_sparse_operator(molecular_hamiltonian)\n",
        "exact_state = scipy.sparse.linalg.expm_multiply(\n",
        "    -1j * time * hamiltonian_sparse, initial_state)\n",
        "\n",
        "# Trotter step parameters.\n",
        "n_steps = 3\n",
        "\n",
        "# Compile the low rank Trotter step using OpenFermion.\n",
        "qubits = cirq.LineQubit.range(n_qubits)\n",
        "circuit = cirq.Circuit(\n",
        "    trotter.simulate_trotter(\n",
        "            qubits, molecular_hamiltonian,\n",
        "            time=time, n_steps=n_steps,\n",
        "            algorithm=trotter.LOW_RANK),\n",
        "    strategy=cirq.InsertStrategy.EARLIEST)\n",
        "\n",
        "# Use Cirq simulator to apply circuit.\n",
        "simulator = cirq.Simulator()\n",
        "result = simulator.simulate(circuit, qubit_order=qubits, initial_state=initial_state)\n",
        "simulated_state = result.final_state_vector\n",
        "\n",
        "# Print final fidelity.\n",
        "fidelity = abs(numpy.dot(simulated_state, numpy.conjugate(exact_state))) ** 2\n",
        "print('Fidelity with exact result is {}.\\n'.format(fidelity))\n",
        "\n",
        "# Print circuit.\n",
        "cirq.DropNegligible().optimize_circuit(circuit)\n",
        "print(circuit.to_text_diagram(transpose=True))\n"
      ],
      "metadata": {
        "id": "YDDecqB4ze4i",
        "colab": {
          "base_uri": "https://localhost:8080/"
        },
        "outputId": "3fba3f75-b0ee-4079-966d-452450ac5f80"
      },
      "execution_count": null,
      "outputs": [
        {
          "output_type": "stream",
          "name": "stdout",
          "text": [
            "-6.7698132180879735 [] +\n",
            "-0.7952726864779313 [0^ 0] +\n",
            "0.24889540266275176 [0^ 0^ 0 0] +\n",
            "-0.02307282640154995 [0^ 0^ 0 2] +\n",
            "-0.023072826401549944 [0^ 0^ 2 0] +\n",
            "0.005865992881900444 [0^ 0^ 2 2] +\n",
            "0.24889540266275176 [0^ 1^ 1 0] +\n",
            "-0.02307282640154995 [0^ 1^ 1 2] +\n",
            "-0.023072826401549944 [0^ 1^ 3 0] +\n",
            "0.005865992881900444 [0^ 1^ 3 2] +\n",
            "0.04614563473199314 [0^ 2] +\n",
            "-0.02307282640154995 [0^ 2^ 0 0] +\n",
            "0.005865992881900456 [0^ 2^ 0 2] +\n",
            "0.11412688446849813 [0^ 2^ 2 0] +\n",
            "0.0027487522157917266 [0^ 2^ 2 2] +\n",
            "-0.02307282640154995 [0^ 3^ 1 0] +\n",
            "0.005865992881900456 [0^ 3^ 1 2] +\n",
            "0.11412688446849813 [0^ 3^ 3 0] +\n",
            "0.0027487522157917266 [0^ 3^ 3 2] +\n",
            "0.24889540266275176 [1^ 0^ 0 1] +\n",
            "-0.02307282640154995 [1^ 0^ 0 3] +\n",
            "-0.023072826401549944 [1^ 0^ 2 1] +\n",
            "0.005865992881900444 [1^ 0^ 2 3] +\n",
            "-0.7952726864779313 [1^ 1] +\n",
            "0.24889540266275176 [1^ 1^ 1 1] +\n",
            "-0.02307282640154995 [1^ 1^ 1 3] +\n",
            "-0.023072826401549944 [1^ 1^ 3 1] +\n",
            "0.005865992881900444 [1^ 1^ 3 3] +\n",
            "-0.02307282640154995 [1^ 2^ 0 1] +\n",
            "0.005865992881900456 [1^ 2^ 0 3] +\n",
            "0.11412688446849813 [1^ 2^ 2 1] +\n",
            "0.0027487522157917266 [1^ 2^ 2 3] +\n",
            "0.04614563473199314 [1^ 3] +\n",
            "-0.02307282640154995 [1^ 3^ 1 1] +\n",
            "0.005865992881900456 [1^ 3^ 1 3] +\n",
            "0.11412688446849813 [1^ 3^ 3 1] +\n",
            "0.0027487522157917266 [1^ 3^ 3 3] +\n",
            "0.04614563473199324 [2^ 0] +\n",
            "-0.023072826401549958 [2^ 0^ 0 0] +\n",
            "0.11412688446849814 [2^ 0^ 0 2] +\n",
            "0.005865992881900458 [2^ 0^ 2 0] +\n",
            "0.002748752215791747 [2^ 0^ 2 2] +\n",
            "-0.023072826401549958 [2^ 1^ 1 0] +\n",
            "0.11412688446849814 [2^ 1^ 1 2] +\n",
            "0.005865992881900458 [2^ 1^ 3 0] +\n",
            "0.002748752215791747 [2^ 1^ 3 2] +\n",
            "-0.36549257026798354 [2^ 2] +\n",
            "0.0058659928819004585 [2^ 2^ 0 0] +\n",
            "0.002748752215791731 [2^ 2^ 0 2] +\n",
            "0.002748752215791736 [2^ 2^ 2 0] +\n",
            "0.16959219087341962 [2^ 2^ 2 2] +\n",
            "0.0058659928819004585 [2^ 3^ 1 0] +\n",
            "0.002748752215791731 [2^ 3^ 1 2] +\n",
            "0.002748752215791736 [2^ 3^ 3 0] +\n",
            "0.16959219087341962 [2^ 3^ 3 2] +\n",
            "-0.023072826401549958 [3^ 0^ 0 1] +\n",
            "0.11412688446849814 [3^ 0^ 0 3] +\n",
            "0.005865992881900458 [3^ 0^ 2 1] +\n",
            "0.002748752215791747 [3^ 0^ 2 3] +\n",
            "0.04614563473199324 [3^ 1] +\n",
            "-0.023072826401549958 [3^ 1^ 1 1] +\n",
            "0.11412688446849814 [3^ 1^ 1 3] +\n",
            "0.005865992881900458 [3^ 1^ 3 1] +\n",
            "0.002748752215791747 [3^ 1^ 3 3] +\n",
            "0.0058659928819004585 [3^ 2^ 0 1] +\n",
            "0.002748752215791731 [3^ 2^ 0 3] +\n",
            "0.002748752215791736 [3^ 2^ 2 1] +\n",
            "0.16959219087341962 [3^ 2^ 2 3] +\n",
            "-0.36549257026798354 [3^ 3] +\n",
            "0.0058659928819004585 [3^ 3^ 1 1] +\n",
            "0.002748752215791731 [3^ 3^ 1 3] +\n",
            "0.002748752215791736 [3^ 3^ 3 1] +\n",
            "0.16959219087341962 [3^ 3^ 3 3]\n",
            "Fidelity with exact result is 0.999727695451099.\n",
            "\n",
            "0             1                     2                3\n",
            "│             │                     │                │\n",
            "Rz(π)         Rz(π)                 Rz(π)            Rz(π)\n",
            "│             │                     │                │\n",
            "│             PhISwap(0.25)─────────PhISwap(0.25)^-1 │\n",
            "│             │                     │                │\n",
            "PhISwap(0.25)─PhISwap(0.25)^0.081   │                │\n",
            "│             │                     │                │\n",
            "Rz(0.337π)    │                     PhISwap(0.25)────PhISwap(0.25)^-0.081\n",
            "│             │                     │                │\n",
            "│             PhISwap(0.25)─────────PhISwap(0.25)^-1 │\n",
            "│             │                     │                │\n",
            "│             Rz(0.337π)            │                Rz(0.169π)\n",
            "│             │                     │                │\n",
            "│             │                     Rz(0.169π)       │\n",
            "│             │                     │                │\n",
            "│             │                     │                │\n",
            "│             │                     │                │\n",
            "│             PhISwap(0.25)─────────PhISwap(0.25)^-1 │\n",
            "│             │                     │                │\n",
            "PhISwap(0.25)─PhISwap(0.25)^-0.051  │                │\n",
            "│             │                     │                │\n",
            "│             │                     PhISwap(0.25)────PhISwap(0.25)^0.051\n",
            "│             │                     │                │\n",
            "│             PhISwap(0.25)─────────PhISwap(0.25)^-1 │\n",
            "│             │                     │                │\n",
            "@─────────────@^-0.145              │                │\n",
            "│             │                     │                │\n",
            "×─────────────×                     @────────────────@^(-1/15)\n",
            "│             │                     │                │\n",
            "│             │                     ×────────────────×\n",
            "│             │                     │                │\n",
            "│             @─────────────────────@^-0.098         │\n",
            "│             │                     │                │\n",
            "│             ×─────────────────────×                │\n",
            "│             │                     │                │\n",
            "@─────────────@^-0.098              @────────────────@^-0.098\n",
            "│             │                     │                │\n",
            "×─────────────×                     ×────────────────×\n",
            "│             │                     │                │\n",
            "Rz(-0.033π)   @─────────────────────@^-0.098         Rz(-0.072π)\n",
            "│             │                     │                │\n",
            "│             ×─────────────────────×                │\n",
            "│             │                     │                │\n",
            "│             Rz(-0.033π)           Rz(-0.072π)      │\n",
            "│             │                     │                │\n",
            "│             Rz(π)                 Rz(π)            │\n",
            "│             │                     │                │\n",
            "│             PhISwap(0.25)─────────PhISwap(0.25)^-1 │\n",
            "│             │                     │                │\n",
            "│             │                     PhISwap(0.25)────PhISwap(0.25)^-0.95\n",
            "│             │                     │                │\n",
            "PhISwap(0.25)─PhISwap(0.25)^0.95    │                │\n",
            "│             │                     │                │\n",
            "│             PhISwap(0.25)─────────PhISwap(0.25)^-1 │\n",
            "│             │                     │                │\n",
            "│             │                     @────────────────@^-0.041\n",
            "│             │                     │                │\n",
            "@─────────────@^-0.019              ×────────────────×\n",
            "│             │                     │                │\n",
            "×─────────────×                     │                │\n",
            "│             │                     │                │\n",
            "│             @─────────────────────@^0.028          │\n",
            "│             │                     │                │\n",
            "│             ×─────────────────────×                │\n",
            "│             │                     │                │\n",
            "@─────────────@^0.028               @────────────────@^0.028\n",
            "│             │                     │                │\n",
            "×─────────────×                     ×────────────────×\n",
            "│             │                     │                │\n",
            "Rz(-0.02π)    @─────────────────────@^0.028          Rz(-0.009π)\n",
            "│             │                     │                │\n",
            "Rz(π)         ×─────────────────────×                Rz(π)\n",
            "│             │                     │                │\n",
            "│             Rz(-0.02π)            Rz(-0.009π)      │\n",
            "│             │                     │                │\n",
            "│             │                     │                │\n",
            "│             │                     │                │\n",
            "│             PhISwap(0.25)─────────PhISwap(0.25)^-1 │\n",
            "│             │                     │                │\n",
            "PhISwap(0.25)─PhISwap(0.25)^-0.502  │                │\n",
            "│             │                     │                │\n",
            "│             │                     PhISwap(0.25)────PhISwap(0.25)^0.502\n",
            "│             │                     │                │\n",
            "│             PhISwap(0.25)─────────PhISwap(0.25)^-1 │\n",
            "│             │                     │                │\n",
            "@─────────────@^-0.001              │                │\n",
            "│             │                     │                │\n",
            "×─────────────×                     @────────────────@^-0.001\n",
            "│             │                     │                │\n",
            "│             │                     ×────────────────×\n",
            "│             │                     │                │\n",
            "│             @─────────────────────@^0.001          │\n",
            "│             │                     │                │\n",
            "│             ×─────────────────────×                │\n",
            "│             │                     │                │\n",
            "@─────────────@^0.001               @────────────────@^0.001\n",
            "│             │                     │                │\n",
            "×─────────────×                     ×────────────────×\n",
            "│             │                     │                │\n",
            "Rz(-0.001π)   @─────────────────────@^0.001          Rz(-0.001π)\n",
            "│             │                     │                │\n",
            "Rz(π)         ×─────────────────────×                Rz(π)\n",
            "│             │                     │                │\n",
            "│             Rz(-0.001π)           Rz(-0.001π)      │\n",
            "│             │                     │                │\n",
            "│             │                     │                │\n",
            "│             │                     │                │\n",
            "│             PhISwap(0.25)─────────PhISwap(0.25)^-1 │\n",
            "│             │                     │                │\n",
            "│             │                     PhISwap(0.25)────PhISwap(0.25)^(-5/12)\n",
            "│             │                     │                │\n",
            "PhISwap(0.25)─PhISwap(0.25)^(5/12)  │                Rz(π)\n",
            "│             │                     │                │\n",
            "│             PhISwap(0.25)─────────PhISwap(0.25)^-1 │\n",
            "│             │                     │                │\n",
            "Rz(π)         │                     Rz(π)            │\n",
            "│             │                     │                │\n",
            "│             Rz(π)                 │                │\n",
            "│             │                     │                │\n",
            "│             PhISwap(0.25)─────────PhISwap(0.25)^-1 │\n",
            "│             │                     │                │\n",
            "│             │                     PhISwap(0.25)────PhISwap(0.25)^0.081\n",
            "│             │                     │                │\n",
            "PhISwap(0.25)─PhISwap(0.25)^-0.081  │                Rz(0.337π)\n",
            "│             │                     │                │\n",
            "│             PhISwap(0.25)─────────PhISwap(0.25)^-1 │\n",
            "│             │                     │                │\n",
            "Rz(0.169π)    │                     Rz(0.337π)       │\n",
            "│             │                     │                │\n",
            "│             Rz(0.169π)            │                │\n",
            "│             │                     │                │\n",
            "│             │                     │                │\n",
            "│             │                     │                │\n",
            "│             PhISwap(0.25)─────────PhISwap(0.25)^-1 │\n",
            "│             │                     │                │\n",
            "│             │                     PhISwap(0.25)────PhISwap(0.25)^-0.051\n",
            "│             │                     │                │\n",
            "PhISwap(0.25)─PhISwap(0.25)^0.051   │                │\n",
            "│             │                     │                │\n",
            "│             PhISwap(0.25)─────────PhISwap(0.25)^-1 │\n",
            "│             │                     │                │\n",
            "│             │                     @────────────────@^-0.145\n",
            "│             │                     │                │\n",
            "@─────────────@^(-1/15)             ×────────────────×\n",
            "│             │                     │                │\n",
            "×─────────────×                     │                │\n",
            "│             │                     │                │\n",
            "│             @─────────────────────@^-0.098         │\n",
            "│             │                     │                │\n",
            "│             ×─────────────────────×                │\n",
            "│             │                     │                │\n",
            "@─────────────@^-0.098              @────────────────@^-0.098\n",
            "│             │                     │                │\n",
            "×─────────────×                     ×────────────────×\n",
            "│             │                     │                │\n",
            "Rz(-0.072π)   @─────────────────────@^-0.098         Rz(-0.033π)\n",
            "│             │                     │                │\n",
            "│             ×─────────────────────×                │\n",
            "│             │                     │                │\n",
            "│             Rz(-0.072π)           Rz(-0.033π)      │\n",
            "│             │                     │                │\n",
            "│             Rz(π)                 Rz(π)            │\n",
            "│             │                     │                │\n",
            "│             PhISwap(0.25)─────────PhISwap(0.25)^-1 │\n",
            "│             │                     │                │\n",
            "PhISwap(0.25)─PhISwap(0.25)^-0.95   │                │\n",
            "│             │                     │                │\n",
            "│             │                     PhISwap(0.25)────PhISwap(0.25)^0.95\n",
            "│             │                     │                │\n",
            "│             PhISwap(0.25)─────────PhISwap(0.25)^-1 │\n",
            "│             │                     │                │\n",
            "@─────────────@^-0.041              │                │\n",
            "│             │                     │                │\n",
            "×─────────────×                     @────────────────@^-0.019\n",
            "│             │                     │                │\n",
            "│             │                     ×────────────────×\n",
            "│             │                     │                │\n",
            "│             @─────────────────────@^0.028          │\n",
            "│             │                     │                │\n",
            "│             ×─────────────────────×                │\n",
            "│             │                     │                │\n",
            "@─────────────@^0.028               @────────────────@^0.028\n",
            "│             │                     │                │\n",
            "×─────────────×                     ×────────────────×\n",
            "│             │                     │                │\n",
            "Rz(-0.009π)   @─────────────────────@^0.028          Rz(-0.02π)\n",
            "│             │                     │                │\n",
            "Rz(π)         ×─────────────────────×                Rz(π)\n",
            "│             │                     │                │\n",
            "│             Rz(-0.009π)           Rz(-0.02π)       │\n",
            "│             │                     │                │\n",
            "│             │                     │                │\n",
            "│             │                     │                │\n",
            "│             PhISwap(0.25)─────────PhISwap(0.25)^-1 │\n",
            "│             │                     │                │\n",
            "│             │                     PhISwap(0.25)────PhISwap(0.25)^-0.502\n",
            "│             │                     │                │\n",
            "PhISwap(0.25)─PhISwap(0.25)^0.502   │                │\n",
            "│             │                     │                │\n",
            "│             PhISwap(0.25)─────────PhISwap(0.25)^-1 │\n",
            "│             │                     │                │\n",
            "│             │                     @────────────────@^-0.001\n",
            "│             │                     │                │\n",
            "@─────────────@^-0.001              ×────────────────×\n",
            "│             │                     │                │\n",
            "×─────────────×                     │                │\n",
            "│             │                     │                │\n",
            "│             @─────────────────────@^0.001          │\n",
            "│             │                     │                │\n",
            "│             ×─────────────────────×                │\n",
            "│             │                     │                │\n",
            "@─────────────@^0.001               @────────────────@^0.001\n",
            "│             │                     │                │\n",
            "×─────────────×                     ×────────────────×\n",
            "│             │                     │                │\n",
            "Rz(-0.001π)   @─────────────────────@^0.001          Rz(-0.001π)\n",
            "│             │                     │                │\n",
            "Rz(π)         ×─────────────────────×                Rz(π)\n",
            "│             │                     │                │\n",
            "│             Rz(-0.001π)           Rz(-0.001π)      │\n",
            "│             │                     │                │\n",
            "│             │                     │                │\n",
            "│             │                     │                │\n",
            "│             PhISwap(0.25)─────────PhISwap(0.25)^-1 │\n",
            "│             │                     │                │\n",
            "PhISwap(0.25)─PhISwap(0.25)^(-5/12) │                │\n",
            "│             │                     │                │\n",
            "Rz(π)         │                     PhISwap(0.25)────PhISwap(0.25)^(5/12)\n",
            "│             │                     │                │\n",
            "│             PhISwap(0.25)─────────PhISwap(0.25)^-1 │\n",
            "│             │                     │                │\n",
            "│             Rz(π)                 │                Rz(π)\n",
            "│             │                     │                │\n",
            "│             │                     Rz(π)            │\n",
            "│             │                     │                │\n",
            "│             PhISwap(0.25)─────────PhISwap(0.25)^-1 │\n",
            "│             │                     │                │\n",
            "PhISwap(0.25)─PhISwap(0.25)^0.081   │                │\n",
            "│             │                     │                │\n",
            "Rz(0.337π)    │                     PhISwap(0.25)────PhISwap(0.25)^-0.081\n",
            "│             │                     │                │\n",
            "│             PhISwap(0.25)─────────PhISwap(0.25)^-1 │\n",
            "│             │                     │                │\n",
            "│             Rz(0.337π)            │                Rz(0.169π)\n",
            "│             │                     │                │\n",
            "│             │                     Rz(0.169π)       │\n",
            "│             │                     │                │\n",
            "│             │                     │                │\n",
            "│             │                     │                │\n",
            "│             PhISwap(0.25)─────────PhISwap(0.25)^-1 │\n",
            "│             │                     │                │\n",
            "PhISwap(0.25)─PhISwap(0.25)^-0.051  │                │\n",
            "│             │                     │                │\n",
            "│             │                     PhISwap(0.25)────PhISwap(0.25)^0.051\n",
            "│             │                     │                │\n",
            "│             PhISwap(0.25)─────────PhISwap(0.25)^-1 │\n",
            "│             │                     │                │\n",
            "@─────────────@^-0.145              │                │\n",
            "│             │                     │                │\n",
            "×─────────────×                     @────────────────@^(-1/15)\n",
            "│             │                     │                │\n",
            "│             │                     ×────────────────×\n",
            "│             │                     │                │\n",
            "│             @─────────────────────@^-0.098         │\n",
            "│             │                     │                │\n",
            "│             ×─────────────────────×                │\n",
            "│             │                     │                │\n",
            "@─────────────@^-0.098              @────────────────@^-0.098\n",
            "│             │                     │                │\n",
            "×─────────────×                     ×────────────────×\n",
            "│             │                     │                │\n",
            "Rz(-0.033π)   @─────────────────────@^-0.098         Rz(-0.072π)\n",
            "│             │                     │                │\n",
            "│             ×─────────────────────×                │\n",
            "│             │                     │                │\n",
            "│             Rz(-0.033π)           Rz(-0.072π)      │\n",
            "│             │                     │                │\n",
            "│             Rz(π)                 Rz(π)            │\n",
            "│             │                     │                │\n",
            "│             PhISwap(0.25)─────────PhISwap(0.25)^-1 │\n",
            "│             │                     │                │\n",
            "│             │                     PhISwap(0.25)────PhISwap(0.25)^-0.95\n",
            "│             │                     │                │\n",
            "PhISwap(0.25)─PhISwap(0.25)^0.95    │                │\n",
            "│             │                     │                │\n",
            "│             PhISwap(0.25)─────────PhISwap(0.25)^-1 │\n",
            "│             │                     │                │\n",
            "│             │                     @────────────────@^-0.041\n",
            "│             │                     │                │\n",
            "@─────────────@^-0.019              ×────────────────×\n",
            "│             │                     │                │\n",
            "×─────────────×                     │                │\n",
            "│             │                     │                │\n",
            "│             @─────────────────────@^0.028          │\n",
            "│             │                     │                │\n",
            "│             ×─────────────────────×                │\n",
            "│             │                     │                │\n",
            "@─────────────@^0.028               @────────────────@^0.028\n",
            "│             │                     │                │\n",
            "×─────────────×                     ×────────────────×\n",
            "│             │                     │                │\n",
            "Rz(-0.02π)    @─────────────────────@^0.028          Rz(-0.009π)\n",
            "│             │                     │                │\n",
            "Rz(π)         ×─────────────────────×                Rz(π)\n",
            "│             │                     │                │\n",
            "│             Rz(-0.02π)            Rz(-0.009π)      │\n",
            "│             │                     │                │\n",
            "│             │                     │                │\n",
            "│             │                     │                │\n",
            "│             PhISwap(0.25)─────────PhISwap(0.25)^-1 │\n",
            "│             │                     │                │\n",
            "PhISwap(0.25)─PhISwap(0.25)^-0.502  │                │\n",
            "│             │                     │                │\n",
            "│             │                     PhISwap(0.25)────PhISwap(0.25)^0.502\n",
            "│             │                     │                │\n",
            "│             PhISwap(0.25)─────────PhISwap(0.25)^-1 │\n",
            "│             │                     │                │\n",
            "@─────────────@^-0.001              │                │\n",
            "│             │                     │                │\n",
            "×─────────────×                     @────────────────@^-0.001\n",
            "│             │                     │                │\n",
            "│             │                     ×────────────────×\n",
            "│             │                     │                │\n",
            "│             @─────────────────────@^0.001          │\n",
            "│             │                     │                │\n",
            "│             ×─────────────────────×                │\n",
            "│             │                     │                │\n",
            "@─────────────@^0.001               @────────────────@^0.001\n",
            "│             │                     │                │\n",
            "×─────────────×                     ×────────────────×\n",
            "│             │                     │                │\n",
            "Rz(-0.001π)   @─────────────────────@^0.001          Rz(-0.001π)\n",
            "│             │                     │                │\n",
            "Rz(π)         ×─────────────────────×                Rz(π)\n",
            "│             │                     │                │\n",
            "│             Rz(-0.001π)           Rz(-0.001π)      │\n",
            "│             │                     │                │\n",
            "│             │                     │                │\n",
            "│             │                     │                │\n",
            "│             PhISwap(0.25)─────────PhISwap(0.25)^-1 │\n",
            "│             │                     │                │\n",
            "│             │                     PhISwap(0.25)────PhISwap(0.25)^(-5/12)\n",
            "│             │                     │                │\n",
            "PhISwap(0.25)─PhISwap(0.25)^(5/12)  │                │\n",
            "│             │                     │                │\n",
            "│             PhISwap(0.25)─────────PhISwap(0.25)^-1 │\n",
            "│             │                     │                │\n",
            "│             │                     ×────────────────×\n",
            "│             │                     │                │\n",
            "×─────────────×                     │                │\n",
            "│             │                     │                │\n",
            "│             ×─────────────────────×                │\n",
            "│             │                     │                │\n",
            "×─────────────×                     ×────────────────×\n",
            "│             │                     │                │\n",
            "│             ×─────────────────────×                │\n",
            "│             │                     │                │\n"
          ]
        },
        {
          "output_type": "stream",
          "name": "stderr",
          "text": [
            "/usr/local/lib/python3.7/dist-packages/ipykernel_launcher.py:62: DeprecationWarning: DropNegligible was used but is deprecated.\n",
            "It will be removed in cirq v1.0.\n",
            "Use cirq.drop_negligible_operations instead.\n",
            "\n"
          ]
        }
      ]
    },
    {
      "cell_type": "code",
      "source": [
        "# 2 qubits = 1 fermion testing\n",
        "\n",
        "n = np.array([[0,0], [0,1]])\n",
        "I = np.eye(2)\n",
        "n1 = np.kron(n, I)\n",
        "n2 = np.kron(I, n)\n",
        "\n",
        "#they start in 00\n",
        "up, down = cirq.LineQubit.range(2)\n",
        "#circuit = cirq.Circuit([[cirq.X(up)], [cirq.Z(down)]]) #cirq.Circuit() wants a list [] of operations [gate on qubit]\n",
        "circuit = cirq.Circuit([cirq.Z(up), cirq.Z(down)])\n",
        "sim = cirq.Simulator()\n",
        "\n",
        "print(circuit)\n",
        "\n",
        "#0b PRIMO SITO (più significato), SECONDO SITO (meno significativo)\n",
        "result = simulator.simulate(circuit, initial_state = 0b01)\n",
        "simulated_state = result.final_state_vector\n",
        "\n",
        "print(simulated_state)\n",
        "\n",
        "print(simulated_state @ n1 @ simulated_state)"
      ],
      "metadata": {
        "colab": {
          "base_uri": "https://localhost:8080/"
        },
        "id": "FtjFg4Dazl9Z",
        "outputId": "53b9c720-9549-45d3-f745-89156b192975"
      },
      "execution_count": null,
      "outputs": [
        {
          "output_type": "stream",
          "name": "stdout",
          "text": [
            "0: ───Z───\n",
            "\n",
            "1: ───Z───\n",
            "[ 0.+0.j -1.+0.j -0.+0.j  0.-0.j]\n",
            "0j\n"
          ]
        }
      ]
    },
    {
      "cell_type": "markdown",
      "source": [
        "I qubit con spin up hanno posizioni 0, 2, 4, ... (pari), spin down dispari.\n"
      ],
      "metadata": {
        "id": "S1TpSJqISjmz"
      }
    },
    {
      "cell_type": "code",
      "source": [
        "#INITIAL WAVE PREPARATION\n",
        "try:\n",
        "    import openfermion\n",
        "except ImportError:\n",
        "    !pip install -q git+https://github.com/quantumlib/OpenFermion.git@master#egg=openfermion \n",
        "    import openfermion as of\n",
        "\n",
        "try:\n",
        "    import cirq\n",
        "except ImportError:\n",
        "    !pip install cirq --quiet\n",
        "    import cirq\n",
        "\n",
        "\n",
        "from openfermion import FermionOperator\n",
        "import numpy as np\n",
        "import scipy.sparse\n",
        "import matplotlib.pyplot as plt\n",
        "\n",
        "#1 fermion = 2 qubits\n",
        "N = 2\n",
        "N_qubits = 2 * N\n",
        "J = 1\n",
        "\n",
        "#----------------------------------------Operators Preparation-----------------------------------------------\n",
        "\n",
        "n = np.array([[0,0], [0,1]])\n",
        "I = np.eye(2)\n",
        "I2 = np.eye(2**2)\n",
        "I3 = np.eye(2**3)\n",
        "\n",
        "# n1 = n ⊗ I ⊗ I ⊗ I, n2 = I ⊗ n ⊗ I ⊗ I\n",
        "n1 = np.kron(n, I3)\n",
        "n2 = np.kron( np.kron(I, n), I2)\n",
        "\n",
        "#----------------------------------------Initial Wavefunction-----------------------------------------------\n",
        "  \n",
        "H_J = [\n",
        "       op + of.hermitian_conjugated(op) for op in (\n",
        "                       FermionOperator(\n",
        "                                      ((i,1), (i+2,0)), coefficient = -J\n",
        "                                      ) \n",
        "                       for i in range(N_qubits - 2)\n",
        "       )]\n",
        "\n",
        "#only spin up, with coefficients drawn from a gaussian\n",
        "L = 4\n",
        "m = 4.5\n",
        "sigma = 1\n",
        "\n",
        "epsilon = [-4 * np.random.normal(loc = m,  scale = sigma) for i in range(N)]\n",
        "H_epsilon = [\n",
        "       op  for op in \n",
        "      (\n",
        "          FermionOperator(\n",
        "               ((i,1), (i,0)), coefficient = epsilon[int(i/2)]\n",
        "               )\n",
        "          for i in range(0, N_qubits, 2)\n",
        "       )\n",
        "]\n",
        "\n",
        "#Initial Hamiltonian\n",
        "H_initial = sum(H_J) + sum(H_epsilon)\n",
        "sparse_init = of.get_sparse_operator(H_initial)\n",
        "eigs, eigvec = scipy.sparse.linalg.eigsh(sparse_init, k = 1)\n",
        "\n",
        "#Starting wavefunction, if you want to use fqe see previous code and copy paste here\n",
        "initial_wave = eigvec[:, 0]\n",
        "\n",
        "\n",
        "\n",
        "#----------------------------------------Time Evolution with Trotter Steps, using scipy.sparse-----------------------------------------------\n",
        "\n",
        "\n",
        "#J already specified\n",
        "H_J = [\n",
        "       op + of.hermitian_conjugated(op) for op in (\n",
        "                       FermionOperator(\n",
        "                                      ((i,1), (i+2,0)), coefficient = -J\n",
        "                                      ) \n",
        "                       for i in range(N_qubits - 2)\n",
        "       )]\n",
        "\n",
        "U = 1.\n",
        "H_U = [\n",
        "       op  for op in \n",
        "      (\n",
        "          FermionOperator(\n",
        "               ((i,1), (i,0), (i+1, 1), (i+1,0)), coefficient = U  \n",
        "               )\n",
        "          for i in range(0, N_qubits, 2)\n",
        "       )\n",
        "]\n",
        "\n",
        "#THINK ABOUT dt CHOICE BETTER\n",
        "dt = 1.05457182e-34 * 0.3 / J\n",
        "trotter_steps = 55\n",
        "\n",
        "\n",
        "#Trotter steps, exp of U and J separatedely\n",
        "hop =  sum(H_J)\n",
        "coulomb = sum(H_U)\n",
        "\n",
        "#loop initialization\n",
        "wave = initial_wave\n",
        "t = 0\n",
        "n1_t = []      #n1 at time t\n",
        "n2_t = []\n",
        "times = []\n",
        "\n",
        "\n",
        "for step in range(trotter_steps):\n",
        "\n",
        "  #expm_multiply avoids storing the matrices, which are very big for 8 qubits \n",
        "  wave = scipy.sparse.linalg.expm_multiply(-1.j * of.get_sparse_operator(hop) * dt, wave)\n",
        "  wave = scipy.sparse.linalg.expm_multiply(-1.j * of.get_sparse_operator(coulomb) * dt, wave)\n",
        "\n",
        "  n1_t.append(wave @ n1 @ wave)\n",
        "  n2_t.append(wave @ n2 @ wave)\n",
        "\n",
        "  #print(wave @ n1 @ wave)\n",
        "\n",
        "  t += dt\n",
        "  times.append(t)\n",
        "\n",
        "charge = [a + b for (a, b) in(zip(n1_t, n2_t)) ]\n",
        "spin =  [a - b for (a, b) in(zip(n1_t, n2_t)) ]\n",
        "\n",
        "#plt.plot(times, charge, '.')\n",
        "#plt.plot(times, spin, 'o')\n",
        "plt.plot(times, n1_t, '.')\n",
        "plt.plot(times, n2_t, 'o')\n"
      ],
      "metadata": {
        "colab": {
          "base_uri": "https://localhost:8080/",
          "height": 330
        },
        "id": "2_eBJqO018YY",
        "outputId": "73eb4587-d27f-4feb-c50d-4c5b824b03db"
      },
      "execution_count": null,
      "outputs": [
        {
          "output_type": "stream",
          "name": "stderr",
          "text": [
            "/usr/local/lib/python3.7/dist-packages/matplotlib/cbook/__init__.py:1317: ComplexWarning: Casting complex values to real discards the imaginary part\n",
            "  return np.asarray(x, float)\n"
          ]
        },
        {
          "output_type": "execute_result",
          "data": {
            "text/plain": [
              "[<matplotlib.lines.Line2D at 0x7f701f7b7bd0>]"
            ]
          },
          "metadata": {},
          "execution_count": 30
        },
        {
          "output_type": "display_data",
          "data": {
            "text/plain": [
              "<Figure size 432x288 with 1 Axes>"
            ],
            "image/png": "[encoded data removed]"
          },
          "metadata": {
            "needs_background": "light"
          }
        }
      ]
    },
    {
      "cell_type": "code",
      "source": [
        "# 4 qubits = 2 fermion testing\n",
        "try:\n",
        "    import cirq\n",
        "except ImportError:\n",
        "    !pip install cirq --quiet\n",
        "    import cirq\n",
        "\n",
        "import numpy as np\n",
        "\n",
        "\n",
        "n = np.array([[0,0], [0,1]])\n",
        "I = np.eye(2)\n",
        "I2 = np.eye(2**2)\n",
        "I3 = np.eye(2**3)\n",
        "\n",
        "# n1 = n ⊗ I ⊗ I ⊗ I, n2 = I ⊗ n ⊗ I ⊗ I\n",
        "n1 = np.kron(n, I3)\n",
        "n2 = np.kron( np.kron(I, n), I2)\n",
        "\n",
        "#A circuit is made from operations. You can define 20 qubits, but if you do operations only on 2 of them, your circuit will have those and a 4 by 1 state!\n",
        "up, down, q3, q4 = cirq.LineQubit.range(4)\n",
        "circuit = cirq.Circuit([cirq.Z(up), cirq.Z(down), cirq.Z(up), cirq.Z(down), cirq.Z(q3), cirq.Z(q3), cirq.Z(q4), cirq.Z(q4)])\n",
        "sim = cirq.Simulator()\n",
        "\n",
        "print(circuit)\n",
        "\n",
        "#0b PRIMO SITO (più significato), SECONDO SITO (meno significativo)\n",
        "result = sim.simulate(circuit, initial_state = 0b1001)\n",
        "simulated_state = result.final_state_vector\n",
        "\n",
        "print(simulated_state)\n",
        "\n",
        "print(simulated_state @ n1 @ simulated_state)"
      ],
      "metadata": {
        "colab": {
          "base_uri": "https://localhost:8080/"
        },
        "id": "bNSw8JoEX36u",
        "outputId": "64ede28c-fd3f-4d1a-9e39-db13f5c6dc38"
      },
      "execution_count": null,
      "outputs": [
        {
          "output_type": "stream",
          "name": "stdout",
          "text": [
            "0: ───Z───Z───\n",
            "\n",
            "1: ───Z───Z───\n",
            "\n",
            "2: ───Z───Z───\n",
            "\n",
            "3: ───Z───Z───\n",
            "[0.+0.j 0.+0.j 0.+0.j 0.+0.j 0.+0.j 0.+0.j 0.+0.j 0.+0.j 0.+0.j 1.+0.j\n",
            " 0.+0.j 0.+0.j 0.+0.j 0.+0.j 0.+0.j 0.+0.j]\n",
            "(1+0j)\n"
          ]
        }
      ]
    },
    {
      "cell_type": "markdown",
      "source": [
        "# Check Initial State Correctedness"
      ],
      "metadata": {
        "id": "dLRbtody82gC"
      }
    },
    {
      "cell_type": "code",
      "source": [
        "#INITIAL WAVE PREPARATION\n",
        "try:\n",
        "    import openfermion\n",
        "except ImportError:\n",
        "    !pip install -q git+https://github.com/quantumlib/OpenFermion.git@master#egg=openfermion \n",
        "    import openfermion as of\n",
        "\n",
        "try:\n",
        "    import cirq\n",
        "except ImportError:\n",
        "    !pip install cirq --quiet\n",
        "    import cirq\n",
        "\n",
        "try:\n",
        "    import fqe\n",
        "except ImportError:\n",
        "    # TODO: Change to `pip install fqe --quiet` when FQE>0.1.0 is released.\n",
        "    !pip install git+https://github.com/quantumlib/OpenFermion-FQE --quiet\n",
        "    import fqe\n",
        "\n",
        "\n",
        "from openfermion import FermionOperator\n",
        "import numpy as np\n",
        "import scipy.sparse\n",
        "import matplotlib.pyplot as plt\n",
        "\n",
        "#1 fermion = 2 qubits\n",
        "N = 2\n",
        "N_qubits = 2 * N\n",
        "J = 1\n",
        "\n",
        "#----------------------------------------Operators Preparation-----------------------------------------------\n",
        "\n",
        "n = np.array([[0,0], [0,1]])\n",
        "I = np.eye(2)\n",
        "I2 = np.eye(2**2)\n",
        "I3 = np.eye(2**3)\n",
        "\n",
        "# n1 = n ⊗ I ⊗ I ⊗ I, n2 = I ⊗ n ⊗ I ⊗ I\n",
        "n1 = np.kron(n, I3)\n",
        "n2 = np.kron( np.kron(I, n), I2)\n",
        "\n",
        "#----------------------------------------Initial Wavefunction-----------------------------------------------\n",
        "  \n",
        "H_J = [\n",
        "       op + of.hermitian_conjugated(op) for op in (\n",
        "                       FermionOperator(\n",
        "                                      ((i,1), (i+2,0)), coefficient = -J\n",
        "                                      ) \n",
        "                       for i in range(N_qubits - 2)\n",
        "       )]\n",
        "\n",
        "#only spin up, with coefficients drawn from a gaussian\n",
        "L = 4\n",
        "m = 4.5\n",
        "sigma = 1\n",
        "\n",
        "epsilon = [-4 * np.random.normal(loc = m,  scale = sigma) for i in range(N)]\n",
        "H_epsilon = [\n",
        "       op  for op in \n",
        "      (\n",
        "          FermionOperator(\n",
        "               ((i,1), (i,0)), coefficient = epsilon[int(i/2)]\n",
        "               )\n",
        "          for i in range(0, N_qubits, 2)\n",
        "       )\n",
        "]\n",
        "\n",
        "#Initial Hamiltonian\n",
        "H_initial = sum(H_J) + sum(H_epsilon)\n",
        "sparse_init = of.get_sparse_operator(H_initial)\n",
        "eigs, eigvec = scipy.sparse.linalg.eigsh(sparse_init, k = 1)\n",
        "\n",
        "#Starting wavefunction, if you want to use fqe see previous code and copy paste here\n",
        "initial_wave = eigvec[:, 0]\n",
        "fqe_init_wave = fqe.from_cirq(initial_wave, thresh = 1e-12)\n",
        "\n",
        "print(fqe_init_wave.sectors())\n",
        "\n",
        "print(fqe_init_wave)\n",
        "\n",
        "#copy pasted operators, did some magic with dictionary keys\n",
        "opdm_a, opdm_b = fqe_init_wave.sector((3, 1)).get_spin_opdm()\n",
        "charge_density = np.diagonal(opdm_a).real + np.diagonal(opdm_b).real\n",
        "spin_density = np.diagonal(opdm_a).real - np.diagonal(opdm_b).real\n",
        "\n",
        "fig, ax = plt.subplots(nrows=1, ncols=1, figsize=(6, 4))\n",
        "plt.plot(np.arange(len(charge_density)), charge_density, \"-o\", label=\"Charge\")\n",
        "plt.plot(np.arange(len(charge_density)), spin_density, \"-o\", label=\"Spin\")\n",
        "\n",
        "# Axes.\n",
        "ax.set_ylabel(r\"Charge density $\\rho^+$\")\n",
        "ax_twin = ax.twinx()\n",
        "ax_twin.set_ylabel(r\"Spin density $\\rho^-$\")\n",
        "\n",
        "\n",
        "\n"
      ],
      "metadata": {
        "id": "H2jDzRx_bAPH",
        "colab": {
          "base_uri": "https://localhost:8080/",
          "height": 321
        },
        "outputId": "316f3bf8-bcf7-4181-cc54-6c399f8d4b42"
      },
      "execution_count": null,
      "outputs": [
        {
          "output_type": "stream",
          "name": "stdout",
          "text": [
            "dict_keys([(3, 1)])\n",
            "<fqe.wavefunction.Wavefunction object at 0x7f701f831290>\n"
          ]
        },
        {
          "output_type": "execute_result",
          "data": {
            "text/plain": [
              "Text(0, 0.5, 'Spin density $\\\\rho^-$')"
            ]
          },
          "metadata": {},
          "execution_count": 32
        },
        {
          "output_type": "display_data",
          "data": {
            "text/plain": [
              "<Figure size 432x288 with 2 Axes>"
            ],
            "image/png": "[encoded data removed]"
          },
          "metadata": {
            "needs_background": "light"
          }
        }
      ]
    },
    {
      "cell_type": "code",
      "source": [
        "dict_keys([(3, 1)])"
      ],
      "metadata": {
        "id": "WNklYWap9OX_"
      },
      "execution_count": null,
      "outputs": []
    },
    {
      "cell_type": "code",
      "source": [
        "#INITIAL WAVE PREPARATION\n",
        "try:\n",
        "    import openfermion\n",
        "except ImportError:\n",
        "    !pip install -q git+https://github.com/quantumlib/OpenFermion.git@master#egg=openfermion \n",
        "    import openfermion as of\n",
        "\n",
        "try:\n",
        "    import cirq\n",
        "except ImportError:\n",
        "    !pip install cirq --quiet\n",
        "    import cirq\n",
        "\n",
        "try:\n",
        "    import fqe\n",
        "except ImportError:\n",
        "    # TODO: Change to `pip install fqe --quiet` when FQE>0.1.0 is released.\n",
        "    !pip install git+https://github.com/quantumlib/OpenFermion-FQE --quiet\n",
        "    import fqe\n",
        "\n",
        "\n",
        "from openfermion import FermionOperator\n",
        "import numpy as np\n",
        "import scipy.sparse\n",
        "import matplotlib.pyplot as plt\n",
        "\n",
        "#1 fermion = 2 qubits\n",
        "N = 2\n",
        "N_qubits = 2 * N\n",
        "J = 1 #I think they are using J = -1\n",
        "\n",
        "#----------------------------------------Operators Preparation-----------------------------------------------\n",
        "\n",
        "n = np.array([[0,0], [0,1]])\n",
        "I = np.eye(2)\n",
        "I2 = np.eye(2**2)\n",
        "I3 = np.eye(2**3)\n",
        "\n",
        "# n1 = n ⊗ I ⊗ I ⊗ I, n2 = I ⊗ n ⊗ I ⊗ I\n",
        "n1 = np.kron(n, I3)\n",
        "n2 = np.kron( np.kron(I, n), I2)\n",
        "n1down = np.kron( I2, np.kron(n, I))\n",
        "n2down = np.kron(I3, n)\n",
        "\n",
        "#----------------------------------------Initial Wavefunction-----------------------------------------------\n",
        "  \n",
        "H_J = [\n",
        "       op + of.hermitian_conjugated(op) for op in (\n",
        "                       FermionOperator(\n",
        "                                      ((i,1), (i+2,0)), coefficient = -J\n",
        "                                      ) \n",
        "                       for i in range(N_qubits - 2)\n",
        "       )]\n",
        "\n",
        "#only spin up, with coefficients drawn from a gaussian\n",
        "L = 4\n",
        "m = 4.5\n",
        "sigma = 1\n",
        "\n",
        "epsilon = [-4 * np.random.normal(loc = m,  scale = sigma) for i in range(N)]\n",
        "H_epsilon = [\n",
        "       op  for op in \n",
        "      (\n",
        "          FermionOperator(\n",
        "               ((i,1), (i,0)), coefficient = epsilon[int(i/2)]\n",
        "               )\n",
        "          for i in range(0, N_qubits, 2)\n",
        "       )\n",
        "]\n",
        "\n",
        "#Initial Hamiltonian\n",
        "H_initial = sum(H_J) + sum(H_epsilon)\n",
        "sparse_init = of.get_sparse_operator(H_initial)\n",
        "eigs, eigvec = scipy.sparse.linalg.eigsh(sparse_init, k = 1)\n",
        "\n",
        "#Starting wavefunction, if you want to use fqe see previous code and copy paste here\n",
        "initial_wave = eigvec[:, 0]\n",
        "print(sum(i*np.conj(i) for i in initial_wave))\n",
        "\n",
        "n = [n1, n1down, n2, n2down]\n",
        "sites = np.arange(len(n)//2)\n",
        "charge = []\n",
        "spin = []\n",
        "for i in range(0,len(n),2):\n",
        "  nup = initial_wave @ n[i] @initial_wave\n",
        "  ndown = initial_wave @ n[i+1] @initial_wave\n",
        "  charge.append(nup + ndown)\n",
        "  spin.append(nup - ndown)\n",
        "\n",
        "plt.plot(sites, charge, 'o')\n",
        "plt.plot(sites, spin, 'o')\n",
        "\n"
      ],
      "metadata": {
        "id": "_hzmbXsP_vWM"
      },
      "execution_count": null,
      "outputs": []
    },
    {
      "cell_type": "code",
      "source": [
        "# Parameters used in the Fermi-Hubbard experiment.\n",
        "nsites = 8\n",
        "l_up = 4\n",
        "m_up = 4.5\n",
        "sigma_up = 1\n",
        "\n",
        "# For convenience.\n",
        "site_index = np.arange(1, nsites + 1)\n",
        "\n",
        "# Creating the spin-up and spin-down Hamiltonians.\n",
        "spin_up_ham = np.diag([-1.] * (nsites - 1), k=1) + np.diag([-1.] * (nsites - 1), k=-1)\n",
        "spin_up_ham += np.diag(-l_up * np.exp(-0.5 * (site_index - m_up)**2) / sigma_up**2)\n",
        "spin_down_ham = np.diag([-1.] * (nsites - 1), k=1) + np.diag([-1.] * (nsites - 1), k=-1)\n",
        "\n",
        "print(spin_down_ham)"
      ],
      "metadata": {
        "id": "HzHF7PsDA_PC"
      },
      "execution_count": null,
      "outputs": []
    },
    {
      "cell_type": "code",
      "source": [
        "N = 2\n",
        "N_qubits = 2*N\n",
        "\n",
        "a = np.matrix(([0, 1], [0, 0]))\n",
        "a_dagger = a.T\n",
        "sigma_z = np.matrix(([1,0], [0,-1]))\n",
        "\n",
        "kill_op = []\n",
        "  # a1 = a ⊗ I(2**(N_qubits-1)), n2 = sigma_z ⊗ a ⊗ I(2**(N_qubits -1 -1)), ..., ni = sigma_z^i ⊗ a ⊗ I(2**(N_qubits -1 -i))\n",
        "\n",
        "for i in range(N_qubits):\n",
        "  operator = a\n",
        "  # sigma_z^i ⊗ a, adding sigma_z to the left i times\n",
        "  for j in range(i):\n",
        "    operator = np.kron(sigma_z, operator)\n",
        " \n",
        "  operator = np.kron(operator, np.eye(2**(N_qubits-1-i)))  #I(2**N-1-i) to the right\n",
        "  assert(operator.shape[0] == 2**(N_qubits)) #check dimension\n",
        "\n",
        "  #YOU COULD USE SPARSE HERE AND MAKE CODE BETTER\n",
        "  kill_op.append(operator)\n",
        "\n",
        "#create a list of creation operators in matrix form\n",
        "born_op = []\n",
        "for el in kill_op:\n",
        "  born_op.append(el.H) #no need for Hermitian conjugate in this representation\n",
        "  \n",
        "\n",
        "n_op = [c * d for (c,d) in zip(born_op, kill_op)] #c = create, d = destruct\n",
        "\n",
        "n1_to_check = np.kron(a_dagger @ a, np.eye(2**(N_qubits -1)))\n",
        "assert((n_op[0] == n1_to_check).all())\n",
        "\n",
        "#\n",
        "J = 1\n",
        "U = 1\n",
        "\n",
        "H_J = []\n",
        "#sum_j sum_nu for j in [1, L-1] when I have L = N sites, separating nu = up from down\n",
        "for i in range(0, N - 1 , 2):\n",
        "  H_J.append(-J*np.matrix(born_op[i]) @ np.matrix(kill_op[i+1]))\n",
        "for i in range(1, N - 1 , 2):\n",
        "  H_J.append(-J*np.matrix(born_op[i]) @ np.matrix(kill_op[i+1]))\n",
        "\n",
        "#+ h.c\n",
        "for element in H_J:\n",
        "  H_J.append(element.H)\n",
        "\n",
        "print(sum(H_J))\n",
        "\n",
        "\n",
        "\n",
        "#fallo con openfermion e sparse"
      ],
      "metadata": {
        "id": "EARFXL-fcUdT"
      },
      "execution_count": null,
      "outputs": []
    },
    {
      "cell_type": "markdown",
      "source": [
        "# Openfermion coincide con il metodo a mano"
      ],
      "metadata": {
        "id": "lhxwGkIJVtuk"
      }
    },
    {
      "cell_type": "code",
      "source": [
        "try:\n",
        "    import openfermion as of\n",
        "except ImportError:\n",
        "    !pip install -q git+https://github.com/quantumlib/OpenFermion.git@master#egg=openfermion \n",
        "    import openfermion as of\n",
        "\n",
        "try:\n",
        "    import cirq\n",
        "except ImportError:\n",
        "    !pip install cirq --quiet\n",
        "    import cirq\n",
        "\n",
        "from openfermion import FermionOperator\n",
        "\n",
        "import numpy as np\n",
        "from scipy.sparse import csr_matrix\n",
        "\n",
        "N = 4\n",
        "N_qubits = 2*N\n",
        "\n",
        "a = np.matrix(([0, 1], [0, 0]))\n",
        "a_dagger = a.T\n",
        "sigma_z = np.matrix(([1,0], [0,-1]))\n",
        "\n",
        "kill_op = []\n",
        "  # a1 = a ⊗ I(2**(N_qubits-1)), n2 = sigma_z ⊗ a ⊗ I(2**(N_qubits -1 -1)), ..., ni = sigma_z^i ⊗ a ⊗ I(2**(N_qubits -1 -i))\n",
        "\n",
        "for i in range(N_qubits):\n",
        "  operator = a\n",
        "  # sigma_z^i ⊗ a, adding sigma_z to the left i times\n",
        "  for j in range(i):\n",
        "    operator = np.kron(sigma_z, operator)\n",
        " \n",
        "  operator = np.kron(operator, np.eye(2**(N_qubits-1-i)))  #I(2**N-1-i) to the right\n",
        "  assert(operator.shape[0] == 2**(N_qubits)) #check dimension\n",
        "\n",
        "  #YOU COULD USE SPARSE HERE AND MAKE CODE BETTER\n",
        "  kill_op.append(operator)\n",
        "\n",
        "#create a list of creation operators in matrix form\n",
        "born_op = []\n",
        "for el in kill_op:\n",
        "  born_op.append(el.H) #no need for Hermitian conjugate in this representation\n",
        "  \n",
        "\n",
        "n_op = [c * d for (c,d) in zip(born_op, kill_op)] #c = create, d = destruct\n",
        "\n",
        "n1_to_check = np.kron(a_dagger @ a, np.eye(2**(N_qubits -1)))\n",
        "assert((n_op[0] == n1_to_check).all())\n",
        "\n",
        "kill_op = [csr_matrix(el) for el in kill_op]\n",
        "born_op = [csr_matrix(el) for el in born_op]\n",
        "n_op = [csr_matrix(el) for el in n_op]\n",
        "\n",
        "#\n",
        "J = 1\n",
        "\n",
        "\n",
        "H_J = []\n",
        "#sum_j sum_nu for j in [1, L-1] when I have L = N sites, separating nu = up from down\n",
        "for i in range(0, 2*N - 2 , 2):\n",
        "  H_J.append(-J*born_op[i] @ kill_op[i+2])\n",
        "  H_J.append(-J*born_op[i+2] @ kill_op[i])   #hermitian conjugated\n",
        "for i in range(1, 2*N - 2 , 2):\n",
        "  H_J.append(-J*born_op[i] @ kill_op[i+2])\n",
        "  H_J.append(-J*born_op[i+2] @ kill_op[i])\n",
        "\n",
        "\n",
        "#print(csr_matrix.todense(sum(H_J)))\n",
        "#print(np.count_nonzero(np.array(csr_matrix.todense(sum(H_J)))))\n",
        "hopping_term = csr_matrix.todense(sum(H_J))\n",
        "\n",
        "#------------------------------------------------------------------------------------------------------------------------------------------------------\n",
        "#CHECK: matrix coincides with openfermion ones\n",
        "H_J_of = [\n",
        "       op + of.hermitian_conjugated(op) for op in (\n",
        "                       FermionOperator(\n",
        "                                      ((i,1), (i+2,0)), coefficient = -J\n",
        "                                      ) \n",
        "                       for i in range(N_qubits - 2)\n",
        "       )]\n",
        "\n",
        "#print(of.get_sparse_operator(sum(H_J_of)).todense().real)\n",
        "assert(of.get_sparse_operator(sum(H_J_of)).todense().real == csr_matrix.todense(sum(H_J)) ).all()\n",
        "#-------------------------------------------------------------------------------------------------------------------------------------------------------\n",
        "#----------- U matrix-------------------------------------------------------------------------------\n",
        "\n",
        "U = 1\n",
        "H_U = []\n",
        "for i in range(0,N):\n",
        "  H_U.append(U*n_op[2*i] @ n_op[2*i+1])\n",
        "\n",
        "coulomb_term = (csr_matrix.todense(sum(H_U)))\n",
        "\n",
        "\n",
        "#openfermion version\n",
        "\n",
        "H_U_of = [\n",
        "       op  for op in \n",
        "      (\n",
        "          FermionOperator(\n",
        "               ((i,1), (i,0), (i+1, 1), (i+1,0)), coefficient = U  \n",
        "               )\n",
        "          for i in range(0, N_qubits, 2)\n",
        "       )\n",
        "]\n",
        "\n",
        "assert((of.get_sparse_operator(sum(H_U_of)).todense().real == csr_matrix.todense(sum(H_U))).all())\n",
        "\n",
        "\n",
        "#------------------------------------------------------------------------------------------------------------------------------\n",
        "#-----------------------------------------Interaction potential---------------------------------------------------------------\n",
        "L = 4\n",
        "m = 4.5\n",
        "sigma = 1\n",
        "\n",
        "#do it only for the up qubits\n",
        "epsilon = [-4 * np.exp( 0.5 * ((i+1)-m)**2 / sigma**2  ) for i in range(N)]\n",
        "H_epsilon = []\n",
        "\n",
        "#construct sum epsilon * n_i on up; n_op has the right expression for considering the whole qubit set (also down, from a tensor prod with I)\n",
        "for i in range(0, N_qubits, 2):\n",
        "  H_epsilon.append(epsilon[i//2] * n_op[i])\n",
        "\n",
        "local_potential =  (csr_matrix.todense(sum(H_epsilon)))\n",
        "assert(local_potential.shape[0] == 2**N_qubits)\n",
        "\n",
        "#this would lack down qubits however, we made the checks by hand with epsilon = [1,1] and local_potential = n0 + n2 = diag(0,0,1,1 ; 0,0,1,1 ; 1,1,2,2 ; 1,1,2,2)\n",
        "#H_epsilon_of = [op  for op in \n",
        "#      (FermionOperator(\n",
        "#               ((i,1), (i,0)), coefficient = epsilon[int(i/2)])\n",
        "#          for i in range(0, N_qubits, 2))]\n",
        "\n",
        "\n",
        "\n",
        "#one could confront the sparse matrices to gain computation time\n",
        "\n",
        "#https://github.com/quantumlib/OpenFermion-FQE/blob/v0.1.0/src/fqe/wavefunction.py#L47-L1286\n",
        "# first 3 parameters: number of fermionic particles, z component of angular momentum, number of spatial orbitals\n",
        "\n",
        "try:\n",
        "    import fqe\n",
        "except ImportError:\n",
        "    # TODO: Change to `pip install fqe --quiet` when FQE>0.1.0 is released.\n",
        "    !pip install git+https://github.com/quantumlib/OpenFermion-FQE --quiet\n",
        "    import fqe\n",
        "\n",
        "\"\"\"\n",
        "What follows prints \n",
        "Sector N = 2 : S_z = 0\n",
        "a'0001'b'0001' (1+0j)\n",
        "where N, with hartree-fock, is how many ones there are, and N_qubits = 4 gives 0001, there would be 8 qubits for up and down for #orbitals = N_qubits = 8\n",
        "\"\"\"\n",
        "init_wave = fqe.Wavefunction([[N, 0, N_qubits]])\n",
        "init_wave.set_wfn(strategy = 'hartree-fock')\n",
        "init_wave.print_wfn() \n",
        "\n",
        "#this would give the lowest state for Nup = Ndown = 2, IF the Hamiltonian was diagonal/ that of an harmonic oscillator, which can use creation\n",
        "#and annihilation operators directly\n",
        "\n",
        "_, eigvec = np.linalg.eigh(hopping_term + local_potential)   #eigenvectors of the system\n",
        "\n",
        "\n",
        "print(fqe.to_cirq(init_wave))\n",
        "\n",
        "assert np.isclose(np.linalg.norm(fqe.to_cirq(init_wave)), 1)\n",
        "\n"
      ],
      "metadata": {
        "colab": {
          "base_uri": "https://localhost:8080/"
        },
        "id": "eBEVTHHqdjmu",
        "outputId": "df02a63e-df65-4b1d-eeec-2b18ce18dbc8"
      },
      "execution_count": null,
      "outputs": [
        {
          "output_type": "stream",
          "name": "stdout",
          "text": [
            "-1938.707962635176 [-6.70230777e-18 -7.64652255e-18  3.70383807e-17 -4.56985102e-17\n",
            " -5.11788225e-18 -2.12122713e-17 -1.21961527e-17  3.70381893e-17\n",
            "  2.29310468e-18  8.29366249e-18  2.34884867e-19 -6.09490161e-18\n",
            "  7.92410901e-18  3.75077067e-18  2.00635009e-17  1.91775787e-17\n",
            "  3.00461063e-18  3.76929462e-17 -2.63399559e-18  2.92406887e-17\n",
            " -6.40466928e-17 -1.69184314e-18 -2.22928940e-17 -4.15092998e-17\n",
            " -8.50588416e-18 -3.34146111e-18 -4.36262598e-18 -4.81885065e-17\n",
            " -3.54482619e-18 -1.16691550e-17  4.36269757e-17  6.30587898e-18\n",
            "  1.33954064e-19  5.54122279e-18  1.73203895e-17 -7.13090987e-18\n",
            "  7.50997007e-18  2.82340279e-18 -2.38322982e-17 -1.23487469e-17\n",
            "  2.55827828e-18 -1.21692309e-17 -6.97947523e-18  2.23366768e-18\n",
            "  1.71902291e-17 -5.61955156e-18 -3.82760784e-18 -1.01920629e-17\n",
            "  6.66154392e-18 -2.43611592e-17 -4.59962917e-17 -8.38228971e-18\n",
            "  6.69200256e-18  1.37036327e-18 -4.81514690e-17  4.18335701e-17\n",
            "  1.96421318e-17 -1.06203546e-16  7.69843331e-19  3.89032437e-17\n",
            "  9.60509260e-17  1.31360983e-16 -1.34420093e-17  2.73503987e-18\n",
            "  2.62747953e-18 -5.81212888e-17  4.43784738e-17 -5.18235722e-17\n",
            "  5.84740717e-17 -9.43456879e-19  9.66686253e-18 -5.47810043e-17\n",
            " -2.18229508e-18  1.30884022e-18 -1.09961558e-17 -5.64516105e-17\n",
            "  3.64898756e-18 -1.39726374e-17  5.67384759e-17  7.26070508e-18\n",
            " -3.08521115e-17 -6.42369959e-19 -3.53477205e-17  3.30581660e-17\n",
            "  6.28357434e-18 -9.03028985e-18 -9.98517284e-17 -1.36416717e-18\n",
            "  7.85573399e-18 -1.18631300e-18 -2.67274283e-17 -9.35258100e-18\n",
            " -1.14421497e-17  7.82943948e-18  4.63009953e-18 -5.65122590e-19\n",
            " -4.02795325e-18 -2.29895371e-17  2.47888161e-17 -1.87018663e-17\n",
            "  2.29304658e-17 -2.79893481e-18  5.11351152e-17 -7.79809285e-17\n",
            " -1.97538832e-17 -5.10319641e-17  2.21205437e-18 -2.46705400e-17\n",
            " -4.51451641e-18  1.15739753e-16  2.50706552e-17 -2.85420534e-18\n",
            " -1.09468004e-17 -1.51559894e-18  2.15321490e-17 -3.64556772e-17\n",
            "  1.90142978e-18 -1.29825138e-18  3.91782690e-17 -1.83193418e-17\n",
            " -4.03713189e-17  1.15247704e-16 -1.11924220e-17  4.15619897e-18\n",
            " -9.13864504e-17 -5.15830788e-17 -1.85482612e-18 -3.29342421e-18\n",
            " -3.66248100e-17  4.16229276e-16  1.57008622e-16 -4.67704126e-17\n",
            " -8.11383487e-16 -4.05426567e-17  5.34571006e-18 -1.46600243e-16\n",
            " -4.57025091e-17  6.62726847e-17  3.16239978e-16 -2.56003588e-17\n",
            " -3.92475692e-17  5.62046630e-18 -7.79255785e-16 -1.52318566e-16\n",
            "  4.99118253e-16  2.44253929e-16 -1.45064763e-16 -3.90931739e-17\n",
            " -3.24826453e-16  8.10680321e-17 -5.04041739e-17 -1.14131223e-16\n",
            " -6.49636015e-17  4.35229241e-17  2.04684082e-16  6.18880100e-16\n",
            " -5.55049043e-17 -1.64415641e-16 -1.21427802e-15 -4.77331281e-16\n",
            " -6.21865674e-15  2.73128771e-15 -3.58276449e-14  4.07634684e-15\n",
            "  2.79750796e-16 -7.47438809e-15  2.22975635e-16  2.15865129e-14\n",
            " -2.54779913e-14 -1.80551558e-14 -3.93886159e-13 -1.42431010e-13\n",
            "  1.63893939e-13  2.91081354e-14  4.16870136e-13  2.23606798e-01\n",
            "  1.53472017e-15  4.33657397e-15  3.68720761e-14 -5.39137076e-15\n",
            " -4.24507064e-15  1.16122238e-14  2.56581571e-14  1.87518892e-14\n",
            "  1.74085607e-13 -1.13815364e-13 -5.00398773e-13 -5.00000000e-01\n",
            " -1.50071472e-13 -8.42297619e-14  4.47213595e-01  6.18317430e-13\n",
            " -3.89440516e-16 -3.80236958e-16  2.01661466e-16  2.62105177e-17\n",
            "  2.76233344e-16 -8.76940751e-17  1.77700353e-17 -1.27268243e-16\n",
            " -4.67467224e-18 -1.25797575e-16 -1.19886714e-16  1.33325598e-15\n",
            " -9.42712317e-18 -4.06214367e-16 -1.17632244e-15 -6.65155945e-16\n",
            " -1.58374927e-16 -3.42010932e-16  1.25570937e-16  8.38019991e-17\n",
            "  1.17280021e-16  7.59501395e-17  9.21858022e-17  1.95333870e-16\n",
            " -1.57580625e-16 -2.37309130e-16 -1.44743115e-16  3.50594905e-16\n",
            "  5.80053918e-16  1.99783480e-17  3.13276067e-16 -7.53768594e-16\n",
            " -1.91202575e-16 -9.48291228e-15 -7.36810835e-15  5.53738284e-14\n",
            " -3.40969300e-15 -1.01603536e-14 -8.50241966e-15 -2.17123903e-14\n",
            "  1.64838373e-15  2.02748735e-13  2.66139663e-13  4.47213595e-01\n",
            "  6.25279087e-14  1.02989912e-13 -5.00000000e-01 -1.25952663e-12\n",
            "  5.65048960e-15 -9.95111030e-15  1.86023577e-14  1.13949248e-14\n",
            " -8.60742014e-15 -2.88236550e-15 -3.34838671e-14  4.69684041e-14\n",
            " -9.63376900e-15  7.91684840e-14  2.23606798e-01  1.41486813e-12\n",
            "  7.32292354e-14 -1.42184549e-13 -8.08090258e-13 -5.02205916e-14]\n",
            "Sector N = 2 : S_z = 0\n",
            "a'0001'b'0001' (1+0j)\n",
            "[ 0.        +0.00000000e+00j  0.        +0.00000000e+00j\n",
            "  0.        +0.00000000e+00j -0.34029779+0.00000000e+00j\n",
            "  0.        +0.00000000e+00j  0.        +0.00000000e+00j\n",
            "  0.55061339-0.00000000e+00j  0.        +0.00000000e+00j\n",
            "  0.        +0.00000000e+00j -0.14361422+1.75876696e-17j\n",
            "  0.        +0.00000000e+00j  0.        +0.00000000e+00j\n",
            " -0.23237269+2.84574472e-17j  0.        +0.00000000e+00j\n",
            "  0.        +0.00000000e+00j  0.        +0.00000000e+00j\n",
            "  0.        +0.00000000e+00j  0.        +0.00000000e+00j\n",
            "  0.55061339-6.74306931e-17j  0.        +0.00000000e+00j\n",
            "  0.        +0.00000000e+00j  0.        +0.00000000e+00j\n",
            "  0.        +0.00000000e+00j  0.        +0.00000000e+00j\n",
            "  0.23237269-5.69148945e-17j  0.        +0.00000000e+00j\n",
            "  0.        +0.00000000e+00j  0.        +0.00000000e+00j\n",
            "  0.        +0.00000000e+00j  0.        +0.00000000e+00j\n",
            "  0.        +0.00000000e+00j  0.        +0.00000000e+00j\n",
            "  0.        +0.00000000e+00j -0.04076859+0.00000000e+00j\n",
            "  0.        +0.00000000e+00j  0.        +0.00000000e+00j\n",
            " -0.06596497+0.00000000e+00j  0.        +0.00000000e+00j\n",
            "  0.        +0.00000000e+00j  0.        +0.00000000e+00j\n",
            "  0.        +0.00000000e+00j  0.        +0.00000000e+00j\n",
            "  0.        +0.00000000e+00j  0.        +0.00000000e+00j\n",
            "  0.        +0.00000000e+00j  0.        +0.00000000e+00j\n",
            "  0.        +0.00000000e+00j  0.        +0.00000000e+00j\n",
            " -0.06596497+8.07837922e-18j  0.        +0.00000000e+00j\n",
            "  0.        +0.00000000e+00j  0.        +0.00000000e+00j\n",
            "  0.        +0.00000000e+00j  0.        +0.00000000e+00j\n",
            "  0.        +0.00000000e+00j  0.        +0.00000000e+00j\n",
            "  0.        +0.00000000e+00j  0.        +0.00000000e+00j\n",
            "  0.        +0.00000000e+00j  0.        +0.00000000e+00j\n",
            "  0.        +0.00000000e+00j  0.        +0.00000000e+00j\n",
            "  0.        +0.00000000e+00j  0.        +0.00000000e+00j\n",
            "  0.        +0.00000000e+00j  0.        +0.00000000e+00j\n",
            "  0.34029779-4.16744602e-17j  0.        +0.00000000e+00j\n",
            "  0.        +0.00000000e+00j  0.        +0.00000000e+00j\n",
            "  0.        +0.00000000e+00j  0.        +0.00000000e+00j\n",
            "  0.14361422-3.51753393e-17j  0.        +0.00000000e+00j\n",
            "  0.        +0.00000000e+00j  0.        +0.00000000e+00j\n",
            "  0.        +0.00000000e+00j  0.        +0.00000000e+00j\n",
            "  0.        +0.00000000e+00j  0.        +0.00000000e+00j\n",
            "  0.        +0.00000000e+00j  0.        +0.00000000e+00j\n",
            "  0.        +0.00000000e+00j  0.        +0.00000000e+00j\n",
            "  0.        +0.00000000e+00j  0.        +0.00000000e+00j\n",
            "  0.        +0.00000000e+00j  0.        +0.00000000e+00j\n",
            "  0.        +0.00000000e+00j  0.        +0.00000000e+00j\n",
            "  0.        +0.00000000e+00j  0.        +0.00000000e+00j\n",
            "  0.        +0.00000000e+00j  0.        +0.00000000e+00j\n",
            "  0.        +0.00000000e+00j  0.        +0.00000000e+00j\n",
            "  0.04076859-4.99271293e-18j  0.        +0.00000000e+00j\n",
            "  0.        +0.00000000e+00j  0.        +0.00000000e+00j\n",
            "  0.        +0.00000000e+00j  0.        +0.00000000e+00j\n",
            "  0.        +0.00000000e+00j  0.        +0.00000000e+00j\n",
            "  0.        +0.00000000e+00j  0.        +0.00000000e+00j\n",
            "  0.        +0.00000000e+00j  0.        +0.00000000e+00j\n",
            "  0.        +0.00000000e+00j  0.        +0.00000000e+00j\n",
            "  0.        +0.00000000e+00j  0.        +0.00000000e+00j\n",
            "  0.        +0.00000000e+00j  0.        +0.00000000e+00j\n",
            "  0.        +0.00000000e+00j  0.        +0.00000000e+00j\n",
            "  0.        +0.00000000e+00j  0.        +0.00000000e+00j\n",
            "  0.        +0.00000000e+00j  0.        +0.00000000e+00j\n",
            "  0.        +0.00000000e+00j  0.        +0.00000000e+00j\n",
            "  0.        +0.00000000e+00j  0.        +0.00000000e+00j\n",
            "  0.        +0.00000000e+00j  0.        +0.00000000e+00j\n",
            "  0.        +0.00000000e+00j  0.        +0.00000000e+00j\n",
            "  0.        +0.00000000e+00j -0.0103388 +0.00000000e+00j\n",
            "  0.        +0.00000000e+00j  0.        +0.00000000e+00j\n",
            " -0.01672853+0.00000000e+00j  0.        +0.00000000e+00j\n",
            "  0.        +0.00000000e+00j  0.        +0.00000000e+00j\n",
            "  0.        +0.00000000e+00j  0.        +0.00000000e+00j\n",
            "  0.        +0.00000000e+00j  0.        +0.00000000e+00j\n",
            "  0.        +0.00000000e+00j  0.        +0.00000000e+00j\n",
            "  0.        +0.00000000e+00j  0.        +0.00000000e+00j\n",
            " -0.01672853+2.04865353e-18j  0.        +0.00000000e+00j\n",
            "  0.        +0.00000000e+00j  0.        +0.00000000e+00j\n",
            "  0.        +0.00000000e+00j  0.        +0.00000000e+00j\n",
            "  0.        +0.00000000e+00j  0.        +0.00000000e+00j\n",
            "  0.        +0.00000000e+00j  0.        +0.00000000e+00j\n",
            "  0.        +0.00000000e+00j  0.        +0.00000000e+00j\n",
            "  0.        +0.00000000e+00j  0.        +0.00000000e+00j\n",
            "  0.        +0.00000000e+00j  0.        +0.00000000e+00j\n",
            "  0.        +0.00000000e+00j  0.        +0.00000000e+00j\n",
            "  0.        +0.00000000e+00j  0.        +0.00000000e+00j\n",
            "  0.        +0.00000000e+00j  0.        +0.00000000e+00j\n",
            "  0.        +0.00000000e+00j  0.        +0.00000000e+00j\n",
            "  0.        +0.00000000e+00j  0.        +0.00000000e+00j\n",
            "  0.        +0.00000000e+00j  0.        +0.00000000e+00j\n",
            "  0.        +0.00000000e+00j  0.        +0.00000000e+00j\n",
            "  0.        +0.00000000e+00j  0.        +0.00000000e+00j\n",
            "  0.        +0.00000000e+00j  0.        +0.00000000e+00j\n",
            "  0.        +0.00000000e+00j  0.        +0.00000000e+00j\n",
            "  0.        +0.00000000e+00j  0.        +0.00000000e+00j\n",
            "  0.        +0.00000000e+00j  0.        +0.00000000e+00j\n",
            "  0.        +0.00000000e+00j  0.        +0.00000000e+00j\n",
            "  0.        +0.00000000e+00j  0.        +0.00000000e+00j\n",
            "  0.        +0.00000000e+00j  0.        +0.00000000e+00j\n",
            "  0.        +0.00000000e+00j  0.        +0.00000000e+00j\n",
            " -0.0103388 +1.26613751e-18j  0.        +0.00000000e+00j\n",
            "  0.        +0.00000000e+00j  0.        +0.00000000e+00j\n",
            "  0.        +0.00000000e+00j  0.        +0.00000000e+00j\n",
            "  0.        +0.00000000e+00j  0.        +0.00000000e+00j\n",
            "  0.        +0.00000000e+00j  0.        +0.00000000e+00j\n",
            "  0.        +0.00000000e+00j  0.        +0.00000000e+00j\n",
            "  0.        +0.00000000e+00j  0.        +0.00000000e+00j\n",
            "  0.        +0.00000000e+00j  0.        +0.00000000e+00j\n",
            "  0.        +0.00000000e+00j  0.        +0.00000000e+00j\n",
            "  0.        +0.00000000e+00j  0.        +0.00000000e+00j\n",
            "  0.        +0.00000000e+00j  0.        +0.00000000e+00j\n",
            "  0.        +0.00000000e+00j  0.        +0.00000000e+00j\n",
            "  0.        +0.00000000e+00j  0.        +0.00000000e+00j\n",
            "  0.        +0.00000000e+00j  0.        +0.00000000e+00j\n",
            "  0.        +0.00000000e+00j  0.        +0.00000000e+00j\n",
            "  0.        +0.00000000e+00j  0.        +0.00000000e+00j\n",
            "  0.        +0.00000000e+00j  0.        +0.00000000e+00j\n",
            "  0.        +0.00000000e+00j  0.        +0.00000000e+00j\n",
            "  0.        +0.00000000e+00j  0.        +0.00000000e+00j\n",
            "  0.        +0.00000000e+00j  0.        +0.00000000e+00j\n",
            "  0.        +0.00000000e+00j  0.        +0.00000000e+00j\n",
            "  0.        +0.00000000e+00j  0.        +0.00000000e+00j\n",
            "  0.        +0.00000000e+00j  0.        +0.00000000e+00j\n",
            "  0.        +0.00000000e+00j  0.        +0.00000000e+00j\n",
            "  0.        +0.00000000e+00j  0.        +0.00000000e+00j\n",
            "  0.        +0.00000000e+00j  0.        +0.00000000e+00j\n",
            "  0.        +0.00000000e+00j  0.        +0.00000000e+00j\n",
            "  0.        +0.00000000e+00j  0.        +0.00000000e+00j\n",
            "  0.        +0.00000000e+00j  0.        +0.00000000e+00j\n",
            "  0.        +0.00000000e+00j  0.        +0.00000000e+00j\n",
            "  0.        +0.00000000e+00j  0.        +0.00000000e+00j\n",
            "  0.        +0.00000000e+00j  0.        +0.00000000e+00j]\n"
          ]
        }
      ]
    },
    {
      "cell_type": "code",
      "source": [
        "#Attempt, before using fqe, now that the Interaction Operator has the correct form and does not cover only up\n",
        "import scipy.sparse\n",
        "import matplotlib.pyplot as plt\n",
        "\n",
        "H_init = local_potential + hopping_term\n",
        "\n",
        "#eigs, eigvec = scipy.sparse.linalg.eigsh(csr_matrix.todense(H_init), k = 1)\n",
        "_, eigvec = np.linalg.eigh((H_init))\n",
        "\n",
        "#Starting wavefunction, if you want to use fqe see previous code and copy paste here\n",
        "initial_wave = eigvec[:, 0]  #this is a matrix object! So you have to transpose it, unlike np arrays\n",
        "\n",
        "print(initial_wave, len(initial_wave), sum(initial_wave.T @ initial_wave))\n",
        "\n",
        "sites = np.arange(N)\n",
        "charge = []\n",
        "spin = []\n",
        "for i in range(0,N_qubits,2):\n",
        "  nup =  initial_wave.H @ n_op[i] @ initial_wave\n",
        "  ndown = initial_wave.H @ n_op[i+1] @initial_wave\n",
        "  charge.append(nup + ndown)\n",
        "  spin.append(nup - ndown)\n",
        "\n",
        "#print(np.squeeze(np.asarray(charge)))\n",
        "\n",
        "#access the value from 1 dim matrix (they really should get rid of matrix and keep array)\n",
        "charge = [mat.item() for mat in charge]\n",
        "spin = [mat.item() for mat in spin]\n",
        "\n",
        "plt.plot(sites, charge, 'o')\n",
        "plt.plot(sites, spin, 'o')\n",
        "\n",
        "#Doesn't work: let's try FQE\n",
        "#You should understand why: look at the wavefunction, not done it yet"
      ],
      "metadata": {
        "id": "GAHWp1InwWLl",
        "colab": {
          "base_uri": "https://localhost:8080/",
          "height": 235
        },
        "outputId": "a4d2f955-cafc-4d70-9b6d-ae62b7fb293c"
      },
      "execution_count": null,
      "outputs": [
        {
          "output_type": "error",
          "ename": "NameError",
          "evalue": "ignored",
          "traceback": [
            "\u001b[0;31m---------------------------------------------------------------------------\u001b[0m",
            "\u001b[0;31mNameError\u001b[0m                                 Traceback (most recent call last)",
            "\u001b[0;32m<ipython-input-1-300b88133f89>\u001b[0m in \u001b[0;36m<module>\u001b[0;34m()\u001b[0m\n\u001b[1;32m      3\u001b[0m \u001b[0;32mimport\u001b[0m \u001b[0mmatplotlib\u001b[0m\u001b[0;34m.\u001b[0m\u001b[0mpyplot\u001b[0m \u001b[0;32mas\u001b[0m \u001b[0mplt\u001b[0m\u001b[0;34m\u001b[0m\u001b[0;34m\u001b[0m\u001b[0m\n\u001b[1;32m      4\u001b[0m \u001b[0;34m\u001b[0m\u001b[0m\n\u001b[0;32m----> 5\u001b[0;31m \u001b[0mH_init\u001b[0m \u001b[0;34m=\u001b[0m \u001b[0mlocal_potential\u001b[0m \u001b[0;34m+\u001b[0m \u001b[0mhopping_term\u001b[0m\u001b[0;34m\u001b[0m\u001b[0;34m\u001b[0m\u001b[0m\n\u001b[0m\u001b[1;32m      6\u001b[0m \u001b[0;34m\u001b[0m\u001b[0m\n\u001b[1;32m      7\u001b[0m \u001b[0;31m#eigs, eigvec = scipy.sparse.linalg.eigsh(csr_matrix.todense(H_init), k = 1)\u001b[0m\u001b[0;34m\u001b[0m\u001b[0;34m\u001b[0m\u001b[0;34m\u001b[0m\u001b[0m\n",
            "\u001b[0;31mNameError\u001b[0m: name 'local_potential' is not defined"
          ]
        }
      ]
    },
    {
      "cell_type": "code",
      "source": [
        "                    #WRONG MATRICES FROM THE NOTEBOOK\n",
        "\n",
        "# Parameters used in the Fermi-Hubbard experiment.\n",
        "nsites = 8\n",
        "l_up = 4\n",
        "m_up = 4.5\n",
        "sigma_up = 1\n",
        "\n",
        "# For convenience.\n",
        "site_index = np.arange(1, nsites + 1)\n",
        "\n",
        "\n",
        "\n",
        "# Creating the spin-up and spin-down Hamiltonians.\n",
        "spin_up_ham = np.diag([-1.] * (nsites - 1), k=1) + np.diag([-1.] * (nsites - 1), k=-1)\n",
        "spin_up_ham += np.diag(-l_up * np.exp(-0.5 * (site_index - m_up)**2) / sigma_up**2)\n",
        "spin_down_ham = np.diag([-1.] * (nsites - 1), k=1) + np.diag([-1.] * (nsites - 1), k=-1)\n",
        "\n",
        "print(spin_up_ham, spin_down_ham)\n",
        "\n",
        "\n",
        "# Initialize wavefunction to occupy the two lowest states.\n",
        "init_wfn = fqe.Wavefunction([[nsites // 2, 0, nsites]])\n",
        "init_wfn.set_wfn(strategy='hartree-fock')\n",
        "init_wfn.print_wfn()\n",
        "\n",
        "_, v_up = np.linalg.eigh(spin_up_ham)\n",
        "_, v_down = np.linalg.eigh(spin_down_ham)\n",
        "\n",
        "from fqe.algorithm.low_rank import evolve_fqe_givens_sector\n",
        "\n",
        "\n",
        "init_wfn = evolve_fqe_givens_sector(init_wfn, v_up, sector='alpha')\n",
        "#init_wfn.print_wfn()\n",
        "init_wfn = evolve_fqe_givens_sector(init_wfn, v_down, sector='beta')\n",
        "#init_wfn.print_wfn()\n",
        "\n",
        "\n",
        "#qui spiega questo benedetto givens"
      ],
      "metadata": {
        "id": "VE5fWk6Mf0RL",
        "colab": {
          "base_uri": "https://localhost:8080/"
        },
        "outputId": "5c834223-7b51-4482-9bd2-dba57d5c3f71"
      },
      "execution_count": null,
      "outputs": [
        {
          "output_type": "stream",
          "name": "stdout",
          "text": [
            "[[-0.00874996 -1.          0.          0.          0.          0.\n",
            "   0.          0.        ]\n",
            " [-1.         -0.17574773 -1.          0.          0.          0.\n",
            "   0.          0.        ]\n",
            " [ 0.         -1.         -1.29860987 -1.          0.          0.\n",
            "   0.          0.        ]\n",
            " [ 0.          0.         -1.         -3.52998761 -1.          0.\n",
            "   0.          0.        ]\n",
            " [ 0.          0.          0.         -1.         -3.52998761 -1.\n",
            "   0.          0.        ]\n",
            " [ 0.          0.          0.          0.         -1.         -1.29860987\n",
            "  -1.          0.        ]\n",
            " [ 0.          0.          0.          0.          0.         -1.\n",
            "  -0.17574773 -1.        ]\n",
            " [ 0.          0.          0.          0.          0.          0.\n",
            "  -1.         -0.00874996]] [[ 0. -1.  0.  0.  0.  0.  0.  0.]\n",
            " [-1.  0. -1.  0.  0.  0.  0.  0.]\n",
            " [ 0. -1.  0. -1.  0.  0.  0.  0.]\n",
            " [ 0.  0. -1.  0. -1.  0.  0.  0.]\n",
            " [ 0.  0.  0. -1.  0. -1.  0.  0.]\n",
            " [ 0.  0.  0.  0. -1.  0. -1.  0.]\n",
            " [ 0.  0.  0.  0.  0. -1.  0. -1.]\n",
            " [ 0.  0.  0.  0.  0.  0. -1.  0.]]\n",
            "Sector N = 4 : S_z = 0\n",
            "a'00000011'b'00000011' (1+0j)\n"
          ]
        }
      ]
    },
    {
      "cell_type": "markdown",
      "source": [
        "# Segnalibro"
      ],
      "metadata": {
        "id": "LwSSHm-SnPox"
      }
    },
    {
      "cell_type": "markdown",
      "source": [
        "Using fqe and the correct Hamiltonians"
      ],
      "metadata": {
        "id": "newKOOGGj0WJ"
      }
    },
    {
      "cell_type": "code",
      "source": [
        "import numpy as np\n",
        "import matplotlib.pyplot as plt\n",
        "\n",
        "try:\n",
        "    import openfermion as of\n",
        "except ImportError:\n",
        "    !pip install -q git+https://github.com/quantumlib/OpenFermion.git@master#egg=openfermion \n",
        "    import openfermion as of\n",
        "\n",
        "try:\n",
        "    import cirq\n",
        "except ImportError:\n",
        "    !pip install cirq --quiet\n",
        "    import cirq\n",
        "\n",
        "try:\n",
        "    import fqe\n",
        "except ImportError:\n",
        "    # TODO: Change to `pip install fqe --quiet` when FQE>0.1.0 is released.\n",
        "    !pip install git+https://github.com/quantumlib/OpenFermion-FQE --quiet\n",
        "    import fqe\n",
        "\n",
        "from openfermion import FermionOperator\n",
        "from fqe.algorithm.low_rank import evolve_fqe_givens_sector\n",
        "\n",
        "N = 8\n",
        "N_qubits = 2*N\n",
        "\n",
        "\n",
        "#------------------------------------------------------------------------------------------------------------------------------------------------------\n",
        "#----------------------------------------------Hopping term-------------\n",
        "J = 1.\n",
        "hopping_fqe = np.diag([-J]*(N-1), k = 1) + np.diag([-J]*(N-1), k = -1)   #k is offset from diagonal\n",
        "\n",
        "#------------------------------------------------------------------------------------------------------------------------------\n",
        "#-----------------------------------------Interaction potential---------------------------------------------------------------\n",
        "L = 4\n",
        "m = 4.5\n",
        "sigma = 1\n",
        "\n",
        "#do it only for the up qubits\n",
        "sites = np.arange(1, N+1)\n",
        "potential_fqe = np.diag([-L * np.exp( -0.5 * \n",
        "                                (site-m)**2 / sigma**2  ) for site in sites\n",
        "                   ])\n",
        "\n",
        "#to visualize potential; slows code\n",
        "plt.plot(sites, np.diag(potential_fqe), 'o')\n",
        "\n",
        "\n",
        "#-------------------------------------------------------------------------------------------------------------\n",
        "#------------------------------------- WAVEFUNCTION INITIALIZATION--------------------------------------------\n",
        "\n",
        "\n",
        "\n",
        "#https://github.com/quantumlib/OpenFermion-FQE/blob/v0.1.0/src/fqe/wavefunction.py#L47-L1286\n",
        "# first 3 parameters: number of fermionic particles, z component of angular momentum, number of spatial orbitals\n",
        "\"\"\"\n",
        "What follows, init_wave = fqe.Wavefunction([[N, 0, N2]]),  prints \n",
        "Sector N = 2 : S_z = 0\n",
        "a'0001'b'0001' (1+0j)\n",
        "where N, with hartree-fock, is how many ones there are, and N2 = 4 gives 0001, there would be 8 qubits for up and down for #orbitals = N2 = 8\n",
        "\"\"\"\n",
        "init_wave = fqe.Wavefunction([[N//2, 0, N]])\n",
        "init_wave.set_wfn(strategy = 'hartree-fock')\n",
        "init_wave.print_wfn() \n",
        "\n",
        "#this would give the lowest state for Nup = Ndown = 2, IF the Hamiltonian was diagonal/ that of an harmonic oscillator, which can use creation\n",
        "#and annihilation operators directly\n",
        "\n",
        "ham_down = hopping_fqe\n",
        "ham_up = ham_down + potential_fqe\n",
        "\n",
        "\n",
        "#the fermion operator gets digested into fqe excitation operator g for H = eps (g + g^\\dagger)\n",
        "#init_wave.time_evolve(1.0, ham_up)\n",
        "#init_wave.print_wfn()   #nothing seems to change \n",
        "\n",
        "\n",
        "_, eig_up = np.linalg.eigh(ham_up)\n",
        "_, eig_down = np.linalg.eigh(ham_down)\n",
        "\n",
        "#Rotate |00...011> |00...011> set for a diagonal hamiltonian to the system initial state \n",
        "init_wave = evolve_fqe_givens_sector(init_wave, eig_up, sector='alpha')\n",
        "init_wave = evolve_fqe_givens_sector(init_wave, eig_down, sector='beta')\n",
        "\n",
        "#check normalization\n",
        "assert np.isclose(np.linalg.norm(fqe.to_cirq(init_wave)), 1)\n",
        "\n",
        "#.get_spin_opdm gets the spin of the subsystems/blocks of spins alfa and beta\n",
        "# https://github.com/quantumlib/OpenFermion-FQE/blob/v0.1.0/src/fqe/fqe_data.py#L1789-L1794\n",
        "# https://physics.stackexchange.com/questions/338118/one-body-reduced-density-matrix\n",
        "# which calculates spins using https://github.com/quantumlib/OpenFermion-FQE/blob/v0.1.0/src/fqe/fqe_data.py#L1274-L1283\n",
        "\n",
        "opdm_a, opdm_b = init_wave.sector((N // 2, 0)).get_spin_opdm()        #get N = 4, S_z = 0 sector\n",
        "charge_density = np.diagonal(opdm_a).real + np.diagonal(opdm_b).real  #get the diagonal of each reduced density matrix, because it contains the populations. They are real\n",
        "spin_density = np.diagonal(opdm_a).real - np.diagonal(opdm_b).real\n",
        "\n",
        "#charge and angular momentum conservation\n",
        "assert np.isclose(sum(charge_density), 4)\n",
        "assert np.isclose(sum(spin_density), 0)\n",
        "\n",
        "#the 1RDM doesn't have trace 1: it's like the spin is \"1\" instead of hbar/2\n",
        "print(np.trace(opdm_a)) #this is two\n",
        "\n",
        "\n",
        "fig, ax = plt.subplots(nrows=1, ncols=1, figsize=(6, 4))\n",
        "colors = ['#4285F4', '#EA4335']\n",
        "plt.plot(sites, charge_density, \"-o\", color=colors[0], label=\"Charge\")\n",
        "plt.plot(sites, spin_density, \"-o\", color=colors[1], label=\"Spin\")\n",
        "\n",
        "ax.set_ylabel(r\"Charge density $\\rho^+$\", color=colors[0])\n",
        "ax.set_xlabel(\"Site index\")\n",
        "ax.legend();\n"
      ],
      "metadata": {
        "colab": {
          "base_uri": "https://localhost:8080/",
          "height": 961
        },
        "id": "i_OrjtLdjzju",
        "outputId": "8cf49b1c-3057-4df6-beeb-918e262c61f0"
      },
      "execution_count": null,
      "outputs": [
        {
          "output_type": "stream",
          "name": "stdout",
          "text": [
            "\u001b[K     |████████████████████████████████| 1.8 MB 28.1 MB/s \n",
            "\u001b[K     |████████████████████████████████| 541 kB 54.3 MB/s \n",
            "\u001b[?25h  Building wheel for openfermion (setup.py) ... \u001b[?25l\u001b[?25hdone\n",
            "  Building wheel for pubchempy (setup.py) ... \u001b[?25l\u001b[?25hdone\n",
            "\u001b[31mERROR: pip's dependency resolver does not currently take into account all the packages that are installed. This behaviour is the source of the following dependency conflicts.\n",
            "tensorflow 2.8.0 requires tf-estimator-nightly==2.8.0.dev2021122109, which is not installed.\u001b[0m\n",
            "  Installing build dependencies ... \u001b[?25l\u001b[?25hdone\n",
            "  Getting requirements to build wheel ... \u001b[?25l\u001b[?25hdone\n",
            "    Preparing wheel metadata ... \u001b[?25l\u001b[?25hdone\n",
            "\u001b[K     |████████████████████████████████| 409 kB 27.0 MB/s \n",
            "\u001b[K     |████████████████████████████████| 3.1 MB 53.8 MB/s \n",
            "\u001b[K     |████████████████████████████████| 131 kB 50.6 MB/s \n",
            "\u001b[K     |████████████████████████████████| 1.5 MB 62.0 MB/s \n",
            "\u001b[K     |████████████████████████████████| 1.3 MB 46.3 MB/s \n",
            "\u001b[K     |████████████████████████████████| 84 kB 3.8 MB/s \n",
            "\u001b[K     |████████████████████████████████| 121 kB 79.6 MB/s \n",
            "\u001b[K     |████████████████████████████████| 100 kB 10.2 MB/s \n",
            "\u001b[K     |████████████████████████████████| 90 kB 11.2 MB/s \n",
            "\u001b[?25h  Building wheel for fqe (PEP 517) ... \u001b[?25l\u001b[?25hdone\n",
            "\u001b[31mERROR: pip's dependency resolver does not currently take into account all the packages that are installed. This behaviour is the source of the following dependency conflicts.\n",
            "tensorflow 2.8.0 requires tf-estimator-nightly==2.8.0.dev2021122109, which is not installed.\n",
            "datascience 0.10.6 requires folium==0.2.1, but you have folium 0.8.3 which is incompatible.\u001b[0m\n",
            "Sector N = 4 : S_z = 0\n",
            "a'00000011'b'00000011' (1+0j)\n",
            "(2.0000000000000004+0j)\n"
          ]
        },
        {
          "output_type": "display_data",
          "data": {
            "text/plain": [
              "<Figure size 432x288 with 1 Axes>"
            ],
            "image/png": "[encoded data removed]"
          },
          "metadata": {
            "needs_background": "light"
          }
        },
        {
          "output_type": "display_data",
          "data": {
            "text/plain": [
              "<Figure size 432x288 with 1 Axes>"
            ],
            "image/png": "[encoded data removed]"
          },
          "metadata": {
            "needs_background": "light"
          }
        }
      ]
    },
    {
      "cell_type": "code",
      "source": [
        "#print(init_wave.sector((N // 2, 0)))\n",
        "#print( np.diagonal(opdm_a))\n",
        "#print(np.diagonal(opdm_a).real @ np.diagonal(opdm_a).real)\n",
        "#print(np.trace(opdm_a), np.trace((0.5*opdm_a)**2))\n",
        "#print(np.trace(opdm_b), np.trace((0.5*opdm_b)**2))\n",
        "\n",
        "#print(sum(charge_density), sum(spin_density))\n",
        "\n",
        "\n",
        "\n",
        "init_wave = fqe.Wavefunction([[6, 0, N]])\n",
        "init_wave.set_wfn(strategy = 'hartree-fock')\n",
        "init_wave.print_wfn() \n",
        "\n",
        "opdm_a, opdm_b = init_wave.sector((6, 0)).get_spin_opdm()        #get N = 4, S_z = 0 sector\n",
        "charge_density = np.diagonal(opdm_a).real + np.diagonal(opdm_b).real  #get the diagonal of each reduced density matrix, because it contains the populations. They are real\n",
        "spin_density = np.diagonal(opdm_a).real - np.diagonal(opdm_b).real\n",
        "\n",
        "print('-------------------------------------------------------------'*7)\n",
        "print(opdm_a, opdm_b)\n",
        "print(np.trace(opdm_a), np.trace((opdm_a)**2))\n",
        "print(np.trace(opdm_b), np.trace((opdm_b)**2))"
      ],
      "metadata": {
        "colab": {
          "base_uri": "https://localhost:8080/"
        },
        "id": "8GddQJZ2gl8c",
        "outputId": "49b2bc4a-e9f2-4fed-97a4-5e57c1c5065f"
      },
      "execution_count": null,
      "outputs": [
        {
          "output_type": "stream",
          "name": "stdout",
          "text": [
            "Sector N = 6 : S_z = 0\n",
            "a'00000111'b'00000111' (1+0j)\n",
            "-------------------------------------------------------------------------------------------------------------------------------------------------------------------------------------------------------------------------------------------------------------------------------------------------------------------------------------------------------------------------------------------------------------------------------------------\n",
            "[[1.+0.j 0.+0.j 0.+0.j 0.+0.j 0.+0.j 0.+0.j 0.+0.j 0.+0.j]\n",
            " [0.+0.j 1.+0.j 0.+0.j 0.+0.j 0.+0.j 0.+0.j 0.+0.j 0.+0.j]\n",
            " [0.+0.j 0.+0.j 1.+0.j 0.+0.j 0.+0.j 0.+0.j 0.+0.j 0.+0.j]\n",
            " [0.+0.j 0.+0.j 0.+0.j 0.+0.j 0.+0.j 0.+0.j 0.+0.j 0.+0.j]\n",
            " [0.+0.j 0.+0.j 0.+0.j 0.+0.j 0.+0.j 0.+0.j 0.+0.j 0.+0.j]\n",
            " [0.+0.j 0.+0.j 0.+0.j 0.+0.j 0.+0.j 0.+0.j 0.+0.j 0.+0.j]\n",
            " [0.+0.j 0.+0.j 0.+0.j 0.+0.j 0.+0.j 0.+0.j 0.+0.j 0.+0.j]\n",
            " [0.+0.j 0.+0.j 0.+0.j 0.+0.j 0.+0.j 0.+0.j 0.+0.j 0.+0.j]] [[1.+0.j 0.+0.j 0.+0.j 0.+0.j 0.+0.j 0.+0.j 0.+0.j 0.+0.j]\n",
            " [0.+0.j 1.+0.j 0.+0.j 0.+0.j 0.+0.j 0.+0.j 0.+0.j 0.+0.j]\n",
            " [0.+0.j 0.+0.j 1.+0.j 0.+0.j 0.+0.j 0.+0.j 0.+0.j 0.+0.j]\n",
            " [0.+0.j 0.+0.j 0.+0.j 0.+0.j 0.+0.j 0.+0.j 0.+0.j 0.+0.j]\n",
            " [0.+0.j 0.+0.j 0.+0.j 0.+0.j 0.+0.j 0.+0.j 0.+0.j 0.+0.j]\n",
            " [0.+0.j 0.+0.j 0.+0.j 0.+0.j 0.+0.j 0.+0.j 0.+0.j 0.+0.j]\n",
            " [0.+0.j 0.+0.j 0.+0.j 0.+0.j 0.+0.j 0.+0.j 0.+0.j 0.+0.j]\n",
            " [0.+0.j 0.+0.j 0.+0.j 0.+0.j 0.+0.j 0.+0.j 0.+0.j 0.+0.j]]\n",
            "(3+0j) (3+0j)\n",
            "(3+0j) (3+0j)\n"
          ]
        }
      ]
    },
    {
      "cell_type": "markdown",
      "source": [
        "\n",
        "## Our result and time evolution tinkering\n",
        "\n",
        "\n"
      ],
      "metadata": {
        "id": "N_THznBR7VRE"
      }
    },
    {
      "cell_type": "code",
      "source": [
        "import numpy as np\n",
        "import matplotlib.pyplot as plt\n",
        "\n",
        "try:\n",
        "    import openfermion as of\n",
        "except ImportError:\n",
        "    !pip install -q git+https://github.com/quantumlib/OpenFermion.git@master#egg=openfermion \n",
        "    import openfermion as of\n",
        "\n",
        "try:\n",
        "    import cirq\n",
        "except ImportError:\n",
        "    !pip install cirq --quiet\n",
        "    import cirq\n",
        "\n",
        "try:\n",
        "    import fqe\n",
        "except ImportError:\n",
        "    # TODO: Change to `pip install fqe --quiet` when FQE>0.1.0 is released.\n",
        "    !pip install git+https://github.com/quantumlib/OpenFermion-FQE --quiet\n",
        "    import fqe\n",
        "\n",
        "from openfermion import FermionOperator\n",
        "from fqe.algorithm.low_rank import evolve_fqe_givens_sector\n",
        "\n",
        "N = 8\n",
        "N_qubits = 2*N\n",
        "\n",
        "\n",
        "#------------------------------------------------------------------------------------------------------------------------------------------------------\n",
        "#----------------------------------------------Hopping term-------------\n",
        "J = 1.\n",
        "hopping_fqe = np.diag([-J]*(N-1), k = 1) + np.diag([-J]*(N-1), k = -1)   #k is offset from diagonal\n",
        "\n",
        "#------------------------------------------------------------------------------------------------------------------------------\n",
        "#-----------------------------------------Interaction potential---------------------------------------------------------------\n",
        "L = 4\n",
        "m = 4.5\n",
        "sigma = 1\n",
        "\n",
        "#do it only for the up qubits\n",
        "sites = np.arange(1, N+1)\n",
        "potential_fqe = np.diag([-L * np.exp( -0.5 * \n",
        "                                (site-m)**2 / sigma**2  ) for site in sites\n",
        "                   ])\n",
        "\n",
        "#to visualize potential; slows code\n",
        "#plt.plot(sites, np.diag(potential_fqe), 'o')\n",
        "\n",
        "\n",
        "#-------------------------------------------------------------------------------------------------------------\n",
        "#------------------------------------- WAVEFUNCTION INITIALIZATION--------------------------------------------\n",
        "\n",
        "\n",
        "\n",
        "#https://github.com/quantumlib/OpenFermion-FQE/blob/v0.1.0/src/fqe/wavefunction.py#L47-L1286\n",
        "# first 3 parameters: number of fermionic particles, z component of angular momentum, number of spatial orbitals\n",
        "\"\"\"\n",
        "What follows, init_wave = fqe.Wavefunction([[N, 0, N2]]),  prints \n",
        "Sector N = 2 : S_z = 0\n",
        "a'0001'b'0001' (1+0j)\n",
        "where N, with hartree-fock, is how many ones there are, and N2 = 4 gives 0001, there would be 8 qubits for up and down for #orbitals = N2 = 8\n",
        "\"\"\"\n",
        "init_wave = fqe.Wavefunction([[N//2, 0, N]])\n",
        "init_wave.set_wfn(strategy = 'hartree-fock')\n",
        "init_wave.print_wfn() \n",
        "\n",
        "#this would give the lowest state for Nup = Ndown = 2, IF the Hamiltonian was diagonal/ that of an harmonic oscillator, which can use creation\n",
        "#and annihilation operators directly\n",
        "\n",
        "ham_down = hopping_fqe\n",
        "ham_up = ham_down + potential_fqe\n",
        "\n",
        "\n",
        "#the fermion operator gets digested into fqe excitation operator g for H = eps (g + g^\\dagger)\n",
        "#init_wave.time_evolve(1.0, ham_up)\n",
        "#init_wave.print_wfn()   #nothing seems to change \n",
        "\n",
        "\n",
        "_, eig_up = np.linalg.eigh(ham_up)\n",
        "_, eig_down = np.linalg.eigh(ham_down)\n",
        "\n",
        "#Rotate |00...011> |00...011> set for a diagonal hamiltonian to the system initial state \n",
        "init_wave = evolve_fqe_givens_sector(init_wave, eig_up, sector='alpha')\n",
        "init_wave = evolve_fqe_givens_sector(init_wave, eig_down, sector='beta')\n",
        "\n",
        "\n",
        "#check normalization\n",
        "assert np.isclose(np.linalg.norm(fqe.to_cirq(init_wave)), 1)\n",
        "\n",
        "#---------------------------------------------------------------------------------------------------------------------------\n",
        "#to cirq; apparatus to express operators\n",
        "initial = fqe.to_cirq(init_wave)\n",
        "\n",
        "\n",
        "import scipy\n",
        "from scipy import sparse\n",
        "\n",
        "# n = [0 0]\n",
        "#     [0 1]\n",
        "# n tprod I ends in a diagonal [0,0 | 1,1] and other I to the right keeps doubling 0s and 1s separatedely. I tprod n ends in [0,1 | 0,1], doubling the given list\n",
        "nops = []\n",
        "for i in range(N_qubits):   #2*N to do it for all qubits\n",
        "  i = int(i)\n",
        "  diag = [0] * 2**(N_qubits-i-1) + [1] * 2**(N_qubits-i-1)\n",
        "  diag = diag * 2**i\n",
        "  nops.append(diag)\n",
        "\n",
        "charge = []\n",
        "spin = []\n",
        "sites = np.arange(1,N+1)\n",
        "\n",
        "print(len(initial), len(nops[0]))\n",
        "\n",
        "for i in range(N):\n",
        "  nup = ( np.conj(initial) * initial ) @ nops[2*i]\n",
        "  ndown =( np.conj(initial) * initial ) @ nops[2*i + 1]\n",
        "\n",
        "  charge.append(nup + ndown)\n",
        "  spin.append(nup - ndown)\n",
        "\n",
        "plt.plot(sites, charge, '-o')\n",
        "plt.plot(sites, spin, '-o')\n",
        "\n",
        "assert np.isclose(sum(charge), 4)\n",
        "assert np.isclose(sum(spin), 0)"
      ],
      "metadata": {
        "colab": {
          "base_uri": "https://localhost:8080/",
          "height": 769
        },
        "id": "HiO2dmJ-vCC5",
        "outputId": "d16607d0-f07b-439c-ccdb-a273a0abbf49"
      },
      "execution_count": null,
      "outputs": [
        {
          "output_type": "stream",
          "name": "stdout",
          "text": [
            "\u001b[K     |████████████████████████████████| 1.8 MB 5.6 MB/s \n",
            "\u001b[K     |████████████████████████████████| 541 kB 43.3 MB/s \n",
            "\u001b[?25h  Building wheel for openfermion (setup.py) ... \u001b[?25l\u001b[?25hdone\n",
            "  Building wheel for pubchempy (setup.py) ... \u001b[?25l\u001b[?25hdone\n",
            "\u001b[31mERROR: pip's dependency resolver does not currently take into account all the packages that are installed. This behaviour is the source of the following dependency conflicts.\n",
            "tensorflow 2.8.0 requires tf-estimator-nightly==2.8.0.dev2021122109, which is not installed.\u001b[0m\n",
            "  Installing build dependencies ... \u001b[?25l\u001b[?25hdone\n",
            "  Getting requirements to build wheel ... \u001b[?25l\u001b[?25hdone\n",
            "    Preparing wheel metadata ... \u001b[?25l\u001b[?25hdone\n",
            "\u001b[K     |████████████████████████████████| 409 kB 5.2 MB/s \n",
            "\u001b[K     |████████████████████████████████| 3.1 MB 46.3 MB/s \n",
            "\u001b[K     |████████████████████████████████| 131 kB 49.9 MB/s \n",
            "\u001b[K     |████████████████████████████████| 1.5 MB 48.5 MB/s \n",
            "\u001b[K     |████████████████████████████████| 1.3 MB 41.2 MB/s \n",
            "\u001b[K     |████████████████████████████████| 100 kB 8.6 MB/s \n",
            "\u001b[K     |████████████████████████████████| 90 kB 8.4 MB/s \n",
            "\u001b[K     |████████████████████████████████| 121 kB 54.3 MB/s \n",
            "\u001b[K     |████████████████████████████████| 84 kB 2.8 MB/s \n",
            "\u001b[?25h  Building wheel for fqe (PEP 517) ... \u001b[?25l\u001b[?25hdone\n",
            "\u001b[31mERROR: pip's dependency resolver does not currently take into account all the packages that are installed. This behaviour is the source of the following dependency conflicts.\n",
            "tensorflow 2.8.0 requires tf-estimator-nightly==2.8.0.dev2021122109, which is not installed.\n",
            "datascience 0.10.6 requires folium==0.2.1, but you have folium 0.8.3 which is incompatible.\u001b[0m\n",
            "Sector N = 4 : S_z = 0\n",
            "a'00000011'b'00000011' (1+0j)\n",
            "65536 65536\n"
          ]
        },
        {
          "output_type": "stream",
          "name": "stderr",
          "text": [
            "/usr/local/lib/python3.7/dist-packages/matplotlib/cbook/__init__.py:1317: ComplexWarning: Casting complex values to real discards the imaginary part\n",
            "  return np.asarray(x, float)\n",
            "/usr/local/lib/python3.7/dist-packages/matplotlib/cbook/__init__.py:1317: ComplexWarning: Casting complex values to real discards the imaginary part\n",
            "  return np.asarray(x, float)\n"
          ]
        },
        {
          "output_type": "display_data",
          "data": {
            "text/plain": [
              "<Figure size 432x288 with 1 Axes>"
            ],
            "image/png": "[encoded data removed]"
          },
          "metadata": {
            "needs_background": "light"
          }
        }
      ]
    },
    {
      "cell_type": "markdown",
      "source": [
        "Time Evolution"
      ],
      "metadata": {
        "id": "soL0CD5WzbKg"
      }
    },
    {
      "cell_type": "code",
      "source": [
        "#DIRECT TIME EVOLUTION\n",
        "\n",
        "#hamiltonian of the systems which will evolve\n",
        "U = 1.\n",
        "\n",
        "H_J = [\n",
        "       op + of.hermitian_conjugated(op) for op in \n",
        "       (\n",
        "                       FermionOperator(((i,1), (i+2,0)), coefficient = -J ) \n",
        "                       for i in range(N_qubits - 2) )]\n",
        "H_U = [\n",
        "       op  for op in \n",
        "      (\n",
        "          FermionOperator( ((i,1), (i,0), (i+1, 1), (i+1,0)), coefficient = U )\n",
        "          for i in range(0, N_qubits, 2) )]\n",
        "\n",
        "\n",
        "hubbard_ham = sum(H_J) + sum(H_U)\n",
        "time = 1.2\n",
        "\n",
        "#e^(-iHt)\n",
        "exact_state = scipy.sparse.linalg.expm_multiply(-1j * of.get_sparse_operator(hubbard_ham) * time, initial)\n",
        "\n",
        "charge = []\n",
        "spin = []\n",
        "\n",
        "for i in range(N):\n",
        "  nup = ( np.conj(exact_state) * exact_state ) @ nops[2*i]\n",
        "  ndown =( np.conj(exact_state) * exact_state ) @ nops[2*i + 1]\n",
        "\n",
        "  charge.append(nup + ndown)\n",
        "  spin.append(nup - ndown)\n",
        "\n",
        "plt.plot(sites, charge, '-o')\n",
        "plt.plot(sites, spin, '-o')\n",
        "\n",
        "assert np.isclose(sum(charge), 4)\n",
        "assert np.isclose(sum(spin), 0)\n"
      ],
      "metadata": {
        "colab": {
          "base_uri": "https://localhost:8080/",
          "height": 334
        },
        "id": "4xfsBh3Ry46H",
        "outputId": "6b170414-d0ec-4f3b-8367-567b314583bc"
      },
      "execution_count": null,
      "outputs": [
        {
          "output_type": "stream",
          "name": "stderr",
          "text": [
            "/usr/local/lib/python3.7/dist-packages/matplotlib/cbook/__init__.py:1317: ComplexWarning: Casting complex values to real discards the imaginary part\n",
            "  return np.asarray(x, float)\n",
            "/usr/local/lib/python3.7/dist-packages/matplotlib/cbook/__init__.py:1317: ComplexWarning: Casting complex values to real discards the imaginary part\n",
            "  return np.asarray(x, float)\n"
          ]
        },
        {
          "output_type": "display_data",
          "data": {
            "text/plain": [
              "<Figure size 432x288 with 1 Axes>"
            ],
            "image/png": "[encoded data removed]"
          },
          "metadata": {
            "needs_background": "light"
          }
        }
      ]
    },
    {
      "cell_type": "code",
      "source": [
        "#TROTTER\n",
        "#hamiltonian of the systems which will evolve\n",
        "U = 1.\n",
        "H_J = [\n",
        "       op + of.hermitian_conjugated(op) for op in (\n",
        "                       FermionOperator(\n",
        "                                      ((i,1), (i+2,0)), coefficient = -J\n",
        "                                      ) \n",
        "                       for i in range(N_qubits - 2)\n",
        "       )]\n",
        "H_U = [\n",
        "       op  for op in \n",
        "      (\n",
        "          FermionOperator(\n",
        "               ((i,1), (i,0), (i+1, 1), (i+1,0)), coefficient = U  \n",
        "               )\n",
        "          for i in range(0, N_qubits, 2)\n",
        "       )\n",
        "]\n",
        "\n",
        "dt = 0.1\n",
        "trotter_steps = 30\n",
        "\n",
        "#do the trotter steps, with separated J and U terms exponentials\n",
        "hop =  sum(H_J)\n",
        "coulomb = sum(H_U)\n",
        "\n",
        "#copy for the loop, keeping the wfn is also nice\n",
        "wave = initial\n",
        "t = 0\n",
        "\n",
        "for step in range(trotter_steps):\n",
        "\n",
        "  #you can't store the unitary separately with matrices this big \n",
        "  wave = scipy.sparse.linalg.expm_multiply(-1.j * of.get_sparse_operator(hop) * dt, wave)\n",
        "  wave = scipy.sparse.linalg.expm_multiply(-1.j * of.get_sparse_operator(coulomb) * dt, wave)\n",
        "\n",
        "  t += dt\n",
        "  charge = []\n",
        "  spin = []\n",
        "\n",
        "  for i in range(N):\n",
        "    nup = ( np.conj(wave) * wave ) @ nops[2*i]\n",
        "    ndown =( np.conj(wave) * wave ) @ nops[2*i + 1]\n",
        "\n",
        "    charge.append(nup + ndown)\n",
        "    spin.append(nup - ndown)\n",
        "\n",
        "  plt.plot(sites, charge, '-o')\n",
        "  plt.plot(sites, spin, '-o')\n",
        "  plt.show()\n",
        "\n",
        "  assert np.isclose(sum(charge), 4)\n",
        "  assert np.isclose(sum(spin), 0)"
      ],
      "metadata": {
        "colab": {
          "base_uri": "https://localhost:8080/",
          "height": 1000
        },
        "id": "XS-6WMaX1buw",
        "outputId": "15f35ad9-c849-4b5e-ad6f-12bbaba62086"
      },
      "execution_count": null,
      "outputs": [
        {
          "output_type": "stream",
          "name": "stderr",
          "text": [
            "/usr/local/lib/python3.7/dist-packages/matplotlib/cbook/__init__.py:1317: ComplexWarning: Casting complex values to real discards the imaginary part\n",
            "  return np.asarray(x, float)\n",
            "/usr/local/lib/python3.7/dist-packages/matplotlib/cbook/__init__.py:1317: ComplexWarning: Casting complex values to real discards the imaginary part\n",
            "  return np.asarray(x, float)\n"
          ]
        },
        {
          "output_type": "display_data",
          "data": {
            "text/plain": [
              "<Figure size 432x288 with 1 Axes>"
            ],
            "image/png": "[encoded data removed]"
          },
          "metadata": {
            "needs_background": "light"
          }
        },
        {
          "output_type": "stream",
          "name": "stderr",
          "text": [
            "/usr/local/lib/python3.7/dist-packages/matplotlib/cbook/__init__.py:1317: ComplexWarning: Casting complex values to real discards the imaginary part\n",
            "  return np.asarray(x, float)\n",
            "/usr/local/lib/python3.7/dist-packages/matplotlib/cbook/__init__.py:1317: ComplexWarning: Casting complex values to real discards the imaginary part\n",
            "  return np.asarray(x, float)\n"
          ]
        },
        {
          "output_type": "display_data",
          "data": {
            "text/plain": [
              "<Figure size 432x288 with 1 Axes>"
            ],
            "image/png": "[encoded data removed]"
          },
          "metadata": {
            "needs_background": "light"
          }
        },
        {
          "output_type": "stream",
          "name": "stderr",
          "text": [
            "/usr/local/lib/python3.7/dist-packages/matplotlib/cbook/__init__.py:1317: ComplexWarning: Casting complex values to real discards the imaginary part\n",
            "  return np.asarray(x, float)\n",
            "/usr/local/lib/python3.7/dist-packages/matplotlib/cbook/__init__.py:1317: ComplexWarning: Casting complex values to real discards the imaginary part\n",
            "  return np.asarray(x, float)\n"
          ]
        },
        {
          "output_type": "display_data",
          "data": {
            "text/plain": [
              "<Figure size 432x288 with 1 Axes>"
            ],
            "image/png": "[encoded data removed]"
          },
          "metadata": {
            "needs_background": "light"
          }
        },
        {
          "output_type": "stream",
          "name": "stderr",
          "text": [
            "/usr/local/lib/python3.7/dist-packages/matplotlib/cbook/__init__.py:1317: ComplexWarning: Casting complex values to real discards the imaginary part\n",
            "  return np.asarray(x, float)\n",
            "/usr/local/lib/python3.7/dist-packages/matplotlib/cbook/__init__.py:1317: ComplexWarning: Casting complex values to real discards the imaginary part\n",
            "  return np.asarray(x, float)\n"
          ]
        },
        {
          "output_type": "display_data",
          "data": {
            "text/plain": [
              "<Figure size 432x288 with 1 Axes>"
            ],
            "image/png": "[encoded data removed]"
          },
          "metadata": {
            "needs_background": "light"
          }
        },
        {
          "output_type": "stream",
          "name": "stderr",
          "text": [
            "/usr/local/lib/python3.7/dist-packages/matplotlib/cbook/__init__.py:1317: ComplexWarning: Casting complex values to real discards the imaginary part\n",
            "  return np.asarray(x, float)\n",
            "/usr/local/lib/python3.7/dist-packages/matplotlib/cbook/__init__.py:1317: ComplexWarning: Casting complex values to real discards the imaginary part\n",
            "  return np.asarray(x, float)\n"
          ]
        },
        {
          "output_type": "display_data",
          "data": {
            "text/plain": [
              "<Figure size 432x288 with 1 Axes>"
            ],
            "image/png": "[encoded data removed]"
          },
          "metadata": {
            "needs_background": "light"
          }
        },
        {
          "output_type": "stream",
          "name": "stderr",
          "text": [
            "/usr/local/lib/python3.7/dist-packages/matplotlib/cbook/__init__.py:1317: ComplexWarning: Casting complex values to real discards the imaginary part\n",
            "  return np.asarray(x, float)\n",
            "/usr/local/lib/python3.7/dist-packages/matplotlib/cbook/__init__.py:1317: ComplexWarning: Casting complex values to real discards the imaginary part\n",
            "  return np.asarray(x, float)\n"
          ]
        },
        {
          "output_type": "display_data",
          "data": {
            "text/plain": [
              "<Figure size 432x288 with 1 Axes>"
            ],
            "image/png": "[encoded data removed]"
          },
          "metadata": {
            "needs_background": "light"
          }
        },
        {
          "output_type": "stream",
          "name": "stderr",
          "text": [
            "/usr/local/lib/python3.7/dist-packages/matplotlib/cbook/__init__.py:1317: ComplexWarning: Casting complex values to real discards the imaginary part\n",
            "  return np.asarray(x, float)\n",
            "/usr/local/lib/python3.7/dist-packages/matplotlib/cbook/__init__.py:1317: ComplexWarning: Casting complex values to real discards the imaginary part\n",
            "  return np.asarray(x, float)\n"
          ]
        },
        {
          "output_type": "display_data",
          "data": {
            "text/plain": [
              "<Figure size 432x288 with 1 Axes>"
            ],
            "image/png": "[encoded data removed]"
          },
          "metadata": {
            "needs_background": "light"
          }
        },
        {
          "output_type": "stream",
          "name": "stderr",
          "text": [
            "/usr/local/lib/python3.7/dist-packages/matplotlib/cbook/__init__.py:1317: ComplexWarning: Casting complex values to real discards the imaginary part\n",
            "  return np.asarray(x, float)\n",
            "/usr/local/lib/python3.7/dist-packages/matplotlib/cbook/__init__.py:1317: ComplexWarning: Casting complex values to real discards the imaginary part\n",
            "  return np.asarray(x, float)\n"
          ]
        },
        {
          "output_type": "display_data",
          "data": {
            "text/plain": [
              "<Figure size 432x288 with 1 Axes>"
            ],
            "image/png": "[encoded data removed]"
          },
          "metadata": {
            "needs_background": "light"
          }
        },
        {
          "output_type": "stream",
          "name": "stderr",
          "text": [
            "/usr/local/lib/python3.7/dist-packages/matplotlib/cbook/__init__.py:1317: ComplexWarning: Casting complex values to real discards the imaginary part\n",
            "  return np.asarray(x, float)\n",
            "/usr/local/lib/python3.7/dist-packages/matplotlib/cbook/__init__.py:1317: ComplexWarning: Casting complex values to real discards the imaginary part\n",
            "  return np.asarray(x, float)\n"
          ]
        },
        {
          "output_type": "display_data",
          "data": {
            "text/plain": [
              "<Figure size 432x288 with 1 Axes>"
            ],
            "image/png": "[encoded data removed]"
          },
          "metadata": {
            "needs_background": "light"
          }
        },
        {
          "output_type": "stream",
          "name": "stderr",
          "text": [
            "/usr/local/lib/python3.7/dist-packages/matplotlib/cbook/__init__.py:1317: ComplexWarning: Casting complex values to real discards the imaginary part\n",
            "  return np.asarray(x, float)\n",
            "/usr/local/lib/python3.7/dist-packages/matplotlib/cbook/__init__.py:1317: ComplexWarning: Casting complex values to real discards the imaginary part\n",
            "  return np.asarray(x, float)\n"
          ]
        },
        {
          "output_type": "display_data",
          "data": {
            "text/plain": [
              "<Figure size 432x288 with 1 Axes>"
            ],
            "image/png": "[encoded data removed]"
          },
          "metadata": {
            "needs_background": "light"
          }
        },
        {
          "output_type": "stream",
          "name": "stderr",
          "text": [
            "/usr/local/lib/python3.7/dist-packages/matplotlib/cbook/__init__.py:1317: ComplexWarning: Casting complex values to real discards the imaginary part\n",
            "  return np.asarray(x, float)\n",
            "/usr/local/lib/python3.7/dist-packages/matplotlib/cbook/__init__.py:1317: ComplexWarning: Casting complex values to real discards the imaginary part\n",
            "  return np.asarray(x, float)\n"
          ]
        },
        {
          "output_type": "display_data",
          "data": {
            "text/plain": [
              "<Figure size 432x288 with 1 Axes>"
            ],
            "image/png": "[encoded data removed]"
          },
          "metadata": {
            "needs_background": "light"
          }
        },
        {
          "output_type": "stream",
          "name": "stderr",
          "text": [
            "/usr/local/lib/python3.7/dist-packages/matplotlib/cbook/__init__.py:1317: ComplexWarning: Casting complex values to real discards the imaginary part\n",
            "  return np.asarray(x, float)\n",
            "/usr/local/lib/python3.7/dist-packages/matplotlib/cbook/__init__.py:1317: ComplexWarning: Casting complex values to real discards the imaginary part\n",
            "  return np.asarray(x, float)\n"
          ]
        },
        {
          "output_type": "display_data",
          "data": {
            "text/plain": [
              "<Figure size 432x288 with 1 Axes>"
            ],
            "image/png": "[encoded data removed]"
          },
          "metadata": {
            "needs_background": "light"
          }
        },
        {
          "output_type": "stream",
          "name": "stderr",
          "text": [
            "/usr/local/lib/python3.7/dist-packages/matplotlib/cbook/__init__.py:1317: ComplexWarning: Casting complex values to real discards the imaginary part\n",
            "  return np.asarray(x, float)\n",
            "/usr/local/lib/python3.7/dist-packages/matplotlib/cbook/__init__.py:1317: ComplexWarning: Casting complex values to real discards the imaginary part\n",
            "  return np.asarray(x, float)\n"
          ]
        },
        {
          "output_type": "display_data",
          "data": {
            "text/plain": [
              "<Figure size 432x288 with 1 Axes>"
            ],
            "image/png": "[encoded data removed]"
          },
          "metadata": {
            "needs_background": "light"
          }
        },
        {
          "output_type": "stream",
          "name": "stderr",
          "text": [
            "/usr/local/lib/python3.7/dist-packages/matplotlib/cbook/__init__.py:1317: ComplexWarning: Casting complex values to real discards the imaginary part\n",
            "  return np.asarray(x, float)\n",
            "/usr/local/lib/python3.7/dist-packages/matplotlib/cbook/__init__.py:1317: ComplexWarning: Casting complex values to real discards the imaginary part\n",
            "  return np.asarray(x, float)\n"
          ]
        },
        {
          "output_type": "display_data",
          "data": {
            "text/plain": [
              "<Figure size 432x288 with 1 Axes>"
            ],
            "image/png": "[encoded data removed]"
          },
          "metadata": {
            "needs_background": "light"
          }
        },
        {
          "output_type": "stream",
          "name": "stderr",
          "text": [
            "/usr/local/lib/python3.7/dist-packages/matplotlib/cbook/__init__.py:1317: ComplexWarning: Casting complex values to real discards the imaginary part\n",
            "  return np.asarray(x, float)\n",
            "/usr/local/lib/python3.7/dist-packages/matplotlib/cbook/__init__.py:1317: ComplexWarning: Casting complex values to real discards the imaginary part\n",
            "  return np.asarray(x, float)\n"
          ]
        },
        {
          "output_type": "display_data",
          "data": {
            "text/plain": [
              "<Figure size 432x288 with 1 Axes>"
            ],
            "image/png": "[encoded data removed]"
          },
          "metadata": {
            "needs_background": "light"
          }
        },
        {
          "output_type": "stream",
          "name": "stderr",
          "text": [
            "/usr/local/lib/python3.7/dist-packages/matplotlib/cbook/__init__.py:1317: ComplexWarning: Casting complex values to real discards the imaginary part\n",
            "  return np.asarray(x, float)\n",
            "/usr/local/lib/python3.7/dist-packages/matplotlib/cbook/__init__.py:1317: ComplexWarning: Casting complex values to real discards the imaginary part\n",
            "  return np.asarray(x, float)\n"
          ]
        },
        {
          "output_type": "display_data",
          "data": {
            "text/plain": [
              "<Figure size 432x288 with 1 Axes>"
            ],
            "image/png": "[encoded data removed]"
          },
          "metadata": {
            "needs_background": "light"
          }
        },
        {
          "output_type": "stream",
          "name": "stderr",
          "text": [
            "/usr/local/lib/python3.7/dist-packages/matplotlib/cbook/__init__.py:1317: ComplexWarning: Casting complex values to real discards the imaginary part\n",
            "  return np.asarray(x, float)\n",
            "/usr/local/lib/python3.7/dist-packages/matplotlib/cbook/__init__.py:1317: ComplexWarning: Casting complex values to real discards the imaginary part\n",
            "  return np.asarray(x, float)\n"
          ]
        },
        {
          "output_type": "display_data",
          "data": {
            "text/plain": [
              "<Figure size 432x288 with 1 Axes>"
            ],
            "image/png": "[encoded data removed]"
          },
          "metadata": {
            "needs_background": "light"
          }
        },
        {
          "output_type": "stream",
          "name": "stderr",
          "text": [
            "/usr/local/lib/python3.7/dist-packages/matplotlib/cbook/__init__.py:1317: ComplexWarning: Casting complex values to real discards the imaginary part\n",
            "  return np.asarray(x, float)\n",
            "/usr/local/lib/python3.7/dist-packages/matplotlib/cbook/__init__.py:1317: ComplexWarning: Casting complex values to real discards the imaginary part\n",
            "  return np.asarray(x, float)\n"
          ]
        },
        {
          "output_type": "display_data",
          "data": {
            "text/plain": [
              "<Figure size 432x288 with 1 Axes>"
            ],
            "image/png": "[encoded data removed]"
          },
          "metadata": {
            "needs_background": "light"
          }
        },
        {
          "output_type": "stream",
          "name": "stderr",
          "text": [
            "/usr/local/lib/python3.7/dist-packages/matplotlib/cbook/__init__.py:1317: ComplexWarning: Casting complex values to real discards the imaginary part\n",
            "  return np.asarray(x, float)\n",
            "/usr/local/lib/python3.7/dist-packages/matplotlib/cbook/__init__.py:1317: ComplexWarning: Casting complex values to real discards the imaginary part\n",
            "  return np.asarray(x, float)\n"
          ]
        },
        {
          "output_type": "display_data",
          "data": {
            "text/plain": [
              "<Figure size 432x288 with 1 Axes>"
            ],
            "image/png": "[encoded data removed]"
          },
          "metadata": {
            "needs_background": "light"
          }
        },
        {
          "output_type": "stream",
          "name": "stderr",
          "text": [
            "/usr/local/lib/python3.7/dist-packages/matplotlib/cbook/__init__.py:1317: ComplexWarning: Casting complex values to real discards the imaginary part\n",
            "  return np.asarray(x, float)\n",
            "/usr/local/lib/python3.7/dist-packages/matplotlib/cbook/__init__.py:1317: ComplexWarning: Casting complex values to real discards the imaginary part\n",
            "  return np.asarray(x, float)\n"
          ]
        },
        {
          "output_type": "display_data",
          "data": {
            "text/plain": [
              "<Figure size 432x288 with 1 Axes>"
            ],
            "image/png": "[encoded data removed]"
          },
          "metadata": {
            "needs_background": "light"
          }
        },
        {
          "output_type": "stream",
          "name": "stderr",
          "text": [
            "/usr/local/lib/python3.7/dist-packages/matplotlib/cbook/__init__.py:1317: ComplexWarning: Casting complex values to real discards the imaginary part\n",
            "  return np.asarray(x, float)\n",
            "/usr/local/lib/python3.7/dist-packages/matplotlib/cbook/__init__.py:1317: ComplexWarning: Casting complex values to real discards the imaginary part\n",
            "  return np.asarray(x, float)\n"
          ]
        },
        {
          "output_type": "display_data",
          "data": {
            "text/plain": [
              "<Figure size 432x288 with 1 Axes>"
            ],
            "image/png": "[encoded data removed]"
          },
          "metadata": {
            "needs_background": "light"
          }
        },
        {
          "output_type": "stream",
          "name": "stderr",
          "text": [
            "/usr/local/lib/python3.7/dist-packages/matplotlib/cbook/__init__.py:1317: ComplexWarning: Casting complex values to real discards the imaginary part\n",
            "  return np.asarray(x, float)\n",
            "/usr/local/lib/python3.7/dist-packages/matplotlib/cbook/__init__.py:1317: ComplexWarning: Casting complex values to real discards the imaginary part\n",
            "  return np.asarray(x, float)\n"
          ]
        },
        {
          "output_type": "display_data",
          "data": {
            "text/plain": [
              "<Figure size 432x288 with 1 Axes>"
            ],
            "image/png": "[encoded data removed]"
          },
          "metadata": {
            "needs_background": "light"
          }
        },
        {
          "output_type": "stream",
          "name": "stderr",
          "text": [
            "/usr/local/lib/python3.7/dist-packages/matplotlib/cbook/__init__.py:1317: ComplexWarning: Casting complex values to real discards the imaginary part\n",
            "  return np.asarray(x, float)\n",
            "/usr/local/lib/python3.7/dist-packages/matplotlib/cbook/__init__.py:1317: ComplexWarning: Casting complex values to real discards the imaginary part\n",
            "  return np.asarray(x, float)\n"
          ]
        },
        {
          "output_type": "display_data",
          "data": {
            "text/plain": [
              "<Figure size 432x288 with 1 Axes>"
            ],
            "image/png": "[encoded data removed]"
          },
          "metadata": {
            "needs_background": "light"
          }
        },
        {
          "output_type": "stream",
          "name": "stderr",
          "text": [
            "/usr/local/lib/python3.7/dist-packages/matplotlib/cbook/__init__.py:1317: ComplexWarning: Casting complex values to real discards the imaginary part\n",
            "  return np.asarray(x, float)\n",
            "/usr/local/lib/python3.7/dist-packages/matplotlib/cbook/__init__.py:1317: ComplexWarning: Casting complex values to real discards the imaginary part\n",
            "  return np.asarray(x, float)\n"
          ]
        },
        {
          "output_type": "display_data",
          "data": {
            "text/plain": [
              "<Figure size 432x288 with 1 Axes>"
            ],
            "image/png": "[encoded data removed]"
          },
          "metadata": {
            "needs_background": "light"
          }
        },
        {
          "output_type": "stream",
          "name": "stderr",
          "text": [
            "/usr/local/lib/python3.7/dist-packages/matplotlib/cbook/__init__.py:1317: ComplexWarning: Casting complex values to real discards the imaginary part\n",
            "  return np.asarray(x, float)\n",
            "/usr/local/lib/python3.7/dist-packages/matplotlib/cbook/__init__.py:1317: ComplexWarning: Casting complex values to real discards the imaginary part\n",
            "  return np.asarray(x, float)\n"
          ]
        },
        {
          "output_type": "display_data",
          "data": {
            "text/plain": [
              "<Figure size 432x288 with 1 Axes>"
            ],
            "image/png": "[encoded data removed]"
          },
          "metadata": {
            "needs_background": "light"
          }
        },
        {
          "output_type": "stream",
          "name": "stderr",
          "text": [
            "/usr/local/lib/python3.7/dist-packages/matplotlib/cbook/__init__.py:1317: ComplexWarning: Casting complex values to real discards the imaginary part\n",
            "  return np.asarray(x, float)\n",
            "/usr/local/lib/python3.7/dist-packages/matplotlib/cbook/__init__.py:1317: ComplexWarning: Casting complex values to real discards the imaginary part\n",
            "  return np.asarray(x, float)\n"
          ]
        },
        {
          "output_type": "display_data",
          "data": {
            "text/plain": [
              "<Figure size 432x288 with 1 Axes>"
            ],
            "image/png": "[encoded data removed]"
          },
          "metadata": {
            "needs_background": "light"
          }
        },
        {
          "output_type": "stream",
          "name": "stderr",
          "text": [
            "/usr/local/lib/python3.7/dist-packages/matplotlib/cbook/__init__.py:1317: ComplexWarning: Casting complex values to real discards the imaginary part\n",
            "  return np.asarray(x, float)\n",
            "/usr/local/lib/python3.7/dist-packages/matplotlib/cbook/__init__.py:1317: ComplexWarning: Casting complex values to real discards the imaginary part\n",
            "  return np.asarray(x, float)\n"
          ]
        },
        {
          "output_type": "display_data",
          "data": {
            "text/plain": [
              "<Figure size 432x288 with 1 Axes>"
            ],
            "image/png": "[encoded data removed]"
          },
          "metadata": {
            "needs_background": "light"
          }
        },
        {
          "output_type": "stream",
          "name": "stderr",
          "text": [
            "/usr/local/lib/python3.7/dist-packages/matplotlib/cbook/__init__.py:1317: ComplexWarning: Casting complex values to real discards the imaginary part\n",
            "  return np.asarray(x, float)\n",
            "/usr/local/lib/python3.7/dist-packages/matplotlib/cbook/__init__.py:1317: ComplexWarning: Casting complex values to real discards the imaginary part\n",
            "  return np.asarray(x, float)\n"
          ]
        },
        {
          "output_type": "display_data",
          "data": {
            "text/plain": [
              "<Figure size 432x288 with 1 Axes>"
            ],
            "image/png": "[encoded data removed]"
          },
          "metadata": {
            "needs_background": "light"
          }
        },
        {
          "output_type": "stream",
          "name": "stderr",
          "text": [
            "/usr/local/lib/python3.7/dist-packages/matplotlib/cbook/__init__.py:1317: ComplexWarning: Casting complex values to real discards the imaginary part\n",
            "  return np.asarray(x, float)\n",
            "/usr/local/lib/python3.7/dist-packages/matplotlib/cbook/__init__.py:1317: ComplexWarning: Casting complex values to real discards the imaginary part\n",
            "  return np.asarray(x, float)\n"
          ]
        },
        {
          "output_type": "display_data",
          "data": {
            "text/plain": [
              "<Figure size 432x288 with 1 Axes>"
            ],
            "image/png": "[encoded data removed]"
          },
          "metadata": {
            "needs_background": "light"
          }
        },
        {
          "output_type": "stream",
          "name": "stderr",
          "text": [
            "/usr/local/lib/python3.7/dist-packages/matplotlib/cbook/__init__.py:1317: ComplexWarning: Casting complex values to real discards the imaginary part\n",
            "  return np.asarray(x, float)\n",
            "/usr/local/lib/python3.7/dist-packages/matplotlib/cbook/__init__.py:1317: ComplexWarning: Casting complex values to real discards the imaginary part\n",
            "  return np.asarray(x, float)\n"
          ]
        },
        {
          "output_type": "display_data",
          "data": {
            "text/plain": [
              "<Figure size 432x288 with 1 Axes>"
            ],
            "image/png": "[encoded data removed]"
          },
          "metadata": {
            "needs_background": "light"
          }
        }
      ]
    },
    {
      "cell_type": "markdown",
      "source": [
        "# Spread"
      ],
      "metadata": {
        "id": "8QXWZWTFqAe1"
      }
    },
    {
      "cell_type": "code",
      "source": [
        "import numpy as np\n",
        "import matplotlib.pyplot as plt\n",
        "\n",
        "try:\n",
        "    import openfermion as of\n",
        "except ImportError:\n",
        "    !pip install -q git+https://github.com/quantumlib/OpenFermion.git@master#egg=openfermion \n",
        "    import openfermion as of\n",
        "\n",
        "try:\n",
        "    import cirq\n",
        "except ImportError:\n",
        "    !pip install cirq --quiet\n",
        "    import cirq\n",
        "\n",
        "try:\n",
        "    import fqe\n",
        "except ImportError:\n",
        "    # TODO: Change to `pip install fqe --quiet` when FQE>0.1.0 is released.\n",
        "    !pip install git+https://github.com/quantumlib/OpenFermion-FQE --quiet\n",
        "    import fqe\n",
        "\n",
        "from openfermion import FermionOperator\n",
        "from fqe.algorithm.low_rank import evolve_fqe_givens_sector\n",
        "\n",
        "N = 8\n",
        "N_qubits = 2*N\n",
        "\n",
        "\n",
        "#------------------------------------------------------------------------------------------------------------------------------------------------------\n",
        "#----------------------------------------------Hopping term-------------\n",
        "J = 1.\n",
        "hopping_fqe = np.diag([-J]*(N-1), k = 1) + np.diag([-J]*(N-1), k = -1)   #k is offset from diagonal\n",
        "\n",
        "#------------------------------------------------------------------------------------------------------------------------------\n",
        "#-----------------------------------------Interaction potential---------------------------------------------------------------\n",
        "L = 4\n",
        "m = 4.5\n",
        "sigma = 1\n",
        "\n",
        "#do it only for the up qubits\n",
        "sites = np.arange(1, N+1)\n",
        "potential_fqe = np.diag([-L * np.exp( -0.5 * \n",
        "                                (site-m)**2 / sigma**2  ) for site in sites\n",
        "                   ])\n",
        "\n",
        "#to visualize potential; slows code\n",
        "#plt.plot(sites, np.diag(potential_fqe), 'o')\n",
        "\n",
        "\n",
        "#-------------------------------------------------------------------------------------------------------------\n",
        "#------------------------------------- WAVEFUNCTION INITIALIZATION--------------------------------------------\n",
        "\n",
        "\n",
        "\n",
        "#https://github.com/quantumlib/OpenFermion-FQE/blob/v0.1.0/src/fqe/wavefunction.py#L47-L1286\n",
        "# first 3 parameters: number of fermionic particles, z component of angular momentum, number of spatial orbitals\n",
        "\"\"\"\n",
        "What follows, init_wave = fqe.Wavefunction([[N, 0, N2]]),  prints \n",
        "Sector N = 2 : S_z = 0\n",
        "a'0001'b'0001' (1+0j)\n",
        "where N, with hartree-fock, is how many ones there are, and N2 = 4 gives 0001, there would be 8 qubits for up and down for #orbitals = N2 = 8\n",
        "\"\"\"\n",
        "init_wave = fqe.Wavefunction([[N//2, 0, N]])\n",
        "init_wave.set_wfn(strategy = 'hartree-fock')\n",
        "init_wave.print_wfn() \n",
        "\n",
        "#this would give the lowest state for Nup = Ndown = 2, IF the Hamiltonian was diagonal/ that of an harmonic oscillator, which can use creation\n",
        "#and annihilation operators directly\n",
        "\n",
        "ham_down = hopping_fqe\n",
        "ham_up = ham_down + potential_fqe\n",
        "\n",
        "\n",
        "#the fermion operator gets digested into fqe excitation operator g for H = eps (g + g^\\dagger)\n",
        "#init_wave.time_evolve(1.0, ham_up)\n",
        "#init_wave.print_wfn()   #nothing seems to change \n",
        "\n",
        "\n",
        "_, eig_up = np.linalg.eigh(ham_up)\n",
        "_, eig_down = np.linalg.eigh(ham_down)\n",
        "\n",
        "#Rotate |00...011> |00...011> set for a diagonal hamiltonian to the system initial state \n",
        "init_wave = evolve_fqe_givens_sector(init_wave, eig_up, sector='alpha')\n",
        "init_wave = evolve_fqe_givens_sector(init_wave, eig_down, sector='beta')\n",
        "\n",
        "\n",
        "#check normalization\n",
        "assert np.isclose(np.linalg.norm(fqe.to_cirq(init_wave)), 1)\n",
        "\n",
        "#---------------------------------------------------------------------------------------------------------------------------\n",
        "#to cirq; apparatus to express operators\n",
        "initial = fqe.to_cirq(init_wave)\n",
        "\n",
        "\n",
        "import scipy\n",
        "from scipy import sparse\n",
        "\n",
        "# n = [0 0]\n",
        "#     [0 1]\n",
        "# n tprod I ends in a diagonal [0,0 | 1,1] and other I to the right keeps doubling 0s and 1s separatedely. I tprod n ends in [0,1 | 0,1], doubling the given list\n",
        "nops = []\n",
        "for i in range(N_qubits):   #2*N to do it for all qubits\n",
        "  i = int(i)\n",
        "  diag = [0] * 2**(N_qubits-i-1) + [1] * 2**(N_qubits-i-1)\n",
        "  diag = diag * 2**i\n",
        "  nops.append(diag)\n",
        "\n",
        "charge = []\n",
        "spin = []\n",
        "sites = np.arange(1,N+1)\n",
        "\n",
        "print(len(initial), len(nops[0]))\n",
        "\n",
        "for i in range(N):\n",
        "  nup = ( np.conj(initial) * initial ) @ nops[2*i]\n",
        "  ndown =( np.conj(initial) * initial ) @ nops[2*i + 1]\n",
        "\n",
        "  charge.append(nup + ndown)\n",
        "  spin.append(nup - ndown)\n",
        "\n",
        "\n",
        "\n",
        "assert np.isclose(sum(charge), 4)\n",
        "assert np.isclose(sum(spin), 0)\n",
        "\n",
        "#------------------------------------------------------------------------------------------------------------------------------------------------------------------------------\n",
        "#------------------------------------------------------------------------------------------------------------------------------------------------------------------------------\n",
        "#---------------------------------------------------------------- SPREADING ---------------------------------------------------------------------------------------------------\n",
        "#------------------------------------------------------------------------------------------------------------------------------------------------------------------------------\n",
        "#------------------------------------------------------------------------------------------------------------------------------------------------------------------------------\n",
        "\n",
        "def spread(vec, N):\n",
        "  \"\"\"\n",
        "  Calculate the spread of spin and charge, given a vector with their values for all N sites.\n",
        "  Need ii+1 for the site index because numbering starts from 0 in python\n",
        "  \"\"\"\n",
        "  spreading = 0\n",
        "  for ii in range(N):\n",
        "    spreading += abs( (ii+1) - (N+1)/2) * vec[ii]\n",
        "  \n",
        "  return spreading\n",
        "\n",
        "#TROTTER\n",
        "#hamiltonian of the systems which will evolve\n",
        "U = 1.\n",
        "H_J = [\n",
        "       op + of.hermitian_conjugated(op) for op in (\n",
        "                       FermionOperator(\n",
        "                                      ((i,1), (i+2,0)), coefficient = -J\n",
        "                                      ) \n",
        "                       for i in range(N_qubits - 2)\n",
        "       )]\n",
        "H_U = [\n",
        "       op  for op in \n",
        "      (\n",
        "          FermionOperator(\n",
        "               ((i,1), (i,0), (i+1, 1), (i+1,0)), coefficient = U  \n",
        "               )\n",
        "          for i in range(0, N_qubits, 2)\n",
        "       )\n",
        "]\n",
        "\n",
        "dt = 0.1\n",
        "trotter_steps = 30\n",
        "\n",
        "#do the trotter steps, with separated J and U terms exponentials\n",
        "hop =  sum(H_J)\n",
        "coulomb = sum(H_U)\n",
        "\n",
        "#copy for the loop, keeping the wfn is also nice\n",
        "wave = initial\n",
        "t = 0\n",
        "#you should put the initial values here; I'm going to put zero: is it true? I think so because we have a Gaussian\n",
        "charge_spread = []\n",
        "spin_spread = []\n",
        "times = [0]\n",
        "#step zero\n",
        "charge_spread.append(spread(charge, N))\n",
        "spin_spread.append(spread(spin, N))\n",
        "\n",
        "for step in range(trotter_steps):\n",
        "\n",
        "  #you can't store the unitary separately with matrices this big \n",
        "  wave = scipy.sparse.linalg.expm_multiply(-1.j * of.get_sparse_operator(hop) * dt, wave)\n",
        "  wave = scipy.sparse.linalg.expm_multiply(-1.j * of.get_sparse_operator(coulomb) * dt, wave)\n",
        "\n",
        "  t += dt\n",
        "  \n",
        "  charge = []\n",
        "  spin = []\n",
        "  for i in range(N):\n",
        "    nup = ( np.conj(wave) * wave ) @ nops[2*i]\n",
        "    ndown =( np.conj(wave) * wave ) @ nops[2*i + 1]\n",
        "\n",
        "    charge.append(nup + ndown)\n",
        "    spin.append(nup - ndown)\n",
        "\n",
        "  times.append(t)\n",
        "  charge_spread.append(spread(charge, N))\n",
        "  spin_spread.append(spread(spin, N))\n",
        "\n",
        "\n",
        "plt.plot(times, charge_spread, '-o')\n",
        "plt.plot(times, spin_spread, '-o')\n",
        "plt.show()\n",
        "\n",
        "plt.plot(times, np.gradient(charge_spread, dt), '-o')\n",
        "plt.plot(times, np.gradient(spin_spread, dt), '-o')\n",
        "\n",
        "plt.show()"
      ],
      "metadata": {
        "colab": {
          "base_uri": "https://localhost:8080/",
          "height": 673
        },
        "id": "4K9EvXq2p8QF",
        "outputId": "6629d7e5-2b91-4ff0-a742-f563d94afe9b"
      },
      "execution_count": null,
      "outputs": [
        {
          "output_type": "stream",
          "name": "stdout",
          "text": [
            "Sector N = 4 : S_z = 0\n",
            "a'00000011'b'00000011' (1+0j)\n",
            "65536 65536\n"
          ]
        },
        {
          "output_type": "stream",
          "name": "stderr",
          "text": [
            "/usr/local/lib/python3.7/dist-packages/matplotlib/cbook/__init__.py:1317: ComplexWarning: Casting complex values to real discards the imaginary part\n",
            "  return np.asarray(x, float)\n"
          ]
        },
        {
          "output_type": "display_data",
          "data": {
            "text/plain": [
              "<Figure size 432x288 with 1 Axes>"
            ],
            "image/png": "[encoded data removed]"
          },
          "metadata": {
            "needs_background": "light"
          }
        },
        {
          "output_type": "stream",
          "name": "stderr",
          "text": [
            "/usr/local/lib/python3.7/dist-packages/matplotlib/cbook/__init__.py:1317: ComplexWarning: Casting complex values to real discards the imaginary part\n",
            "  return np.asarray(x, float)\n",
            "/usr/local/lib/python3.7/dist-packages/matplotlib/cbook/__init__.py:1317: ComplexWarning: Casting complex values to real discards the imaginary part\n",
            "  return np.asarray(x, float)\n"
          ]
        },
        {
          "output_type": "display_data",
          "data": {
            "text/plain": [
              "<Figure size 432x288 with 1 Axes>"
            ],
            "image/png": "[encoded data removed]"
          },
          "metadata": {
            "needs_background": "light"
          }
        }
      ]
    },
    {
      "cell_type": "markdown",
      "source": [
        "# Initial State Preparation\n",
        "Qual è il problema? Che Nup = Ndown = 2 e un certo spin totale (S_z = 0) diventano numeri quantici del problema, che rimane in questo settore.\n",
        "FQE è fatto apposta per sfruttare le simmetrie: possiamo fare evolvere uno stato verso il ground state mantenendolo in questa parte piccola dello spazio di Hilbert"
      ],
      "metadata": {
        "id": "sh5G0V3WU9ge"
      }
    },
    {
      "cell_type": "code",
      "source": [
        "try:\n",
        "  import cirq\n",
        "except ImportError:\n",
        "  !pip install cirq --quiet\n",
        "\n",
        "\"\"\"Gate K from unitary\"\"\"\n",
        "class K_gate(cirq.Gate):\n",
        "    def __init__(self, theta):\n",
        "        super(K_gate, self)\n",
        "        self.theta = theta\n",
        "\n",
        "    def _num_qubits_(self):\n",
        "        return 2\n",
        "    \n",
        "    def _unitary_(self):\n",
        "        return np.array([\n",
        "            [1.0, 0.0, 0.0,  0.0],\n",
        "            [0.0,  np.cos(self.theta), -np.sin(self.theta)* 1.0j,  0.0],\n",
        "            [0.0,  np.sin(self.theta)*1.0j, np.cos(self.theta),  0.0],\n",
        "            [0.0,  0.0, 0.0, 1.0]\n",
        "        ]) \n",
        "    \n",
        "    def _circuit_diagram_info_(self, args):\n",
        "        return f\"K({self.theta})\", \"K\"\n",
        "\n",
        "\n"
      ],
      "metadata": {
        "id": "ip5xf98IOhUa"
      },
      "execution_count": null,
      "outputs": []
    },
    {
      "cell_type": "markdown",
      "source": [
        "# Tentativo di implementare il circuito del paper\n",
        "Fallito perché i loro theta e phi sono scelti di volta in volta, quindi non posso garantire la conservazione della carica senza dati più completi."
      ],
      "metadata": {
        "id": "KvuuF5x3f13w"
      }
    },
    {
      "cell_type": "code",
      "source": [
        "import numpy as np\n",
        "\n",
        "import matplotlib.pyplot as plt\n",
        "\n",
        "try:\n",
        "    import openfermion as of\n",
        "except ImportError:\n",
        "    !pip install -q git+https://github.com/quantumlib/OpenFermion.git@master#egg=openfermion \n",
        "    import openfermion as of\n",
        "\n",
        "try:\n",
        "    import cirq\n",
        "except ImportError:\n",
        "    !pip install cirq --quiet\n",
        "    import cirq\n",
        "\n",
        "try:\n",
        "    import fqe\n",
        "except ImportError:\n",
        "    # TODO: Change to `pip install fqe --quiet` when FQE>0.1.0 is released.\n",
        "    !pip install git+https://github.com/quantumlib/OpenFermion-FQE --quiet\n",
        "    import fqe\n",
        "\n",
        "from openfermion import FermionOperator\n",
        "from fqe.algorithm.low_rank import evolve_fqe_givens_sector\n",
        "\n",
        "N = 8\n",
        "N_qubits = 2*N\n",
        "\n",
        "\n",
        "#------------------------------------------------------------------------------------------------------------------------------------------------------\n",
        "#----------------------------------------------Hopping term-------------\n",
        "J = 1.\n",
        "hopping_fqe = np.diag([-J]*(N-1), k = 1) + np.diag([-J]*(N-1), k = -1)   #k is offset from diagonal\n",
        "\n",
        "#------------------------------------------------------------------------------------------------------------------------------\n",
        "#-----------------------------------------Interaction potential---------------------------------------------------------------\n",
        "L = 4\n",
        "m = 4.5\n",
        "sigma = 1\n",
        "\n",
        "#do it only for the up qubits\n",
        "sites = np.arange(1, N+1)\n",
        "potential_fqe = np.diag([-L * np.exp( -0.5 * \n",
        "                                (site-m)**2 / sigma**2  ) for site in sites\n",
        "                   ])\n",
        "\n",
        "#to visualize potential; slows code\n",
        "#plt.plot(sites, np.diag(potential_fqe), 'o')\n",
        "\n",
        "\n",
        "#-------------------------------------------------------------------------------------------------------------\n",
        "#------------------------------------- WAVEFUNCTION INITIALIZATION--------------------------------------------\n",
        "\n",
        "\n",
        "\n",
        "#https://github.com/quantumlib/OpenFermion-FQE/blob/v0.1.0/src/fqe/wavefunction.py#L47-L1286\n",
        "# first 3 parameters: number of fermionic particles, z component of angular momentum, number of spatial orbitals\n",
        "\"\"\"\n",
        "What follows, init_wave = fqe.Wavefunction([[N, 0, N2]]),  prints \n",
        "Sector N = 2 : S_z = 0\n",
        "a'0001'b'0001' (1+0j)\n",
        "where N, with hartree-fock, is how many ones there are, and N2 = 4 gives 0001, there would be 8 qubits for up and down for #orbitals = N2 = 8\n",
        "\"\"\"\n",
        "init_wave = fqe.Wavefunction([[N//2, 0, N]])\n",
        "init_wave.set_wfn(strategy = 'hartree-fock')\n",
        "init_wave.print_wfn() \n",
        "\n",
        "#this would give the lowest state for Nup = Ndown = 2, IF the Hamiltonian was diagonal/ that of an harmonic oscillator, which can use creation\n",
        "#and annihilation operators directly\n",
        "\n",
        "ham_down = hopping_fqe\n",
        "ham_up = ham_down + potential_fqe\n",
        "\n",
        "\n",
        "#the fermion operator gets digested into fqe excitation operator g for H = eps (g + g^\\dagger)\n",
        "#init_wave.time_evolve(1.0, ham_up)\n",
        "#init_wave.print_wfn()   #nothing seems to change \n",
        "\n",
        "\n",
        "_, eig_up = np.linalg.eigh(ham_up)\n",
        "_, eig_down = np.linalg.eigh(ham_down)\n",
        "\n",
        "#Rotate |00...011> |00...011> set for a diagonal hamiltonian to the system initial state \n",
        "init_wave = evolve_fqe_givens_sector(init_wave, eig_up, sector='alpha')\n",
        "init_wave = evolve_fqe_givens_sector(init_wave, eig_down, sector='beta')\n",
        "\n",
        "\n",
        "#check normalization\n",
        "assert np.isclose(np.linalg.norm(fqe.to_cirq(init_wave)), 1)\n",
        "\n",
        "#---------------------------------------------------------------------------------------------------------------------------\n",
        "#to cirq; apparatus to express operators\n",
        "initial = fqe.to_cirq(init_wave)\n",
        "\n",
        "\n",
        "import scipy\n",
        "from scipy import sparse\n",
        "\n",
        "# n = [0 0]\n",
        "#     [0 1]\n",
        "# n tprod I ends in a diagonal [0,0 | 1,1] and other I to the right keeps doubling 0s and 1s separatedely. I tprod n ends in [0,1 | 0,1], doubling the given list\n",
        "nops = []\n",
        "for i in range(N_qubits):   #2*N to do it for all qubits\n",
        "  i = int(i)\n",
        "  diag = [0] * 2**(N_qubits-i-1) + [1] * 2**(N_qubits-i-1)\n",
        "  diag = diag * 2**i\n",
        "  nops.append(diag)\n",
        "\n",
        "charge = []\n",
        "spin = []\n",
        "sites = np.arange(1,N+1)\n",
        "\n",
        "print(len(initial), len(nops[0]))\n",
        "\n",
        "for i in range(N):\n",
        "  nup = ( np.conj(initial) * initial ) @ nops[2*i]\n",
        "  ndown =( np.conj(initial) * initial ) @ nops[2*i + 1]\n",
        "\n",
        "  charge.append(nup + ndown)\n",
        "  spin.append(nup - ndown)\n",
        "\n",
        "assert np.isclose(sum(charge), 4)\n",
        "assert np.isclose(sum(spin), 0)\n",
        "\n",
        "#-------------------------------------------------------------------------------------------------------------------------------------------------------------------------\n",
        "#-------------------------------------------------------------------------------------------------------------------------------------------------------------------------\n",
        "#-------------------------------------------------------------  EXPERIMENTAL CIRCUIT               -----------------------------------------------------------------------\n",
        "#-------------------------------------------------------------------------------------------------------------------------------------------------------------------------\n",
        "#-------------------------------------------------------------------------------------------------------------------------------------------------------------------------\n",
        "\n",
        "\n",
        "#insert angles theta and phi in Trotter step\n",
        "theta = 0.783\n",
        "phase = 0.138\n",
        "\n",
        "a,b,c,d,e,f,g,h = cirq.LineQubit.range(8)\n",
        "A,B,C,D,E,F,G,H = cirq.LineQubit.range(8,16)\n",
        "\n",
        "up_spin = [a,b,c,d,e,f,g,h]\n",
        "down_spin = [A,B,C,D,E,F,G,H]\n",
        "\n",
        "N = len(up_spin) #8 fermions\n",
        "circuit = cirq.Circuit()\n",
        "\n",
        "#append 4 K gates in up spin fermions (0 to 7), then down spin ones (8 to 15), J odd in FIG.1 of paper\n",
        "circuit.append(K_gate(theta)(up_spin[i], up_spin[i+1]) for i in range(N) if i%2 == 0)\n",
        "circuit.append(K_gate(theta)(down_spin[i], down_spin[i+1]) for i in range(N) if i%2 == 0)\n",
        "\n",
        "#append cphase (U odd), only coupling 0,2,4,6 (in the figure 1,3,5,7, justifying the name)\n",
        "circuit.append(cirq.cphase(phase)(up_spin[i], down_spin[i]) for i in range(N-1) if i%2 == 0)\n",
        "\n",
        "#append iSWAP coupling 1,2 - 3,4 - 5,6 and the same for spin down qubits\n",
        "circuit.append(cirq.ISWAP(up_spin[i], up_spin[i+1]) for i in range(1, N-2) if i%2 == 1 )\n",
        "circuit.append(cirq.ISWAP(down_spin[i], down_spin[i+1]) for i in range(1, N-2) if i%2 == 1 )\n",
        "\n",
        "#cphase tra 2,4,6,7 e gli spin down corrispondenti\n",
        "\n",
        "circuit.append(cirq.cphase(phase)(up_spin[i], down_spin[i]) for i in range(1,N-1) if i%2 == 0)\n",
        "#tra ultimo ed ultimo, forse meno leggibile che con [7], visto che non devo riadattare\n",
        "#visto che non sono coinvolti negli swap, cirq lo sposta a prima di questi in automatico\n",
        "circuit.append(cirq.cphase(phase)(up_spin[N-1], down_spin[N-1])) \n",
        "\n",
        "#ultimo step, K tra 1,2 - 3,4 - 5,6\n",
        "circuit.append(K_gate(theta)(up_spin[i], up_spin[i+1]) for i in range(N-2) if i%2 == 1)\n",
        "circuit.append(K_gate(theta)(down_spin[i], down_spin[i+1]) for i in range(N-2) if i%2 == 1)\n",
        "\n",
        "print(circuit)\n",
        "\n",
        "#ordering up,down,up,down,... with ups on even sites, instead of a paper like order\n",
        "qubits = []\n",
        "for ii in range(N):\n",
        "  qubits.append(up_spin[ii])\n",
        "  qubits.append(down_spin[ii])\n",
        "\n",
        "#simulation\n",
        "simulator = cirq.Simulator()\n",
        "result = simulator.simulate(circuit*4, qubit_order=qubits, initial_state=initial)\n",
        "simulated_state = result.final_state_vector\n",
        "\n",
        "\n",
        "#--------------------------PRINTING THINGS-----------------------------------------------------------------------------\n",
        "nops = []\n",
        "for i in range(N_qubits):   #2*N to do it for all qubits\n",
        "  i = int(i)\n",
        "  diag = [0] * 2**(N_qubits-i-1) + [1] * 2**(N_qubits-i-1)\n",
        "  diag = diag * 2**i\n",
        "  nops.append(diag)\n",
        "\n",
        "charge = []\n",
        "spin = []\n",
        "sites = np.arange(1,N+1)\n",
        "\n",
        "\n",
        "for i in range(N):\n",
        "  nup = ( np.conj(simulated_state) * simulated_state) @ nops[2*i]\n",
        "  ndown =( np.conj(simulated_state) * simulated_state ) @ nops[2*i + 1]\n",
        "\n",
        "  charge.append(nup + ndown)\n",
        "  spin.append(nup - ndown)\n",
        "\n",
        "plt.plot(sites, charge, '-o')\n",
        "plt.plot(sites, spin, '-o')\n",
        "\n",
        "assert np.isclose(sum(charge), 4)\n",
        "assert np.isclose(sum(spin), 0)"
      ],
      "metadata": {
        "colab": {
          "base_uri": "https://localhost:8080/",
          "height": 1000
        },
        "id": "8lQjnTkfXRra",
        "outputId": "b4bf9d7a-727e-4c64-ea39-31272f36504b"
      },
      "execution_count": null,
      "outputs": [
        {
          "output_type": "stream",
          "name": "stdout",
          "text": [
            "Sector N = 4 : S_z = 0\n",
            "a'00000011'b'00000011' (1+0j)\n",
            "65536 65536\n",
            "                  ┌───────────────────────────────────┐           ┌─────────────────────┐\n",
            "0: ────K(0.783)────@───────────────────────────────────────────────────────────────────────────────────\n",
            "       │           │\n",
            "1: ────K───────────┼──────────────────────────────────────iSwap─────────────────────────────K(0.783)───\n",
            "                   │                                      │                                 │\n",
            "2: ────K(0.783)────┼──────@───────────────────────────────iSwap────@────────────────────────K──────────\n",
            "       │           │      │                                        │\n",
            "3: ────K───────────┼──────┼───────────────────────────────iSwap────┼────────────────────────K(0.783)───\n",
            "                   │      │                               │        │                        │\n",
            "4: ────K(0.783)────┼──────┼──────@────────────────────────iSwap────┼──────@─────────────────K──────────\n",
            "       │           │      │      │                                 │      │\n",
            "5: ────K───────────┼──────┼──────┼────────────────────────iSwap────┼──────┼─────────────────K(0.783)───\n",
            "                   │      │      │                        │        │      │                 │\n",
            "6: ────K(0.783)────┼──────┼──────┼──────@─────────────────iSwap────┼──────┼──────@──────────K──────────\n",
            "       │           │      │      │      │                          │      │      │\n",
            "7: ────K───────────┼──────┼──────┼──────┼──────@───────────────────┼──────┼──────┼─────────────────────\n",
            "                   │      │      │      │      │                   │      │      │\n",
            "8: ────K(0.783)────@^0.044┼──────┼──────┼──────┼───────────────────┼──────┼──────┼─────────────────────\n",
            "       │                  │      │      │      │                   │      │      │\n",
            "9: ────K──────────────────┼──────┼──────┼──────┼──────────iSwap────┼──────┼──────┼──────────K(0.783)───\n",
            "                          │      │      │      │          │        │      │      │          │\n",
            "10: ───K(0.783)───────────@^0.044┼──────┼──────┼──────────iSwap────@^0.044┼──────┼──────────K──────────\n",
            "       │                         │      │      │                          │      │\n",
            "11: ───K─────────────────────────┼──────┼──────┼──────────iSwap───────────┼──────┼──────────K(0.783)───\n",
            "                                 │      │      │          │               │      │          │\n",
            "12: ───K(0.783)──────────────────@^0.044┼──────┼──────────iSwap───────────@^0.044┼──────────K──────────\n",
            "       │                                │      │                                 │\n",
            "13: ───K────────────────────────────────┼──────┼──────────iSwap──────────────────┼──────────K(0.783)───\n",
            "                                        │      │          │                      │          │\n",
            "14: ───K(0.783)─────────────────────────@^0.044┼──────────iSwap──────────────────@^0.044────K──────────\n",
            "       │                                       │\n",
            "15: ───K───────────────────────────────────────@^0.044─────────────────────────────────────────────────\n",
            "                  └───────────────────────────────────┘           └─────────────────────┘\n"
          ]
        },
        {
          "output_type": "stream",
          "name": "stderr",
          "text": [
            "/usr/local/lib/python3.7/dist-packages/matplotlib/cbook/__init__.py:1317: ComplexWarning: Casting complex values to real discards the imaginary part\n",
            "  return np.asarray(x, float)\n",
            "/usr/local/lib/python3.7/dist-packages/matplotlib/cbook/__init__.py:1317: ComplexWarning: Casting complex values to real discards the imaginary part\n",
            "  return np.asarray(x, float)\n"
          ]
        },
        {
          "output_type": "error",
          "ename": "AssertionError",
          "evalue": "ignored",
          "traceback": [
            "\u001b[0;31m---------------------------------------------------------------------------\u001b[0m",
            "\u001b[0;31mAssertionError\u001b[0m                            Traceback (most recent call last)",
            "\u001b[0;32m<ipython-input-7-6cfc8c1955ac>\u001b[0m in \u001b[0;36m<module>\u001b[0;34m()\u001b[0m\n\u001b[1;32m    203\u001b[0m \u001b[0mplt\u001b[0m\u001b[0;34m.\u001b[0m\u001b[0mplot\u001b[0m\u001b[0;34m(\u001b[0m\u001b[0msites\u001b[0m\u001b[0;34m,\u001b[0m \u001b[0mspin\u001b[0m\u001b[0;34m,\u001b[0m \u001b[0;34m'-o'\u001b[0m\u001b[0;34m)\u001b[0m\u001b[0;34m\u001b[0m\u001b[0;34m\u001b[0m\u001b[0m\n\u001b[1;32m    204\u001b[0m \u001b[0;34m\u001b[0m\u001b[0m\n\u001b[0;32m--> 205\u001b[0;31m \u001b[0;32massert\u001b[0m \u001b[0mnp\u001b[0m\u001b[0;34m.\u001b[0m\u001b[0misclose\u001b[0m\u001b[0;34m(\u001b[0m\u001b[0msum\u001b[0m\u001b[0;34m(\u001b[0m\u001b[0mcharge\u001b[0m\u001b[0;34m)\u001b[0m\u001b[0;34m,\u001b[0m \u001b[0;36m4\u001b[0m\u001b[0;34m)\u001b[0m\u001b[0;34m\u001b[0m\u001b[0;34m\u001b[0m\u001b[0m\n\u001b[0m\u001b[1;32m    206\u001b[0m \u001b[0;32massert\u001b[0m \u001b[0mnp\u001b[0m\u001b[0;34m.\u001b[0m\u001b[0misclose\u001b[0m\u001b[0;34m(\u001b[0m\u001b[0msum\u001b[0m\u001b[0;34m(\u001b[0m\u001b[0mspin\u001b[0m\u001b[0;34m)\u001b[0m\u001b[0;34m,\u001b[0m \u001b[0;36m0\u001b[0m\u001b[0;34m)\u001b[0m\u001b[0;34m\u001b[0m\u001b[0;34m\u001b[0m\u001b[0m\n",
            "\u001b[0;31mAssertionError\u001b[0m: "
          ]
        },
        {
          "output_type": "display_data",
          "data": {
            "text/plain": [
              "<Figure size 432x288 with 1 Axes>"
            ],
            "image/png": "[encoded data removed]"
          },
          "metadata": {
            "needs_background": "light"
          }
        }
      ]
    },
    {
      "cell_type": "markdown",
      "source": [
        "# Nup = Ndown = 3"
      ],
      "metadata": {
        "id": "ED3T59tygERF"
      }
    },
    {
      "cell_type": "code",
      "source": [
        "import numpy as np\n",
        "import matplotlib.pyplot as plt\n",
        "\n",
        "try:\n",
        "    import openfermion as of\n",
        "except ImportError:\n",
        "    !pip install -q git+https://github.com/quantumlib/OpenFermion.git@master#egg=openfermion \n",
        "    import openfermion as of\n",
        "\n",
        "try:\n",
        "    import cirq\n",
        "except ImportError:\n",
        "    !pip install cirq --quiet\n",
        "    import cirq\n",
        "\n",
        "try:\n",
        "    import fqe\n",
        "except ImportError:\n",
        "    # TODO: Change to `pip install fqe --quiet` when FQE>0.1.0 is released.\n",
        "    !pip install git+https://github.com/quantumlib/OpenFermion-FQE --quiet\n",
        "    import fqe\n",
        "\n",
        "from openfermion import FermionOperator\n",
        "from fqe.algorithm.low_rank import evolve_fqe_givens_sector\n",
        "\n",
        "N = 8\n",
        "N_qubits = 2*N\n",
        "\n",
        "\n",
        "#------------------------------------------------------------------------------------------------------------------------------------------------------\n",
        "#----------------------------------------------Hopping term-------------\n",
        "J = 1.\n",
        "hopping_fqe = np.diag([-J]*(N-1), k = 1) + np.diag([-J]*(N-1), k = -1)   #k is offset from diagonal\n",
        "\n",
        "#------------------------------------------------------------------------------------------------------------------------------\n",
        "#-----------------------------------------Interaction potential---------------------------------------------------------------\n",
        "L = 4\n",
        "m = 4.5\n",
        "sigma = 1\n",
        "\n",
        "#do it only for the up qubits\n",
        "sites = np.arange(1, N+1)\n",
        "potential_fqe = np.diag([-L * np.exp( -0.5 * \n",
        "                                (site-m)**2 / sigma**2  ) for site in sites\n",
        "                   ])\n",
        "\n",
        "#to visualize potential; slows code\n",
        "#plt.plot(sites, np.diag(potential_fqe), 'o')\n",
        "\n",
        "\n",
        "#-------------------------------------------------------------------------------------------------------------\n",
        "#------------------------------------- WAVEFUNCTION INITIALIZATION--------------------------------------------\n",
        "\n",
        "\n",
        "\n",
        "#https://github.com/quantumlib/OpenFermion-FQE/blob/v0.1.0/src/fqe/wavefunction.py#L47-L1286\n",
        "# first 3 parameters: number of fermionic particles, z component of angular momentum, number of spatial orbitals\n",
        "\"\"\"\n",
        "What follows, init_wave = fqe.Wavefunction([[2, 0, 4]]),  prints \n",
        "Sector N = 2 : S_z = 0\n",
        "a'0001'b'0001' (1+0j)\n",
        "where N = 2, with hartree-fock, is how many ones there are, and N2 = 4 leads to 0001 0001, there would be 8 qubits for up and down for #orbitals = N2 = 8\n",
        "\"\"\"\n",
        "init_wave = fqe.Wavefunction([[6, 0, N]])\n",
        "init_wave.set_wfn(strategy = 'hartree-fock')\n",
        "init_wave.print_wfn() \n",
        "\n",
        "#this would give the lowest state for Nup = Ndown = 2, IF the Hamiltonian was diagonal/ that of an harmonic oscillator, which can use creation\n",
        "#and annihilation operators directly\n",
        "\n",
        "ham_down = hopping_fqe\n",
        "ham_up = ham_down + potential_fqe\n",
        "\n",
        "\n",
        "#the fermion operator gets digested into fqe excitation operator g for H = eps (g + g^\\dagger)\n",
        "#init_wave.time_evolve(1.0, ham_up)\n",
        "#init_wave.print_wfn()   #nothing seems to change \n",
        "\n",
        "\n",
        "_, eig_up = np.linalg.eigh(ham_up)\n",
        "_, eig_down = np.linalg.eigh(ham_down)\n",
        "\n",
        "#Rotate |00...011> |00...011> set for a diagonal hamiltonian to the system initial state \n",
        "init_wave = evolve_fqe_givens_sector(init_wave, eig_up, sector='alpha')\n",
        "init_wave = evolve_fqe_givens_sector(init_wave, eig_down, sector='beta')\n",
        "\n",
        "\n",
        "#check normalization\n",
        "assert np.isclose(np.linalg.norm(fqe.to_cirq(init_wave)), 1)\n",
        "\n",
        "#---------------------------------------------------------------------------------------------------------------------------\n",
        "#to cirq; apparatus to express operators\n",
        "initial = fqe.to_cirq(init_wave)\n",
        "\n",
        "\n",
        "import scipy\n",
        "from scipy import sparse\n",
        "\n",
        "# n = [0 0]\n",
        "#     [0 1]\n",
        "# n tprod I ends in a diagonal [0,0 | 1,1] and other I to the right keeps doubling 0s and 1s separatedely. I tprod n ends in [0,1 | 0,1], doubling the given list\n",
        "nops = []\n",
        "for i in range(N_qubits):   #2*N to do it for all qubits\n",
        "  i = int(i)\n",
        "  diag = [0] * 2**(N_qubits-i-1) + [1] * 2**(N_qubits-i-1)\n",
        "  diag = diag * 2**i\n",
        "  nops.append(diag)\n",
        "\n",
        "charge = []\n",
        "spin = []\n",
        "sites = np.arange(1,N+1)\n",
        "\n",
        "print(len(initial), len(nops[0]))\n",
        "\n",
        "for i in range(N):\n",
        "  nup = ( np.conj(initial) * initial ) @ nops[2*i]\n",
        "  ndown =( np.conj(initial) * initial ) @ nops[2*i + 1]\n",
        "\n",
        "  charge.append(nup + ndown)\n",
        "  spin.append(nup - ndown)\n",
        "\n",
        "plt.plot(sites, charge, '-o')\n",
        "plt.plot(sites, spin, '-o')\n",
        "\n",
        "assert np.isclose(sum(charge), 6)\n",
        "assert np.isclose(sum(spin), 0)"
      ],
      "metadata": {
        "colab": {
          "base_uri": "https://localhost:8080/",
          "height": 387
        },
        "id": "n3aXREOmczws",
        "outputId": "c1d0f639-348d-42f2-e8da-8c6b119866c3"
      },
      "execution_count": null,
      "outputs": [
        {
          "output_type": "stream",
          "name": "stdout",
          "text": [
            "Sector N = 6 : S_z = 0\n",
            "a'00000111'b'00000111' (1+0j)\n",
            "65536 65536\n"
          ]
        },
        {
          "output_type": "stream",
          "name": "stderr",
          "text": [
            "/usr/local/lib/python3.7/dist-packages/matplotlib/cbook/__init__.py:1317: ComplexWarning: Casting complex values to real discards the imaginary part\n",
            "  return np.asarray(x, float)\n",
            "/usr/local/lib/python3.7/dist-packages/matplotlib/cbook/__init__.py:1317: ComplexWarning: Casting complex values to real discards the imaginary part\n",
            "  return np.asarray(x, float)\n"
          ]
        },
        {
          "output_type": "display_data",
          "data": {
            "text/plain": [
              "<Figure size 432x288 with 1 Axes>"
            ],
            "image/png": "[encoded data removed]"
          },
          "metadata": {
            "needs_background": "light"
          }
        }
      ]
    }
  ]
}