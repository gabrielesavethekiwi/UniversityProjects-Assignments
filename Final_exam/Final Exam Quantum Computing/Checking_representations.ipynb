{
  "nbformat": 4,
  "nbformat_minor": 0,
  "metadata": {
    "colab": {
      "name": "Checking_representations.ipynb",
      "provenance": []
    },
    "kernelspec": {
      "name": "python3",
      "display_name": "Python 3"
    },
    "language_info": {
      "name": "python"
    }
  },
  "cells": [
    {
      "cell_type": "code",
      "source": [
        "#Libraries\n",
        "try:\n",
        "    import openfermion as of\n",
        "except ImportError:\n",
        "    !pip install -q git+https://github.com/quantumlib/OpenFermion.git@master#egg=openfermion \n",
        "    import openfermion as of\n",
        "\n",
        "try:\n",
        "    import cirq\n",
        "except ImportError:\n",
        "    !pip install cirq --quiet\n",
        "    import cirq\n",
        "\n",
        "try:\n",
        "    import fqe\n",
        "except ImportError:\n",
        "    !pip install git+https://github.com/quantumlib/OpenFermion-FQE --quiet\n",
        "    import fqe\n",
        "\n",
        "from openfermion import FermionOperator\n",
        "import numpy as np\n",
        "from scipy.sparse import csr_matrix\n"
      ],
      "metadata": {
        "id": "ehCg7ff_zTj5"
      },
      "execution_count": null,
      "outputs": []
    },
    {
      "cell_type": "markdown",
      "source": [
        "# Comparing OpenFermion and \"by hand\" Hamiltonian\n",
        "We proceed with $N = 4$ fermions, to print matrices without filling up the RAM.\n",
        "Openfermion has the module *get_sparse_operator* which converts from the annihilation and creation operator basis to a matrix on the qubits Hilbert space.\n",
        "This means we should be able to obtain the same Hamiltonian \"by hand\", using tensor products: this has been verified, and now *assert* statements replace prints and other tests."
      ],
      "metadata": {
        "id": "jla6ljMEEjcO"
      }
    },
    {
      "cell_type": "code",
      "execution_count": null,
      "metadata": {
        "id": "aDQX-gmfsMT7"
      },
      "outputs": [],
      "source": [
        "N = 4\n",
        "N_qubits = 2*N\n",
        "\n",
        "a = np.matrix(([0, 1], [0, 0]))\n",
        "a_dagger = a.T\n",
        "sigma_z = np.matrix(([1,0], [0,-1]))\n",
        "\n",
        "kill_op = [] #will contain annihilation operators for each site\n",
        "\n",
        "# a_1 = a ⊗ I(2**(N_qubits-1)), a_2 = sigma_z ⊗ a ⊗ I(2**(N_qubits -1 -1)), ..., a_i = sigma_z^i ⊗ a ⊗ I(2**(N_qubits -1 -i))\n",
        "\n",
        "for ii in range(N_qubits):\n",
        "  operator = a\n",
        "  # sigma_z^i ⊗ a, adding sigma_z to the left i times\n",
        "  for jj in range(ii):\n",
        "    operator = np.kron(sigma_z, operator)\n",
        "  #I(2**N-1-i) to the right\n",
        "  operator = np.kron(operator, np.eye(2**(N_qubits-1-ii))) \n",
        "  assert(operator.shape[0] == 2**(N_qubits)) #check dimension\n",
        "\n",
        "  kill_op.append(operator)\n",
        "\n",
        "#create a list of creation operators in matrix form\n",
        "born_op = []\n",
        "for el in kill_op:\n",
        "  born_op.append(el.H) #no need for Hermitian conjugate in this representation\n",
        "  \n",
        "n_op = [c * d for (c,d) in zip(born_op, kill_op)] #c = create, d = destruct\n",
        "\n",
        "#check n1\n",
        "n1_to_check = np.kron(a_dagger @ a, np.eye(2**(N_qubits -1)))\n",
        "assert((n_op[0] == n1_to_check).all())\n",
        "\n",
        "#converting to sparse\n",
        "kill_op = [csr_matrix(el) for el in kill_op]\n",
        "born_op = [csr_matrix(el) for el in born_op]\n",
        "n_op = [csr_matrix(el) for el in n_op]\n",
        "\n",
        "#building the Hamiltonian\n",
        "J = 1\n",
        "H_J = []\n",
        "\n",
        "#sum_j sum_nu for j in [1, L-1], with L = N sites, separating nu = up from down\n",
        "for i in range(0, 2*N - 2 , 2):\n",
        "  H_J.append(-J*born_op[i] @ kill_op[i+2])\n",
        "  H_J.append(-J*born_op[i+2] @ kill_op[i])   #hermitian conjugated\n",
        "for i in range(1, 2*N - 2 , 2):\n",
        "  H_J.append(-J*born_op[i] @ kill_op[i+2])\n",
        "  H_J.append(-J*born_op[i+2] @ kill_op[i])\n",
        "\n",
        "hopping_term = csr_matrix.todense(sum(H_J))\n",
        "\n",
        "#CHECK: matrix coincides with openfermion one\n",
        "H_J_of = [op + of.hermitian_conjugated(op) for op in (FermionOperator(((i,1), (i+2,0)), coefficient = -J) \n",
        "          for i in range(N_qubits - 2))]\n",
        "\n",
        "assert (of.get_sparse_operator(sum(H_J_of)).todense().real == csr_matrix.todense(sum(H_J)) ).all()\n",
        "\n",
        "#----------- U matrix--------------\n",
        "U = 1\n",
        "H_U = []\n",
        "for i in range(0,N):\n",
        "  H_U.append(U*n_op[2*i] @ n_op[2*i+1])\n",
        "\n",
        "coulomb_term = (csr_matrix.todense(sum(H_U)))\n",
        "\n",
        "#openfermion version\n",
        "\n",
        "H_U_of = [op  for op in (FermionOperator(((i,1), (i,0), (i+1, 1), (i+1,0)), coefficient = U)\n",
        "          for i in range(0, N_qubits, 2))]\n",
        "\n",
        "assert (of.get_sparse_operator(sum(H_U_of)).todense().real == csr_matrix.todense(sum(H_U))).all()\n",
        "\n",
        "\n",
        "#-----------------------------------------Interaction potential---------------------------------------------------------------\n",
        "L = 4\n",
        "m = 4.5\n",
        "sigma = 1\n",
        "\n",
        "#do it only for the up qubits\n",
        "epsilon = [-4 * np.exp( 0.5 * ((i+1)-m)**2 / sigma**2  ) for i in range(N)]\n",
        "H_epsilon = []\n",
        "\n",
        "#construct sum epsilon * n_i on up; n_op has the right expression for considering the whole qubit set (also down, from a tensor prod with I)\n",
        "for i in range(0, N_qubits, 2):\n",
        "  H_epsilon.append(epsilon[i//2] * n_op[i])\n",
        "\n",
        "local_potential =  (csr_matrix.todense(sum(H_epsilon)))\n",
        "assert(local_potential.shape[0] == 2**N_qubits)\n",
        "\n",
        "#Here openfermion would produce a smaller Hamiltonian, since it wouldn't act on odd sites\n"
      ]
    },
    {
      "cell_type": "markdown",
      "source": [
        "We can also check that Openfermion's own function to build a Fermi-Hubbard Hamiltonian coincides with our construction"
      ],
      "metadata": {
        "id": "kAE4fFHQdrzs"
      }
    },
    {
      "cell_type": "code",
      "source": [
        "hubbard = of.fermi_hubbard(1, N, tunneling = J, coulomb = U, periodic = False)\n",
        "assert (sum(H_U_of) + sum(H_J_of) == hubbard)"
      ],
      "metadata": {
        "id": "TZlWFqrbd0QK"
      },
      "execution_count": null,
      "outputs": []
    }
  ]
}